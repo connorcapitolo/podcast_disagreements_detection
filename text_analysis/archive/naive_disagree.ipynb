{
 "cells": [
  {
   "cell_type": "markdown",
   "metadata": {},
   "source": [
    "## Naive Text Disagreement Detection Function"
   ]
  },
  {
   "cell_type": "code",
   "execution_count": 1,
   "metadata": {},
   "outputs": [],
   "source": [
    "import json\n",
    "import pandas as pd\n",
    "import numpy as np\n",
    "%matplotlib inline"
   ]
  },
  {
   "cell_type": "code",
   "execution_count": 2,
   "metadata": {},
   "outputs": [],
   "source": [
    "# count how many times the words in word_list appear in the podcast script\n",
    "def word_count(signal_list, file_name):\n",
    "    # Opening JSON file\n",
    "    f = open(file_name)\n",
    "   \n",
    "    # returns JSON object as \n",
    "    # a dictionary\n",
    "    data = json.load(f)\n",
    "    f.close()\n",
    "    \n",
    "    count  = 0\n",
    "    found_list = []\n",
    "    \n",
    "    # extract all the words from the .json file\n",
    "    words_data = data['results'][-1]['alternatives'][0]['words']\n",
    "    \n",
    "    # go through all the words in the script\n",
    "    for i in range(len(words_data)):\n",
    "        script_word = words_data[i]\n",
    "        \n",
    "        # go through all teh signals\n",
    "        for signal_word in signal_list:\n",
    "            # match the current word in the script with the signal\n",
    "            if signal_word == script_word['word']:\n",
    "                count += 1\n",
    "                found_list.append(script_word)\n",
    "    \n",
    "    # the dataframe contains the start, end, speakerTag of the each word that matches the signal\n",
    "    df = pd.DataFrame(found_list)\n",
    "    \n",
    "    #return both the count and the dataframe\n",
    "    return count, df"
   ]
  },
  {
   "cell_type": "code",
   "execution_count": 3,
   "metadata": {},
   "outputs": [],
   "source": [
    "basic_signal_list = ['disagree']\n",
    "current_file_name = '6hoNS9LR1Lxb4EzMX72kXR.json'\n",
    "\n",
    "basic_signal_count, basic_signal_df = word_count(basic_signal_list, current_file_name)"
   ]
  },
  {
   "cell_type": "code",
   "execution_count": 4,
   "metadata": {},
   "outputs": [
    {
     "name": "stdout",
     "output_type": "stream",
     "text": [
      "1\n"
     ]
    },
    {
     "data": {
      "text/html": [
       "<div>\n",
       "<style scoped>\n",
       "    .dataframe tbody tr th:only-of-type {\n",
       "        vertical-align: middle;\n",
       "    }\n",
       "\n",
       "    .dataframe tbody tr th {\n",
       "        vertical-align: top;\n",
       "    }\n",
       "\n",
       "    .dataframe thead th {\n",
       "        text-align: right;\n",
       "    }\n",
       "</style>\n",
       "<table border=\"1\" class=\"dataframe\">\n",
       "  <thead>\n",
       "    <tr style=\"text-align: right;\">\n",
       "      <th></th>\n",
       "      <th>startTime</th>\n",
       "      <th>endTime</th>\n",
       "      <th>word</th>\n",
       "      <th>speakerTag</th>\n",
       "    </tr>\n",
       "  </thead>\n",
       "  <tbody>\n",
       "    <tr>\n",
       "      <th>0</th>\n",
       "      <td>2550.200s</td>\n",
       "      <td>2550.700s</td>\n",
       "      <td>disagree</td>\n",
       "      <td>3</td>\n",
       "    </tr>\n",
       "  </tbody>\n",
       "</table>\n",
       "</div>"
      ],
      "text/plain": [
       "   startTime    endTime      word  speakerTag\n",
       "0  2550.200s  2550.700s  disagree           3"
      ]
     },
     "execution_count": 4,
     "metadata": {},
     "output_type": "execute_result"
    }
   ],
   "source": [
    "print(basic_signal_count)\n",
    "basic_signal_df"
   ]
  },
  {
   "cell_type": "code",
   "execution_count": 5,
   "metadata": {},
   "outputs": [],
   "source": [
    "# back up signal lists\n",
    "# in case we want to use them\n",
    "toy_example_signal_list = ['disagree', 'no']\n",
    "lexicon = {}\n",
    "lexicon['analyticnegation'] = ['no', 'not']\n",
    "lexicon['contractionnegation'] = ['ain’t', 'aren’t', 'arent', 'aren’t', 'can’t', 'cannot', 'cant', 'couldn’t',\n",
    "                                  'couldnt', 'couldn’t', 'didn’t', 'didnt', 'didn’t', 'doesn’t', 'doesnt', 'doesn’t',\n",
    "                                  'don’t', 'don´t',\n",
    "                                  'dont', 'hadn’t', 'hadnt', 'hasn’t', 'hasnt', 'hasn’t', 'haven’t', 'havent',\n",
    "                                  'haven’t', 'havnt', 'isn’t', 'isnt', 'isn’t', 'mightnt', 'mightn’t', 'mustnt',\n",
    "                                  'mustn’t', 'n’t', 'n’t', 'shouldn’t', 'shouldn’t', 'shouldnt', 'wasn’t',\n",
    "                                  'wasnt', 'wasn’t', 'weren’t', 'werent', 'weren’t',\n",
    "                                  'won’t', 'wont', 'won’t', 'wouldn’t', 'wouldnt', 'wouldn’t']\n",
    "lexicon['syntheticnegation'] = ['neither', 'never', 'nor', 'none', 'nobody', 'noone', 'no-one']\n",
    "lexicon['wout'] = ['sans', 'without', 'w/o']"
   ]
  },
  {
   "cell_type": "code",
   "execution_count": null,
   "metadata": {},
   "outputs": [],
   "source": []
  }
 ],
 "metadata": {
  "kernelspec": {
   "display_name": "Python 3",
   "language": "python",
   "name": "python3"
  },
  "language_info": {
   "codemirror_mode": {
    "name": "ipython",
    "version": 3
   },
   "file_extension": ".py",
   "mimetype": "text/x-python",
   "name": "python",
   "nbconvert_exporter": "python",
   "pygments_lexer": "ipython3",
   "version": "3.7.4"
  }
 },
 "nbformat": 4,
 "nbformat_minor": 4
}
