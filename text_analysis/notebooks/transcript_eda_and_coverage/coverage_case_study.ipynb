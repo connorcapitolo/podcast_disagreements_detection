{
 "cells": [
  {
   "cell_type": "code",
   "execution_count": 1,
   "metadata": {},
   "outputs": [],
   "source": [
    "import json\n",
    "import pandas as pd\n",
    "import numpy as np\n",
    "import seaborn as sns\n",
    "from matplotlib.ticker import PercentFormatter\n",
    "from matplotlib.ticker import FormatStrFormatter\n",
    "import matplotlib.pyplot as plt\n",
    "%matplotlib inline"
   ]
  },
  {
   "cell_type": "code",
   "execution_count": 2,
   "metadata": {},
   "outputs": [],
   "source": [
    "# Opening JSON file\n",
    "f = open('6hoNS9LR1Lxb4EzMX72kXR.json')\n",
    "   \n",
    "# returns JSON object as \n",
    "# a dictionary\n",
    "data = json.load(f)\n",
    "\n",
    "# a list to store only the transcripts and start times\n",
    "new_list = []\n",
    "failed_list = []\n",
    "# Iterating through the json\n",
    "# list\n",
    "#for i in range(1,3):\n",
    "for i in range(1, len(data['results'])):\n",
    "    try:\n",
    "        script = data['results'][i]['alternatives'][0]['transcript']\n",
    "        start = data['results'][i]['alternatives'][0]['words'][0]['startTime']\n",
    "    \n",
    "        new_list.append((script, start))\n",
    "        \n",
    "    except:\n",
    "        failed_list.append(data['results'][i]['alternatives'][0])\n",
    "    \n",
    "f.close()"
   ]
  },
  {
   "cell_type": "code",
   "execution_count": 22,
   "metadata": {},
   "outputs": [
    {
     "data": {
      "text/plain": [
       "81"
      ]
     },
     "execution_count": 22,
     "metadata": {},
     "output_type": "execute_result"
    }
   ],
   "source": [
    "[y[1] for y in new_list].index('2405.800s')"
   ]
  },
  {
   "cell_type": "code",
   "execution_count": 23,
   "metadata": {},
   "outputs": [
    {
     "data": {
      "text/plain": [
       "94"
      ]
     },
     "execution_count": 23,
     "metadata": {},
     "output_type": "execute_result"
    }
   ],
   "source": [
    "[y[1] for y in new_list].index('2672.800s')"
   ]
  },
  {
   "cell_type": "code",
   "execution_count": 24,
   "metadata": {},
   "outputs": [],
   "source": [
    "dog_list = new_list[81:95]"
   ]
  },
  {
   "cell_type": "code",
   "execution_count": 6,
   "metadata": {},
   "outputs": [],
   "source": [
    "# speakers: \n",
    "# 1: man\n",
    "# 3: woman\n",
    "\n",
    "# script length: 2405.8 - 2667.1\n",
    "# 261.3s\n",
    "# 4min 21.3sec\n",
    "total_len = 261.3"
   ]
  },
  {
   "cell_type": "code",
   "execution_count": 3,
   "metadata": {},
   "outputs": [],
   "source": [
    "missed_df = pd.read_csv('dog_missed_script.csv')"
   ]
  },
  {
   "cell_type": "code",
   "execution_count": 4,
   "metadata": {},
   "outputs": [
    {
     "data": {
      "text/html": [
       "<div>\n",
       "<style scoped>\n",
       "    .dataframe tbody tr th:only-of-type {\n",
       "        vertical-align: middle;\n",
       "    }\n",
       "\n",
       "    .dataframe tbody tr th {\n",
       "        vertical-align: top;\n",
       "    }\n",
       "\n",
       "    .dataframe thead th {\n",
       "        text-align: right;\n",
       "    }\n",
       "</style>\n",
       "<table border=\"1\" class=\"dataframe\">\n",
       "  <thead>\n",
       "    <tr style=\"text-align: right;\">\n",
       "      <th></th>\n",
       "      <th>timestamp</th>\n",
       "      <th>duration</th>\n",
       "      <th>script</th>\n",
       "      <th>speakerTag</th>\n",
       "    </tr>\n",
       "  </thead>\n",
       "  <tbody>\n",
       "    <tr>\n",
       "      <th>0</th>\n",
       "      <td>41:10-41:13</td>\n",
       "      <td>3</td>\n",
       "      <td>It is. It is not</td>\n",
       "      <td>1</td>\n",
       "    </tr>\n",
       "    <tr>\n",
       "      <th>1</th>\n",
       "      <td>41:33-41:35</td>\n",
       "      <td>2</td>\n",
       "      <td>Ah. Yes, they are.</td>\n",
       "      <td>3</td>\n",
       "    </tr>\n",
       "    <tr>\n",
       "      <th>2</th>\n",
       "      <td>42:11-42:13</td>\n",
       "      <td>2</td>\n",
       "      <td>I understand.</td>\n",
       "      <td>1</td>\n",
       "    </tr>\n",
       "    <tr>\n",
       "      <th>3</th>\n",
       "      <td>42:21-42:22</td>\n",
       "      <td>1</td>\n",
       "      <td>Definitely not</td>\n",
       "      <td>1</td>\n",
       "    </tr>\n",
       "    <tr>\n",
       "      <th>4</th>\n",
       "      <td>43:38-43:39</td>\n",
       "      <td>1</td>\n",
       "      <td>It's okay.</td>\n",
       "      <td>1</td>\n",
       "    </tr>\n",
       "    <tr>\n",
       "      <th>5</th>\n",
       "      <td>43:45-43:47</td>\n",
       "      <td>2</td>\n",
       "      <td>It's not right because</td>\n",
       "      <td>1</td>\n",
       "    </tr>\n",
       "    <tr>\n",
       "      <th>6</th>\n",
       "      <td>43:50-43:51</td>\n",
       "      <td>1</td>\n",
       "      <td>No.</td>\n",
       "      <td>3</td>\n",
       "    </tr>\n",
       "    <tr>\n",
       "      <th>7</th>\n",
       "      <td>44:10-44:12</td>\n",
       "      <td>2</td>\n",
       "      <td>Wow. That's uncalled for.</td>\n",
       "      <td>1</td>\n",
       "    </tr>\n",
       "  </tbody>\n",
       "</table>\n",
       "</div>"
      ],
      "text/plain": [
       "     timestamp  duration                     script  speakerTag\n",
       "0  41:10-41:13         3           It is. It is not           1\n",
       "1  41:33-41:35         2         Ah. Yes, they are.           3\n",
       "2  42:11-42:13         2              I understand.           1\n",
       "3  42:21-42:22         1             Definitely not           1\n",
       "4  43:38-43:39         1                 It's okay.           1\n",
       "5  43:45-43:47         2     It's not right because           1\n",
       "6  43:50-43:51         1                        No.           3\n",
       "7  44:10-44:12         2  Wow. That's uncalled for.           1"
      ]
     },
     "execution_count": 4,
     "metadata": {},
     "output_type": "execute_result"
    }
   ],
   "source": [
    "missed_df"
   ]
  },
  {
   "cell_type": "code",
   "execution_count": 7,
   "metadata": {},
   "outputs": [],
   "source": [
    "missed_duration = np.sum(missed_df['duration'])\n",
    "missed_ratio = missed_duration / total_len"
   ]
  },
  {
   "cell_type": "code",
   "execution_count": 8,
   "metadata": {},
   "outputs": [
    {
     "name": "stdout",
     "output_type": "stream",
     "text": [
      "In the dog script, 5.36% of the conversations did not get transcribed.\n"
     ]
    }
   ],
   "source": [
    "print('In the dog script, {:1.3}% of the conversations did not get transcribed.'.format(missed_ratio*100))"
   ]
  },
  {
   "cell_type": "code",
   "execution_count": 19,
   "metadata": {},
   "outputs": [
    {
     "data": {
      "image/png": "[encoded data removed]",
      "text/plain": [
       "<Figure size 1440x432 with 1 Axes>"
      ]
     },
     "metadata": {
      "needs_background": "light"
     },
     "output_type": "display_data"
    }
   ],
   "source": [
    "annotator_colors = {\n",
    "    'connor': 'orange',\n",
    "    'jiahui': 'blue',\n",
    "    'morris': 'red',\n",
    "    'max': 'purple'\n",
    "}\n",
    "def plot_missed_script(compiled_annotations_df, missed_df, annotator_colors):\n",
    "    \"\"\"Plot timeline, filtering df to episode_id; plot params are annotator_colors, y_step\"\"\"\n",
    "    df = compiled_annotations_df\n",
    "    plt.figure(figsize=(20,6))\n",
    "    for i, annotator in enumerate(annotator_colors):\n",
    "        i_df = df[df['annotator'] == annotator]\n",
    "        for (start,end) in i_df[['start', 'end']].values:\n",
    "            plt.plot([start/60, end/60], [i, i], \n",
    "                     marker = '|', \n",
    "                     color = annotator_colors[annotator], \n",
    "                     linewidth = 30, markersize = 50, solid_capstyle=\"butt\")\n",
    "            \n",
    "    for timestamp in missed_df['timestamp']:\n",
    "        startTime = float(timestamp[:2]) +  float(timestamp[3:5])/60 \n",
    "        endtTime = float(timestamp[6:8]) +  float(timestamp[9:])/60 \n",
    "        plt.plot([startTime, endtTime], [4, 4], \n",
    "                     marker = '|', \n",
    "                     color = 'c', \n",
    "                     linewidth = 30, markersize = 50, solid_capstyle=\"butt\")\n",
    "    \n",
    "    annotator_colors['missed'] = 'c'  \n",
    "    plt.xlabel(\"Minute\")\n",
    "    plt.title(f\"Annotations for episode: 6hoNS9LR1Lxb4EzMX72kXR\")\n",
    "    plt.ylim(-1, len(annotator_colors))\n",
    "    plt.yticks(range(len(annotator_colors)), annotator_colors)\n",
    "    \n",
    "plot_missed_script(annotations_df, missed_df, annotator_colors)"
   ]
  },
  {
   "cell_type": "markdown",
   "metadata": {},
   "source": [
    "Transcript quality: good for most long sentences. Can miss a bit at start. Most misses are when two people are talking at the same time, and when the man has a fainted low-pitch voice."
   ]
  },
  {
   "cell_type": "markdown",
   "metadata": {},
   "source": [
    "## Text Disagreement Detection Toy Model"
   ]
  },
  {
   "cell_type": "code",
   "execution_count": 48,
   "metadata": {},
   "outputs": [],
   "source": [
    "signal_list = ['disagree', 'No', \"I don't think so\", \"That's not true\"]\n",
    "disagree_count  = 0\n",
    "disagree_list = []\n",
    "for i in range(len(dog_list)):\n",
    "    script = dog_list[i][0]\n",
    "    for signal in signal_list:\n",
    "        if signal in script:\n",
    "            disagree_count += 1\n",
    "            disagree_list.append(dog_list[i])"
   ]
  },
  {
   "cell_type": "code",
   "execution_count": 49,
   "metadata": {},
   "outputs": [
    {
     "data": {
      "text/plain": [
       "5"
      ]
     },
     "execution_count": 49,
     "metadata": {},
     "output_type": "execute_result"
    }
   ],
   "source": [
    "disagree_count"
   ]
  },
  {
   "cell_type": "code",
   "execution_count": 50,
   "metadata": {},
   "outputs": [
    {
     "data": {
      "text/plain": [
       "[(\" If anything that is like not slightly Gary, you know that I'm right they keep a dog in this little tiny ass apartment. They never take it for walks because they're alone and can't find a boyfriend. It's not the dog's fault. You're a fucking loser. That is not first of all, are you are you saying? That's what I am. No, you're just laughing because he knows it's true. No, it's just the most ridiculous tape.\",\n",
       "  '2443.400s'),\n",
       " (\" I met you I like that you think you saved my life. No, I don't think I saved your life. I think I added to it. I think you added to mine, but you I definitely had a dog. Yeah because I wanted company and it was really difficult because I knew I was going to be on the road, but I had wanted a dog for a really long time and I had a cat so I was like, oh perfect they can play together and they did until my cat died and my dog and I had a great time and I had a house sitter that would stay at my\",\n",
       "  '2501.200s'),\n",
       " (\" You are an exception. Most people get animals for selfish reasons. It's not an exception though. I'm just an average normal person. Like I'm not an exceptionally not. Oh my gosh. I'm talking you up, but you're talking other women down and I totally disagree with them not talking them Dad. I'm telling the truth. No, I don't think that just like first of all you do get a dog because you want company. That's the only that's why people like what everybody gets dogs.\",\n",
       "  '2532.200s'),\n",
       " (\" You are an exception. Most people get animals for selfish reasons. It's not an exception though. I'm just an average normal person. Like I'm not an exceptionally not. Oh my gosh. I'm talking you up, but you're talking other women down and I totally disagree with them not talking them Dad. I'm telling the truth. No, I don't think that just like first of all you do get a dog because you want company. That's the only that's why people like what everybody gets dogs.\",\n",
       "  '2532.200s'),\n",
       " (\" Right. How often do we forget? We were like, we can't take you for a walk Maverick. Does he hate us? No, he just goes right back to his bed and falls asleep. He's got the best life ever. Yeah because he's just like fine, but the company to like Doc just want company.\",\n",
       "  '2588.300s')]"
      ]
     },
     "execution_count": 50,
     "metadata": {},
     "output_type": "execute_result"
    }
   ],
   "source": [
    "# most are \"No\"s, one \"disagree\"\n",
    "disagree_list"
   ]
  },
  {
   "cell_type": "code",
   "execution_count": 9,
   "metadata": {},
   "outputs": [],
   "source": [
    "file_names = ['max_annotations.jsonl', 'connor_annotations.jsonl', 'morris_annotations.jsonl', 'jiahui_annotations.jsonl']\n",
    "names = ['max', 'connor', 'morris','jiahui']\n",
    "def compile_annotations(file_names):\n",
    "    annotator_list = []\n",
    "    start_list = []\n",
    "    end_list = []\n",
    "    for i in range(len(names)):\n",
    "        f = open(file_names[i])\n",
    "        annotation = json.load(f)\n",
    "        f.close()\n",
    "        \n",
    "        audio_spans = annotation['audio_spans']\n",
    "        for span in audio_spans:\n",
    "            annotator_list.append(names[i])\n",
    "            start_list.append(span['start'])\n",
    "            end_list.append(span['end'])\n",
    "            \n",
    "    annotations_df = pd.DataFrame({'annotator': annotator_list, 'start': start_list, 'end': end_list})\n",
    "    \n",
    "    return annotations_df"
   ]
  },
  {
   "cell_type": "code",
   "execution_count": 10,
   "metadata": {},
   "outputs": [],
   "source": [
    "annotations_df = compile_annotations(file_names)"
   ]
  },
  {
   "cell_type": "code",
   "execution_count": 77,
   "metadata": {},
   "outputs": [],
   "source": [
    "model_annotations = [{'startTime': 2462.800, 'endTime': 2463.400, 'word': 'No,'},\n",
    "                     {'startTime': 2468.200, 'endTime': 2468.500, 'word': 'No,'},\n",
    "                    {'startTime': 2506.100, 'endTime': 2506.300, 'word': 'No,'},\n",
    "                     {'startTime': 2550.200, 'endTime': 2550.700, 'word': 'disagree'},\n",
    "                     {'startTime': 2553.500, 'endTime': 2553.900, 'word': 'No,'},\n",
    "                     {'startTime': 2593.600, 'endTime': 2594.100, 'word': 'No,'}\n",
    "                    ]"
   ]
  },
  {
   "cell_type": "code",
   "execution_count": 80,
   "metadata": {},
   "outputs": [
    {
     "data": {
      "image/png": "[encoded data removed]",
      "text/plain": [
       "<Figure size 1440x360 with 1 Axes>"
      ]
     },
     "metadata": {
      "needs_background": "light"
     },
     "output_type": "display_data"
    }
   ],
   "source": [
    "annotator_colors = {\n",
    "    'connor': 'orange',\n",
    "    'jiahui': 'blue',\n",
    "    'morris': 'red',\n",
    "    'max': 'purple'\n",
    "}\n",
    "def plot_annotations(compiled_annotations_df, annotator_colors):\n",
    "    \"\"\"Plot timeline, filtering df to episode_id; plot params are annotator_colors, y_step\"\"\"\n",
    "    df = compiled_annotations_df\n",
    "    plt.figure(figsize=(20,5))\n",
    "    for i, annotator in enumerate(annotator_colors):\n",
    "        i_df = df[df['annotator'] == annotator]\n",
    "        for (start,end) in i_df[['start', 'end']].values:\n",
    "            plt.plot([start/60, end/60], [i, i], \n",
    "                     marker = '|', \n",
    "                     color = annotator_colors[annotator], \n",
    "                     linewidth = 30, markersize = 50, solid_capstyle=\"butt\")\n",
    "            \n",
    "    for segment_dict in model_annotations:\n",
    "        startTime = segment_dict['startTime']\n",
    "        endtTime = segment_dict['endTime']\n",
    "        plt.plot([startTime/60, endtTime/60], [4, 4], \n",
    "                     marker = '|', \n",
    "                     color = 'c', \n",
    "                     linewidth = 30, markersize = 50, solid_capstyle=\"butt\")\n",
    "    \n",
    "    annotator_colors['model'] = 'c'  \n",
    "    plt.xlabel(\"Minute\")\n",
    "    plt.title(f\"Annotations for episode: 6hoNS9LR1Lxb4EzMX72kXR\")\n",
    "    plt.ylim(-1, len(annotator_colors))\n",
    "    plt.yticks(range(len(annotator_colors)), annotator_colors)\n",
    "    \n",
    "plot_annotations(annotations_df, annotator_colors)"
   ]
  },
  {
   "cell_type": "code",
   "execution_count": 11,
   "metadata": {},
   "outputs": [
    {
     "data": {
      "text/html": [
       "<div>\n",
       "<style scoped>\n",
       "    .dataframe tbody tr th:only-of-type {\n",
       "        vertical-align: middle;\n",
       "    }\n",
       "\n",
       "    .dataframe tbody tr th {\n",
       "        vertical-align: top;\n",
       "    }\n",
       "\n",
       "    .dataframe thead th {\n",
       "        text-align: right;\n",
       "    }\n",
       "</style>\n",
       "<table border=\"1\" class=\"dataframe\">\n",
       "  <thead>\n",
       "    <tr style=\"text-align: right;\">\n",
       "      <th></th>\n",
       "      <th>timestamp</th>\n",
       "      <th>duration</th>\n",
       "      <th>script</th>\n",
       "      <th>speakerTag</th>\n",
       "    </tr>\n",
       "  </thead>\n",
       "  <tbody>\n",
       "    <tr>\n",
       "      <th>0</th>\n",
       "      <td>41:10-41:13</td>\n",
       "      <td>3</td>\n",
       "      <td>It is. It is not</td>\n",
       "      <td>1</td>\n",
       "    </tr>\n",
       "    <tr>\n",
       "      <th>1</th>\n",
       "      <td>41:33-41:35</td>\n",
       "      <td>2</td>\n",
       "      <td>Ah. Yes, they are.</td>\n",
       "      <td>3</td>\n",
       "    </tr>\n",
       "    <tr>\n",
       "      <th>2</th>\n",
       "      <td>42:11-42:13</td>\n",
       "      <td>2</td>\n",
       "      <td>I understand.</td>\n",
       "      <td>1</td>\n",
       "    </tr>\n",
       "    <tr>\n",
       "      <th>3</th>\n",
       "      <td>42:21-42:22</td>\n",
       "      <td>1</td>\n",
       "      <td>Definitely not</td>\n",
       "      <td>1</td>\n",
       "    </tr>\n",
       "    <tr>\n",
       "      <th>4</th>\n",
       "      <td>43:38-43:39</td>\n",
       "      <td>1</td>\n",
       "      <td>It's okay.</td>\n",
       "      <td>1</td>\n",
       "    </tr>\n",
       "    <tr>\n",
       "      <th>5</th>\n",
       "      <td>43:45-43:47</td>\n",
       "      <td>2</td>\n",
       "      <td>It's not right because</td>\n",
       "      <td>1</td>\n",
       "    </tr>\n",
       "    <tr>\n",
       "      <th>6</th>\n",
       "      <td>43:50-43:51</td>\n",
       "      <td>1</td>\n",
       "      <td>No.</td>\n",
       "      <td>3</td>\n",
       "    </tr>\n",
       "    <tr>\n",
       "      <th>7</th>\n",
       "      <td>44:10-44:12</td>\n",
       "      <td>2</td>\n",
       "      <td>Wow. That's uncalled for.</td>\n",
       "      <td>1</td>\n",
       "    </tr>\n",
       "  </tbody>\n",
       "</table>\n",
       "</div>"
      ],
      "text/plain": [
       "     timestamp  duration                     script  speakerTag\n",
       "0  41:10-41:13         3           It is. It is not           1\n",
       "1  41:33-41:35         2         Ah. Yes, they are.           3\n",
       "2  42:11-42:13         2              I understand.           1\n",
       "3  42:21-42:22         1             Definitely not           1\n",
       "4  43:38-43:39         1                 It's okay.           1\n",
       "5  43:45-43:47         2     It's not right because           1\n",
       "6  43:50-43:51         1                        No.           3\n",
       "7  44:10-44:12         2  Wow. That's uncalled for.           1"
      ]
     },
     "execution_count": 11,
     "metadata": {},
     "output_type": "execute_result"
    }
   ],
   "source": [
    "missed_df"
   ]
  },
  {
   "cell_type": "code",
   "execution_count": null,
   "metadata": {},
   "outputs": [],
   "source": []
  }
 ],
 "metadata": {
  "kernelspec": {
   "display_name": "Python 3",
   "language": "python",
   "name": "python3"
  },
  "language_info": {
   "codemirror_mode": {
    "name": "ipython",
    "version": 3
   },
   "file_extension": ".py",
   "mimetype": "text/x-python",
   "name": "python",
   "nbconvert_exporter": "python",
   "pygments_lexer": "ipython3",
   "version": "3.7.4"
  }
 },
 "nbformat": 4,
 "nbformat_minor": 4
}
