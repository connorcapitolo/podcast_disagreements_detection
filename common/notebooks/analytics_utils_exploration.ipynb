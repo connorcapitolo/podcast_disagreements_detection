{
 "cells": [
  {
   "cell_type": "markdown",
   "metadata": {},
   "source": [
    "### Analytics utils sandbox\n",
    "\n",
    "Goal: Create function **discretize** to convert unioned disagreement annotation timestamps for each episode into y (labels discretized based on sliding window) and also create timestamps (start, end) corresponding to each sliding window\n",
    "\n",
    "How does the proportion of segments containing disagreement change with the threshold of overlap required for disagreement?"
   ]
  },
  {
   "cell_type": "code",
   "execution_count": 1,
   "metadata": {},
   "outputs": [],
   "source": [
    "import numpy as np\n",
    "import librosa\n",
    "import os, sys\n",
    "import pickle\n",
    "import matplotlib.pyplot as plt\n",
    "import pickle\n",
    "\n",
    "parent_directory = os.path.dirname(os.path.dirname(os.getcwd()))\n",
    "sys.path.append(parent_directory)\n",
    "from common.annotation_utils import get_union, tp"
   ]
  },
  {
   "cell_type": "code",
   "execution_count": 2,
   "metadata": {},
   "outputs": [],
   "source": [
    "episode_id = '0TkGYYIPwRqx8xzP0XGvRG'\n",
    "unioned_annotation_dict_file = open('../../audio_annotation/outputs/unioned_annotations_dict.pkl', 'rb')\n",
    "unioned_annotation_dict = pickle.load(unioned_annotation_dict_file)\n",
    "\n",
    "def discretize(episode_id, \n",
    "               unioned_annotation_dict, \n",
    "               audio_filename,\n",
    "               segment_length = 2.5, hop_length = 0.5, overlap_thresh = 0.2, verbose = False):\n",
    "    audio_duration = librosa.get_duration(filename = audio_filename)\n",
    "    segments = np.arange(0, audio_duration - segment_length, hop_length)\n",
    "    disagreement_annotations = unioned_annotation_dict[episode_id]\n",
    "    if verbose:\n",
    "        print(f\"Audio duration (secs): {audio_duration:.3f}\")\n",
    "        print(f\"Audio duration (mins): {audio_duration/60:.3f}\")\n",
    "        print(disagreement_annotations)\n",
    "\n",
    "    times = []; y = []\n",
    "    for i in range(len(segments)):\n",
    "        start_time = segments[i]\n",
    "        end_time = start_time + segment_length\n",
    "        t = tp(start_time, end_time)\n",
    "        times.append(t)\n",
    "        y.append(1*any([t.overlap(d) >= overlap_thresh for d in disagreement_annotations]))\n",
    "    return times, y"
   ]
  },
  {
   "cell_type": "code",
   "execution_count": 3,
   "metadata": {},
   "outputs": [
    {
     "name": "stdout",
     "output_type": "stream",
     "text": [
      "Audio duration (secs): 1507.183\n",
      "Audio duration (mins): 25.120\n",
      "[(75.42,77.62), (359.17,365.12), (372.02,376.82), (416.57,420.02), (423.07,428.87), (429.17,439.32), (575.77,579.27), (712.07,714.22), (723.47,726.12), (731.02,736.87)]\n"
     ]
    }
   ],
   "source": [
    "times, y = discretize(episode_id, \n",
    "                      unioned_annotation_dict,\n",
    "                      '../../data/audio/'+episode_id+'.ogg',\n",
    "                      overlap_thresh = 0.2, verbose = True)"
   ]
  },
  {
   "cell_type": "code",
   "execution_count": 4,
   "metadata": {},
   "outputs": [
    {
     "data": {
      "text/plain": [
       "[(1500.00,1502.50),\n",
       " (1500.50,1503.00),\n",
       " (1501.00,1503.50),\n",
       " (1501.50,1504.00),\n",
       " (1502.00,1504.50),\n",
       " (1502.50,1505.00),\n",
       " (1503.00,1505.50),\n",
       " (1503.50,1506.00),\n",
       " (1504.00,1506.50),\n",
       " (1504.50,1507.00)]"
      ]
     },
     "execution_count": 4,
     "metadata": {},
     "output_type": "execute_result"
    }
   ],
   "source": [
    "times[-10:]"
   ]
  },
  {
   "cell_type": "code",
   "execution_count": 5,
   "metadata": {},
   "outputs": [
    {
     "data": {
      "text/plain": [
       "[0, 0, 0, 0, 0, 0, 0, 0, 0, 0]"
      ]
     },
     "execution_count": 5,
     "metadata": {},
     "output_type": "execute_result"
    }
   ],
   "source": [
    "y[-10:]"
   ]
  },
  {
   "cell_type": "code",
   "execution_count": 6,
   "metadata": {},
   "outputs": [],
   "source": [
    "threshold_grid = np.linspace(0.01, 1, 91)\n",
    "num_labeled = []\n",
    "\n",
    "for th in threshold_grid:\n",
    "    times, y = discretize(episode_id, unioned_annotation_dict, \n",
    "                          '../../data/audio/'+episode_id+'.ogg',\n",
    "                          overlap_thresh = th)\n",
    "    num_labeled.append(np.sum(np.array(y))/len(times))"
   ]
  },
  {
   "cell_type": "code",
   "execution_count": 7,
   "metadata": {
    "scrolled": false
   },
   "outputs": [
    {
     "data": {
      "image/png": "[encoded data removed]",
      "text/plain": [
       "<Figure size 720x360 with 1 Axes>"
      ]
     },
     "metadata": {
      "needs_background": "light"
     },
     "output_type": "display_data"
    }
   ],
   "source": [
    "plt.figure(figsize = (10,5))\n",
    "plt.plot(threshold_grid, num_labeled)\n",
    "plt.xlabel('overlap threshold')\n",
    "plt.ylabel('proportion of obs. containing disagreement')\n",
    "plt.title('overlap threshold vs. proportion of obs. containing disagreement');"
   ]
  }
 ],
 "metadata": {
  "kernelspec": {
   "display_name": "Python 3",
   "language": "python",
   "name": "python3"
  },
  "language_info": {
   "codemirror_mode": {
    "name": "ipython",
    "version": 3
   },
   "file_extension": ".py",
   "mimetype": "text/x-python",
   "name": "python",
   "nbconvert_exporter": "python",
   "pygments_lexer": "ipython3",
   "version": "3.8.11"
  }
 },
 "nbformat": 4,
 "nbformat_minor": 4
}
