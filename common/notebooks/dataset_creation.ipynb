{
 "cells": [
  {
   "cell_type": "markdown",
   "metadata": {},
   "source": [
    "## Template / example for generic modeling"
   ]
  },
  {
   "cell_type": "markdown",
   "metadata": {},
   "source": [
    "There are 2 options for obtaining discretized data:\n",
    "1. **Loading from pre-existing pickle file** (automatically created after running `python compile_annotations.py --di`)**\n",
    "    * Pro: The pickle file has already been prepared, so just need to load\n",
    "    * Con: Prepared with default parameters for segment length, hop length, overlap threshold\n",
    "2. **Using the utility function `discretize_all()`** (found in `common/annotation_utils`)\n",
    "    * Pro: Allows for custom setting of segment length, hop length, overlap threshold, e.g. for grid search\n",
    "    \n",
    "Below shows examples of how to use each:"
   ]
  },
  {
   "cell_type": "markdown",
   "metadata": {},
   "source": [
    "### Method 1: loading from pre-existing pickle file:"
   ]
  },
  {
   "cell_type": "code",
   "execution_count": 1,
   "metadata": {},
   "outputs": [],
   "source": [
    "%load_ext autoreload\n",
    "%autoreload 2\n",
    "# - IPython extension to reload modules before executing user code\n",
    "# autoreload reloads modules automatically before entering the execution of code typed at the IPython prompt."
   ]
  },
  {
   "cell_type": "code",
   "execution_count": 2,
   "metadata": {},
   "outputs": [],
   "source": [
    "import pickle, os, sys, time\n",
    "import pywt\n",
    "\n",
    "repo_base_directory = os.path.dirname(os.path.dirname(os.getcwd()))\n",
    "sys.path.append(repo_base_directory)\n",
    "from common.annotation_utils import *\n"
   ]
  },
  {
   "cell_type": "code",
   "execution_count": 3,
   "metadata": {},
   "outputs": [],
   "source": [
    "f = open(\"../../audio_annotation/outputs/discretized_dict.pkl\", \"rb\")\n",
    "discretized_dict = pickle.load(f)"
   ]
  },
  {
   "cell_type": "code",
   "execution_count": 4,
   "metadata": {},
   "outputs": [
    {
     "data": {
      "text/plain": [
       "dict_keys(['data', 'segment_length', 'hop_length', 'overlap_thresh'])"
      ]
     },
     "execution_count": 4,
     "metadata": {},
     "output_type": "execute_result"
    }
   ],
   "source": [
    "discretized_dict.keys()"
   ]
  },
  {
   "cell_type": "markdown",
   "metadata": {},
   "source": [
    "### Method 2: using discretize_all:"
   ]
  },
  {
   "cell_type": "code",
   "execution_count": 5,
   "metadata": {},
   "outputs": [
    {
     "name": "stdout",
     "output_type": "stream",
     "text": [
      "Trying ../../data/audio/6hoNS9LR1Lxb4EzMX72kXR.ogg...\n",
      "Trying ../../data/audio/79aiOALBohH9vEIUHPAoRj.ogg...\n",
      "Error: Detected audio duration is greater than 10 hours\n",
      "Trying to use mp3 file\n",
      "mp3 load successful\n",
      "Trying ../../data/audio/0pIwpmg5oPcMWJXVSyrx4E.ogg...\n",
      "Error: Detected audio duration is greater than 10 hours\n",
      "Trying to use mp3 file\n",
      "mp3 load successful\n",
      "Trying ../../data/audio/7LxbgPH3grqf6lCpLKEwo7.ogg...\n",
      "Error: Detected audio duration is greater than 10 hours\n",
      "Trying to use mp3 file\n",
      "mp3 load successful\n",
      "Trying ../../data/audio/7vxD3WNDRkigLnIDHyy0cu.ogg...\n",
      "Error: Detected audio duration is greater than 10 hours\n",
      "Trying to use mp3 file\n",
      "mp3 load successful\n",
      "Trying ../../data/audio/7r367wUYs1EvyBbeyOcq39.ogg...\n",
      "Error: Detected audio duration is greater than 10 hours\n",
      "Trying to use mp3 file\n",
      "mp3 load successful\n",
      "Trying ../../data/audio/0TkGYYIPwRqx8xzP0XGvRG.ogg...\n",
      "Trying ../../data/audio/1XgTQnRlfJ0zpDdg2DccbR.ogg...\n",
      "Error: Detected audio duration is greater than 10 hours\n",
      "Trying to use mp3 file\n",
      "mp3 load successful\n",
      "Trying ../../data/audio/2hgBlERSFYDWndqjWNOV6v.ogg...\n",
      "Error: Detected audio duration is greater than 10 hours\n",
      "Trying to use mp3 file\n",
      "mp3 load successful\n",
      "Trying ../../data/audio/1jfWVd1sTapjjkQwDM4yQX.ogg...\n",
      "Error: Detected audio duration is greater than 10 hours\n",
      "Trying to use mp3 file\n",
      "mp3 load successful\n",
      "Trying ../../data/audio/2DCEgkjSeRQyMt8KovG8vF.ogg...\n",
      "Error: Detected audio duration is greater than 10 hours\n",
      "Trying to use mp3 file\n",
      "mp3 load successful\n"
     ]
    }
   ],
   "source": [
    "seg_len = 0.5\n",
    "hop_len = 0.5\n",
    "overlap = 0.5\n",
    "combined_annotations_filepath = '../../audio_annotation/outputs/compiled_annotations_df.pkl'\n",
    "_, discretized_dict = discretize_all(combined_annotations_filepath, \n",
    "                                     audio_filepath = '../../data/audio',\n",
    "                                     segment_length=seg_len,\n",
    "                                     hop_length=hop_len,\n",
    "                                     overlap_thresh=overlap)\n"
   ]
  },
  {
   "cell_type": "markdown",
   "metadata": {},
   "source": [
    "### Processing of All Episodes"
   ]
  },
  {
   "cell_type": "code",
   "execution_count": 6,
   "metadata": {},
   "outputs": [],
   "source": [
    "def process_entire_episode(podcast_id: str, segment_length, hop_length, overlap, y, audio_duration):\n",
    "    '''Processes the entire podcast episode\n",
    "    \n",
    "    Args:\n",
    "        podcast_id: the podcast that needs to be processed\n",
    "    \n",
    "    Returns:\n",
    "        a pickled file that is saved in data/dwt_df_pickle that can be used later\n",
    "    \n",
    "    '''\n",
    "\n",
    "    # find the appropriate path (use mp3 if it's available)\n",
    "    prev_directory = '../../data/audio/'\n",
    "    if os.path.exists(f'{prev_directory}{podcast_id}.mp3'):\n",
    "        audio_filepath = f'{prev_directory}{podcast_id}.mp3'\n",
    "    else:\n",
    "        audio_filepath = f'{prev_directory}{podcast_id}.ogg'\n",
    "\n",
    "    print(f'Found audio file at location {audio_filepath}')\n",
    "    start_load = time.time()\n",
    "    waveform, sr = librosa.load(audio_filepath)\n",
    "    print(f'\\n{podcast_id} took {((time.time() - start_load) / 60):.2f} minutes to load')\n",
    "\n",
    "    # Convert sample indices to time (in seconds)\n",
    "    time_stamp = librosa.samples_to_time(np.arange(0, len(waveform)), sr=sr)\n",
    "    audio_df = pd.DataFrame()\n",
    "    audio_df['time'] = time_stamp\n",
    "    audio_df['original'] = waveform\n",
    "\n",
    "    \n",
    "    # necessary information gained about the podcast\n",
    "    chunks = np.arange(0, audio_duration - segment_length, hop_length)\n",
    "    print(f'Number of chunks in podcast id {podcast_id}: {len(chunks)}')\n",
    "\n",
    "    # getting segments of the waveform data based on the chunks\n",
    "    audio_time_seg = []\n",
    "    # getting segments of the time based on the chunks\n",
    "    time_seg = []\n",
    "    for chunk in chunks:\n",
    "\n",
    "        # audio segments\n",
    "        start_sr = librosa.time_to_samples(chunk, sr=sr)\n",
    "        end_sr = librosa.time_to_samples(chunk + segment_length, sr=sr)\n",
    "        \n",
    "        sub_audio = audio_df.original[start_sr:end_sr + 1]\n",
    "        audio_time_seg.append(sub_audio)\n",
    "\n",
    "        sub_time = audio_df.time[start_sr:end_sr + 1]\n",
    "        time_seg.append(sub_time)\n",
    "\n",
    "\n",
    "    print(f'Number of audio time segments: {len(audio_time_seg)}')\n",
    "    print(f'Length of first audio time segment: {len(audio_time_seg[0])/sr}')\n",
    "\n",
    "    dwt_time = time.time()\n",
    "    cA_lst = []\n",
    "    for sub_episode in audio_time_seg:\n",
    "        data = sub_episode / max(sub_episode) # normalize data\n",
    "        cA, _ = pywt.dwt(data, 'db1', 'symmetric')\n",
    "        cA_lst.append(cA)\n",
    "\n",
    "    print(f'Took {(time.time() - dwt_time):.4f} seconds to complete dwt over each audio time segment')\n",
    "\n",
    "    print(f\"length of approximation coefficients cA_lst: {len(cA_lst)}\")\n",
    "    print(\n",
    "        f\"length of each chunk's approximation coefficients in cA_lst: {len(cA_lst[0])}\")\n",
    "\n",
    "    dwt_df = pd.DataFrame(cA_lst)\n",
    "    dwt_df[\"y\"] = y\n",
    "    print(\n",
    "        f'\\nSize of final dataframe for podcast id {podcast_id}: {dwt_df.shape}')\n",
    "    dwt_df.to_pickle(f\"../../data/dwt_df_pkl/{podcast_id}_seg{segment_length}_hop{hop_length}_ov{overlap}.pkl\")"
   ]
  },
  {
   "cell_type": "code",
   "execution_count": 7,
   "metadata": {},
   "outputs": [
    {
     "name": "stdout",
     "output_type": "stream",
     "text": [
      "Length of audio file for podcast id 6hoNS9LR1Lxb4EzMX72kXR: 2950.974693877551\n",
      "Found audio file at location ../../data/audio/6hoNS9LR1Lxb4EzMX72kXR.ogg\n",
      "\n",
      "6hoNS9LR1Lxb4EzMX72kXR took 2.34 minutes to load\n",
      "Number of chunks in podcast id 6hoNS9LR1Lxb4EzMX72kXR: 5901\n",
      "Number of audio time segments: 5901\n",
      "Length of first audio time segment: 0.5000453514739229\n",
      "Took 7.2922 seconds to complete dwt over each audio time segment\n",
      "length of approximation coefficients cA_lst: 5901\n",
      "length of each chunk's approximation coefficients in cA_lst: 5513\n",
      "\n",
      "Size of final dataframe for podcast id 6hoNS9LR1Lxb4EzMX72kXR: (5901, 5514)\n",
      "Podcast id 6hoNS9LR1Lxb4EzMX72kXR took  2.934 minutes to complete\n",
      "\n",
      "Length of audio file for podcast id 79aiOALBohH9vEIUHPAoRj: 2801.9214512471654\n",
      "Found audio file at location ../../data/audio/79aiOALBohH9vEIUHPAoRj.mp3\n"
     ]
    },
    {
     "name": "stderr",
     "output_type": "stream",
     "text": [
      "/Users/connorcapitolo/opt/anaconda3/envs/capstone/lib/python3.8/site-packages/librosa/core/audio.py:165: UserWarning: PySoundFile failed. Trying audioread instead.\n",
      "  warnings.warn(\"PySoundFile failed. Trying audioread instead.\")\n"
     ]
    },
    {
     "name": "stdout",
     "output_type": "stream",
     "text": [
      "\n",
      "79aiOALBohH9vEIUHPAoRj took 2.12 minutes to load\n",
      "Number of chunks in podcast id 79aiOALBohH9vEIUHPAoRj: 5603\n",
      "Number of audio time segments: 5603\n",
      "Length of first audio time segment: 0.5000453514739229\n",
      "Took 8.3585 seconds to complete dwt over each audio time segment\n",
      "length of approximation coefficients cA_lst: 5603\n",
      "length of each chunk's approximation coefficients in cA_lst: 5513\n",
      "\n",
      "Size of final dataframe for podcast id 79aiOALBohH9vEIUHPAoRj: (5603, 5514)\n",
      "Podcast id 79aiOALBohH9vEIUHPAoRj took  2.726 minutes to complete\n",
      "\n",
      "Length of audio file for podcast id 0pIwpmg5oPcMWJXVSyrx4E: 494.88544217687075\n",
      "Found audio file at location ../../data/audio/0pIwpmg5oPcMWJXVSyrx4E.mp3\n"
     ]
    },
    {
     "name": "stderr",
     "output_type": "stream",
     "text": [
      "/Users/connorcapitolo/opt/anaconda3/envs/capstone/lib/python3.8/site-packages/librosa/core/audio.py:165: UserWarning: PySoundFile failed. Trying audioread instead.\n",
      "  warnings.warn(\"PySoundFile failed. Trying audioread instead.\")\n"
     ]
    },
    {
     "name": "stdout",
     "output_type": "stream",
     "text": [
      "\n",
      "0pIwpmg5oPcMWJXVSyrx4E took 0.43 minutes to load\n",
      "Number of chunks in podcast id 0pIwpmg5oPcMWJXVSyrx4E: 989\n",
      "Number of audio time segments: 989\n",
      "Length of first audio time segment: 0.5000453514739229\n",
      "Took 1.2837 seconds to complete dwt over each audio time segment\n",
      "length of approximation coefficients cA_lst: 989\n",
      "length of each chunk's approximation coefficients in cA_lst: 5513\n",
      "\n",
      "Size of final dataframe for podcast id 0pIwpmg5oPcMWJXVSyrx4E: (989, 5514)\n",
      "Podcast id 0pIwpmg5oPcMWJXVSyrx4E took  0.503 minutes to complete\n",
      "\n",
      "Length of audio file for podcast id 7LxbgPH3grqf6lCpLKEwo7: 414.32090702947846\n",
      "Found audio file at location ../../data/audio/7LxbgPH3grqf6lCpLKEwo7.mp3\n"
     ]
    },
    {
     "name": "stderr",
     "output_type": "stream",
     "text": [
      "/Users/connorcapitolo/opt/anaconda3/envs/capstone/lib/python3.8/site-packages/librosa/core/audio.py:165: UserWarning: PySoundFile failed. Trying audioread instead.\n",
      "  warnings.warn(\"PySoundFile failed. Trying audioread instead.\")\n"
     ]
    },
    {
     "name": "stdout",
     "output_type": "stream",
     "text": [
      "\n",
      "7LxbgPH3grqf6lCpLKEwo7 took 0.33 minutes to load\n",
      "Number of chunks in podcast id 7LxbgPH3grqf6lCpLKEwo7: 828\n",
      "Number of audio time segments: 828\n",
      "Length of first audio time segment: 0.5000453514739229\n",
      "Took 1.1123 seconds to complete dwt over each audio time segment\n",
      "length of approximation coefficients cA_lst: 828\n",
      "length of each chunk's approximation coefficients in cA_lst: 5513\n",
      "\n",
      "Size of final dataframe for podcast id 7LxbgPH3grqf6lCpLKEwo7: (828, 5514)\n",
      "Podcast id 7LxbgPH3grqf6lCpLKEwo7 took  0.394 minutes to complete\n",
      "\n",
      "Length of audio file for podcast id 7vxD3WNDRkigLnIDHyy0cu: 465.39319727891154\n",
      "Found audio file at location ../../data/audio/7vxD3WNDRkigLnIDHyy0cu.mp3\n"
     ]
    },
    {
     "name": "stderr",
     "output_type": "stream",
     "text": [
      "/Users/connorcapitolo/opt/anaconda3/envs/capstone/lib/python3.8/site-packages/librosa/core/audio.py:165: UserWarning: PySoundFile failed. Trying audioread instead.\n",
      "  warnings.warn(\"PySoundFile failed. Trying audioread instead.\")\n"
     ]
    },
    {
     "name": "stdout",
     "output_type": "stream",
     "text": [
      "\n",
      "7vxD3WNDRkigLnIDHyy0cu took 0.35 minutes to load\n",
      "Number of chunks in podcast id 7vxD3WNDRkigLnIDHyy0cu: 930\n",
      "Number of audio time segments: 930\n",
      "Length of first audio time segment: 0.5000453514739229\n",
      "Took 1.1130 seconds to complete dwt over each audio time segment\n",
      "length of approximation coefficients cA_lst: 930\n",
      "length of each chunk's approximation coefficients in cA_lst: 5513\n",
      "\n",
      "Size of final dataframe for podcast id 7vxD3WNDRkigLnIDHyy0cu: (930, 5514)\n",
      "Podcast id 7vxD3WNDRkigLnIDHyy0cu took  0.418 minutes to complete\n",
      "\n",
      "Length of audio file for podcast id 7r367wUYs1EvyBbeyOcq39: 460.94367346938776\n",
      "Found audio file at location ../../data/audio/7r367wUYs1EvyBbeyOcq39.mp3\n"
     ]
    },
    {
     "name": "stderr",
     "output_type": "stream",
     "text": [
      "/Users/connorcapitolo/opt/anaconda3/envs/capstone/lib/python3.8/site-packages/librosa/core/audio.py:165: UserWarning: PySoundFile failed. Trying audioread instead.\n",
      "  warnings.warn(\"PySoundFile failed. Trying audioread instead.\")\n"
     ]
    },
    {
     "name": "stdout",
     "output_type": "stream",
     "text": [
      "\n",
      "7r367wUYs1EvyBbeyOcq39 took 0.35 minutes to load\n",
      "Number of chunks in podcast id 7r367wUYs1EvyBbeyOcq39: 921\n",
      "Number of audio time segments: 921\n",
      "Length of first audio time segment: 0.5000453514739229\n",
      "Took 1.3402 seconds to complete dwt over each audio time segment\n",
      "length of approximation coefficients cA_lst: 921\n",
      "length of each chunk's approximation coefficients in cA_lst: 5513\n",
      "\n",
      "Size of final dataframe for podcast id 7r367wUYs1EvyBbeyOcq39: (921, 5514)\n",
      "Podcast id 7r367wUYs1EvyBbeyOcq39 took  0.431 minutes to complete\n",
      "\n",
      "Length of audio file for podcast id 0TkGYYIPwRqx8xzP0XGvRG: 1507.1825850340135\n",
      "Found audio file at location ../../data/audio/0TkGYYIPwRqx8xzP0XGvRG.ogg\n",
      "\n",
      "0TkGYYIPwRqx8xzP0XGvRG took 1.17 minutes to load\n",
      "Number of chunks in podcast id 0TkGYYIPwRqx8xzP0XGvRG: 3014\n",
      "Number of audio time segments: 3014\n",
      "Length of first audio time segment: 0.5000453514739229\n",
      "Took 3.6234 seconds to complete dwt over each audio time segment\n",
      "length of approximation coefficients cA_lst: 3014\n",
      "length of each chunk's approximation coefficients in cA_lst: 5513\n",
      "\n",
      "Size of final dataframe for podcast id 0TkGYYIPwRqx8xzP0XGvRG: (3014, 5514)\n",
      "Podcast id 0TkGYYIPwRqx8xzP0XGvRG took  1.405 minutes to complete\n",
      "\n",
      "Length of audio file for podcast id 1XgTQnRlfJ0zpDdg2DccbR: 2815.3919274376417\n",
      "Found audio file at location ../../data/audio/1XgTQnRlfJ0zpDdg2DccbR.mp3\n"
     ]
    },
    {
     "name": "stderr",
     "output_type": "stream",
     "text": [
      "/Users/connorcapitolo/opt/anaconda3/envs/capstone/lib/python3.8/site-packages/librosa/core/audio.py:165: UserWarning: PySoundFile failed. Trying audioread instead.\n",
      "  warnings.warn(\"PySoundFile failed. Trying audioread instead.\")\n"
     ]
    },
    {
     "name": "stdout",
     "output_type": "stream",
     "text": [
      "\n",
      "1XgTQnRlfJ0zpDdg2DccbR took 2.08 minutes to load\n",
      "Number of chunks in podcast id 1XgTQnRlfJ0zpDdg2DccbR: 5630\n",
      "Number of audio time segments: 5630\n",
      "Length of first audio time segment: 0.5000453514739229\n",
      "Took 7.0135 seconds to complete dwt over each audio time segment\n",
      "length of approximation coefficients cA_lst: 5630\n",
      "length of each chunk's approximation coefficients in cA_lst: 5513\n",
      "\n",
      "Size of final dataframe for podcast id 1XgTQnRlfJ0zpDdg2DccbR: (5630, 5514)\n",
      "Podcast id 1XgTQnRlfJ0zpDdg2DccbR took  2.554 minutes to complete\n",
      "\n",
      "Length of audio file for podcast id 2hgBlERSFYDWndqjWNOV6v: 2382.9696145124717\n",
      "Found audio file at location ../../data/audio/2hgBlERSFYDWndqjWNOV6v.mp3\n"
     ]
    },
    {
     "name": "stderr",
     "output_type": "stream",
     "text": [
      "/Users/connorcapitolo/opt/anaconda3/envs/capstone/lib/python3.8/site-packages/librosa/core/audio.py:165: UserWarning: PySoundFile failed. Trying audioread instead.\n",
      "  warnings.warn(\"PySoundFile failed. Trying audioread instead.\")\n"
     ]
    },
    {
     "name": "stdout",
     "output_type": "stream",
     "text": [
      "\n",
      "2hgBlERSFYDWndqjWNOV6v took 1.80 minutes to load\n",
      "Number of chunks in podcast id 2hgBlERSFYDWndqjWNOV6v: 4765\n",
      "Number of audio time segments: 4765\n",
      "Length of first audio time segment: 0.5000453514739229\n",
      "Took 6.8827 seconds to complete dwt over each audio time segment\n",
      "length of approximation coefficients cA_lst: 4765\n",
      "length of each chunk's approximation coefficients in cA_lst: 5513\n",
      "\n",
      "Size of final dataframe for podcast id 2hgBlERSFYDWndqjWNOV6v: (4765, 5514)\n",
      "Podcast id 2hgBlERSFYDWndqjWNOV6v took  2.401 minutes to complete\n",
      "\n",
      "Length of audio file for podcast id 1jfWVd1sTapjjkQwDM4yQX: 357.0721088435374\n",
      "Found audio file at location ../../data/audio/1jfWVd1sTapjjkQwDM4yQX.mp3\n"
     ]
    },
    {
     "name": "stderr",
     "output_type": "stream",
     "text": [
      "/Users/connorcapitolo/opt/anaconda3/envs/capstone/lib/python3.8/site-packages/librosa/core/audio.py:165: UserWarning: PySoundFile failed. Trying audioread instead.\n",
      "  warnings.warn(\"PySoundFile failed. Trying audioread instead.\")\n"
     ]
    },
    {
     "name": "stdout",
     "output_type": "stream",
     "text": [
      "\n",
      "1jfWVd1sTapjjkQwDM4yQX took 0.28 minutes to load\n",
      "Number of chunks in podcast id 1jfWVd1sTapjjkQwDM4yQX: 714\n",
      "Number of audio time segments: 714\n",
      "Length of first audio time segment: 0.5000453514739229\n",
      "Took 0.9887 seconds to complete dwt over each audio time segment\n",
      "length of approximation coefficients cA_lst: 714\n",
      "length of each chunk's approximation coefficients in cA_lst: 5513\n",
      "\n",
      "Size of final dataframe for podcast id 1jfWVd1sTapjjkQwDM4yQX: (714, 5514)\n",
      "Podcast id 1jfWVd1sTapjjkQwDM4yQX took  0.335 minutes to complete\n",
      "\n",
      "Length of audio file for podcast id 2DCEgkjSeRQyMt8KovG8vF: 419.0722902494331\n",
      "Found audio file at location ../../data/audio/2DCEgkjSeRQyMt8KovG8vF.mp3\n"
     ]
    },
    {
     "name": "stderr",
     "output_type": "stream",
     "text": [
      "/Users/connorcapitolo/opt/anaconda3/envs/capstone/lib/python3.8/site-packages/librosa/core/audio.py:165: UserWarning: PySoundFile failed. Trying audioread instead.\n",
      "  warnings.warn(\"PySoundFile failed. Trying audioread instead.\")\n"
     ]
    },
    {
     "name": "stdout",
     "output_type": "stream",
     "text": [
      "\n",
      "2DCEgkjSeRQyMt8KovG8vF took 0.36 minutes to load\n",
      "Number of chunks in podcast id 2DCEgkjSeRQyMt8KovG8vF: 838\n",
      "Number of audio time segments: 838\n",
      "Length of first audio time segment: 0.5000453514739229\n",
      "Took 1.1095 seconds to complete dwt over each audio time segment\n",
      "length of approximation coefficients cA_lst: 838\n",
      "length of each chunk's approximation coefficients in cA_lst: 5513\n",
      "\n",
      "Size of final dataframe for podcast id 2DCEgkjSeRQyMt8KovG8vF: (838, 5514)\n",
      "Podcast id 2DCEgkjSeRQyMt8KovG8vF took  0.428 minutes to complete\n",
      "\n",
      "Took  14.529 minutes to loop through all 11 podcast episodes\n",
      "\n",
      "\n"
     ]
    }
   ],
   "source": [
    "start_entire_podcast_loop = time.time()\n",
    "\n",
    "segment_length = discretized_dict['segment_length']\n",
    "hop_length = discretized_dict['hop_length']\n",
    "overlap_thresh = discretized_dict['overlap_thresh']\n",
    "\n",
    "# typical way but I've been having some problems\n",
    "# check = ['0pIwpmg5oPcMWJXVSyrx4E']\n",
    "for i in discretized_dict['data'].keys():\n",
    "\n",
    "    start_individual_podcast_time = time.time()\n",
    "\n",
    "    y = discretized_dict['data'][i]['y']\n",
    "\n",
    "    audio_duration = discretized_dict['data'][i]['audio_duration']\n",
    "    print(f'Length of audio file for podcast id {i}: {audio_duration}')\n",
    "\n",
    "    process_entire_episode(i, segment_length, hop_length,\n",
    "                           overlap_thresh, y, audio_duration)\n",
    "\n",
    "    time_entire_individual_podcast = time.time() - start_individual_podcast_time\n",
    "    print(f'Podcast id {i} took {time_entire_individual_podcast / 60: .3f} minutes to complete\\n')\n",
    "\n",
    "# TO DO: add in some logging so that it's writing to a file or something\n",
    "\n",
    "total_num_episodes = len(discretized_dict['data'].keys())\n",
    "\n",
    "time_entire_podcast_loop = time.time() - start_entire_podcast_loop\n",
    "print(f'Took {time_entire_podcast_loop / 60: .3f} minutes to loop through all {total_num_episodes} podcast episodes\\n\\n')\n"
   ]
  }
 ],
 "metadata": {
  "instance_type": "ml.t3.medium",
  "interpreter": {
   "hash": "359a4fef108fec11ffcedf71848f9bf23ce923098b954f5f93744cdc83ef7bf5"
  },
  "kernelspec": {
   "display_name": "Python 3 (Data Science)",
   "language": "python",
   "name": "python3"
  },
  "language_info": {
   "codemirror_mode": {
    "name": "ipython",
    "version": 3
   },
   "file_extension": ".py",
   "mimetype": "text/x-python",
   "name": "python",
   "nbconvert_exporter": "python",
   "pygments_lexer": "ipython3",
   "version": "3.8.11"
  }
 },
 "nbformat": 4,
 "nbformat_minor": 4
}
