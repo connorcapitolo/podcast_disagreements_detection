{
 "cells": [
  {
   "cell_type": "code",
   "execution_count": 1,
   "id": "123b32f9",
   "metadata": {},
   "outputs": [],
   "source": [
    "%load_ext autoreload\n",
    "%autoreload 2"
   ]
  },
  {
   "cell_type": "code",
   "execution_count": 2,
   "id": "64ec54a2",
   "metadata": {},
   "outputs": [],
   "source": [
    "from iid_modeling_loocv import iid_modeling_loocv\n",
    "\n",
    "import os\n",
    "import pandas as pd\n",
    "import time\n",
    "# import tensorflow as tf\n",
    "# print(tf.__version__)\n",
    "import numpy as np\n",
    "from sklearn.linear_model import LogisticRegression\n",
    "from sklearn.ensemble import AdaBoostClassifier\n",
    "from sklearn.ensemble import RandomForestClassifier\n",
    "from sklearn.ensemble import GradientBoostingClassifier\n",
    "from sklearn.tree import DecisionTreeClassifier\n",
    "from sklearn.experimental import enable_hist_gradient_boosting\n",
    "from sklearn.ensemble import HistGradientBoostingRegressor\n",
    "from sklearn.ensemble import HistGradientBoostingClassifier\n",
    "from sklearn.model_selection import train_test_split\n",
    "from sklearn.metrics import confusion_matrix, classification_report, roc_auc_score,roc_curve\n",
    "from sklearn.metrics import precision_score\n",
    "from sklearn.metrics import recall_score\n",
    "from sklearn.metrics import f1_score\n",
    "from sklearn.utils import resample"
   ]
  },
  {
   "cell_type": "code",
   "execution_count": 3,
   "id": "f26c843a",
   "metadata": {},
   "outputs": [],
   "source": [
    "import matplotlib.pyplot as plt\n",
    "import seaborn as sns \n",
    "sns.set(rc = {'figure.figsize':(8,5)})\n",
    "sns.set_style(\"white\", {'font.family':'serif', 'font.serif':'Times Roman'})\n",
    "sns.set_context(\"talk\")\n",
    "sns.set_palette(\"crest\")"
   ]
  },
  {
   "cell_type": "markdown",
   "id": "a4bbc693",
   "metadata": {},
   "source": [
    "## Loading parquet files in dictionary\n",
    "\n",
    "Need to update `specific folder` variable as necessary"
   ]
  },
  {
   "cell_type": "code",
   "execution_count": 4,
   "id": "15811906",
   "metadata": {},
   "outputs": [],
   "source": [
    "loaded_parquet_df = {}\n",
    "directory_location = '../data/dwt_df_parquet/'\n",
    "specific_folder = 'seg_2.5_hop_0.5_ovlap_0.5/'\n",
    "for dirName, _, fileList in os.walk(f'{directory_location}{specific_folder}'):\n",
    "    for fname in fileList:\n",
    "        if fname.endswith('parquet'):\n",
    "            loaded_parquet_df[fname] = pd.read_parquet(f'{directory_location}{specific_folder}{fname}')"
   ]
  },
  {
   "cell_type": "code",
   "execution_count": 5,
   "id": "1f2190a4",
   "metadata": {},
   "outputs": [
    {
     "name": "stdout",
     "output_type": "stream",
     "text": [
      "7r367wUYs1EvyBbeyOcq39.parquet: (917, 27564)\n",
      "7r367wUYs1EvyBbeyOcq39.parquet has 0 missing values\n",
      "1jfWVd1sTapjjkQwDM4yQX.parquet: (710, 27564)\n",
      "1jfWVd1sTapjjkQwDM4yQX.parquet has 0 missing values\n",
      "1XgTQnRlfJ0zpDdg2DccbR.parquet: (5626, 27564)\n",
      "1XgTQnRlfJ0zpDdg2DccbR.parquet has 0 missing values\n",
      "79aiOALBohH9vEIUHPAoRj.parquet: (5599, 27564)\n",
      "79aiOALBohH9vEIUHPAoRj.parquet has 0 missing values\n",
      "7LxbgPH3grqf6lCpLKEwo7.parquet: (824, 27564)\n",
      "7LxbgPH3grqf6lCpLKEwo7.parquet has 0 missing values\n",
      "0pIwpmg5oPcMWJXVSyrx4E.parquet: (985, 27564)\n",
      "0pIwpmg5oPcMWJXVSyrx4E.parquet has 0 missing values\n",
      "7vxD3WNDRkigLnIDHyy0cu.parquet: (926, 27564)\n",
      "7vxD3WNDRkigLnIDHyy0cu.parquet has 0 missing values\n",
      "6hoNS9LR1Lxb4EzMX72kXR.parquet: (5897, 27564)\n",
      "6hoNS9LR1Lxb4EzMX72kXR.parquet has 0 missing values\n",
      "2DCEgkjSeRQyMt8KovG8vF.parquet: (834, 27564)\n",
      "2DCEgkjSeRQyMt8KovG8vF.parquet has 0 missing values\n",
      "0TkGYYIPwRqx8xzP0XGvRG.parquet: (3010, 27564)\n",
      "0TkGYYIPwRqx8xzP0XGvRG.parquet has 0 missing values\n",
      "2hgBlERSFYDWndqjWNOV6v.parquet: (4761, 27564)\n",
      "2hgBlERSFYDWndqjWNOV6v.parquet has 110252 missing values\n",
      "Total number of observations: 30089\n"
     ]
    }
   ],
   "source": [
    "total_obs = 0\n",
    "for key, val in loaded_parquet_df.items():\n",
    "    print(f'{key}: {val.shape}')\n",
    "    total_obs += val.shape[0]\n",
    "    print(f'{key} has {val.isnull().sum().sum()} missing values')\n",
    "\n",
    "print(f'Total number of observations: {total_obs}')"
   ]
  },
  {
   "cell_type": "code",
   "execution_count": 6,
   "id": "3a24a8b7",
   "metadata": {},
   "outputs": [
    {
     "name": "stdout",
     "output_type": "stream",
     "text": [
      "7r367wUYs1EvyBbeyOcq39.parquet \n",
      " 0    869\n",
      "1     48\n",
      "Name: y, dtype: int64\n",
      "1jfWVd1sTapjjkQwDM4yQX.parquet \n",
      " 0    710\n",
      "Name: y, dtype: int64\n",
      "1XgTQnRlfJ0zpDdg2DccbR.parquet \n",
      " 0    5377\n",
      "1     249\n",
      "Name: y, dtype: int64\n",
      "79aiOALBohH9vEIUHPAoRj.parquet \n",
      " 0    5530\n",
      "1      69\n",
      "Name: y, dtype: int64\n",
      "7LxbgPH3grqf6lCpLKEwo7.parquet \n",
      " 0    814\n",
      "1     10\n",
      "Name: y, dtype: int64\n",
      "0pIwpmg5oPcMWJXVSyrx4E.parquet \n",
      " 0    962\n",
      "1     23\n",
      "Name: y, dtype: int64\n",
      "7vxD3WNDRkigLnIDHyy0cu.parquet \n",
      " 0    904\n",
      "1     22\n",
      "Name: y, dtype: int64\n",
      "6hoNS9LR1Lxb4EzMX72kXR.parquet \n",
      " 0    5705\n",
      "1     192\n",
      "Name: y, dtype: int64\n",
      "2DCEgkjSeRQyMt8KovG8vF.parquet \n",
      " 0    821\n",
      "1     13\n",
      "Name: y, dtype: int64\n",
      "0TkGYYIPwRqx8xzP0XGvRG.parquet \n",
      " 0    2916\n",
      "1      94\n",
      "Name: y, dtype: int64\n",
      "2hgBlERSFYDWndqjWNOV6v.parquet \n",
      " 0    4679\n",
      "1      82\n",
      "Name: y, dtype: int64\n"
     ]
    }
   ],
   "source": [
    "for i in loaded_parquet_df:\n",
    "    print(i, '\\n', loaded_parquet_df[i].y.value_counts())"
   ]
  },
  {
   "cell_type": "code",
   "execution_count": 7,
   "id": "2a8f8c31",
   "metadata": {},
   "outputs": [
    {
     "name": "stdout",
     "output_type": "stream",
     "text": [
      "7r367wUYs1EvyBbeyOcq39.parquet \n",
      " 0    869\n",
      "1     48\n",
      "Name: y, dtype: int64\n",
      "7LxbgPH3grqf6lCpLKEwo7.parquet \n",
      " 0    814\n",
      "1     10\n",
      "Name: y, dtype: int64\n",
      "0pIwpmg5oPcMWJXVSyrx4E.parquet \n",
      " 0    962\n",
      "1     23\n",
      "Name: y, dtype: int64\n",
      "7vxD3WNDRkigLnIDHyy0cu.parquet \n",
      " 0    904\n",
      "1     22\n",
      "Name: y, dtype: int64\n",
      "2DCEgkjSeRQyMt8KovG8vF.parquet \n",
      " 0    821\n",
      "1     13\n",
      "Name: y, dtype: int64\n",
      "0TkGYYIPwRqx8xzP0XGvRG.parquet \n",
      " 0    2916\n",
      "1      94\n",
      "Name: y, dtype: int64\n"
     ]
    }
   ],
   "source": [
    "hot_take = ['0pIwpmg5oPcMWJXVSyrx4E.parquet',\n",
    "            '7vxD3WNDRkigLnIDHyy0cu.parquet',\n",
    "           '7r367wUYs1EvyBbeyOcq39.parquet',\n",
    "           '7LxbgPH3grqf6lCpLKEwo7.parquet',\n",
    "           '0TkGYYIPwRqx8xzP0XGvRG.parquet',\n",
    "           '2DCEgkjSeRQyMt8KovG8vF.parquet']\n",
    "\n",
    "hot_take_parquet_df = {i:loaded_parquet_df[i] for i in loaded_parquet_df if i in hot_take}\n",
    "\n",
    "for i in hot_take_parquet_df:\n",
    "    print(i, '\\n', hot_take_parquet_df[i].y.value_counts())"
   ]
  },
  {
   "cell_type": "markdown",
   "id": "b05b7806",
   "metadata": {},
   "source": [
    "## Creating train-test sets"
   ]
  },
  {
   "cell_type": "code",
   "execution_count": 56,
   "id": "76d480bc",
   "metadata": {},
   "outputs": [
    {
     "name": "stdout",
     "output_type": "stream",
     "text": [
      "7r367wUYs1EvyBbeyOcq39.parquet will be the test podcast\n",
      "Training set size: (29168, 27564)\n",
      "Test set size: (917, 27564)\n",
      "7r367wUYs1EvyBbeyOcq39.parquet scores: accuracy = 0.9160, precision = 0.0323, recall = 0.0208, f1_score = 0.0253\n",
      "TN=839   FP=30   FN=47   TP=1\n",
      "7r367wUYs1EvyBbeyOcq39.parquet completed in 27.81 seconds\n",
      "\n",
      "1jfWVd1sTapjjkQwDM4yQX.parquet will be the test podcast\n",
      "Training set size: (29375, 27564)\n",
      "Test set size: (710, 27564)\n"
     ]
    },
    {
     "name": "stderr",
     "output_type": "stream",
     "text": [
      "/home/ec2-user/anaconda3/envs/tensorflow2_p36/lib/python3.6/site-packages/sklearn/metrics/_classification.py:1245: UndefinedMetricWarning: Recall and F-score are ill-defined and being set to 0.0 in labels with no true samples. Use `zero_division` parameter to control this behavior.\n",
      "  _warn_prf(average, modifier, msg_start, len(result))\n",
      "/home/ec2-user/anaconda3/envs/tensorflow2_p36/lib/python3.6/site-packages/sklearn/metrics/_classification.py:1245: UndefinedMetricWarning: Recall and F-score are ill-defined and being set to 0.0 in labels with no true samples. Use `zero_division` parameter to control this behavior.\n",
      "  _warn_prf(average, modifier, msg_start, len(result))\n",
      "/home/ec2-user/anaconda3/envs/tensorflow2_p36/lib/python3.6/site-packages/sklearn/metrics/_classification.py:1245: UndefinedMetricWarning: Recall and F-score are ill-defined and being set to 0.0 in labels with no true samples. Use `zero_division` parameter to control this behavior.\n",
      "  _warn_prf(average, modifier, msg_start, len(result))\n",
      "/home/ec2-user/anaconda3/envs/tensorflow2_p36/lib/python3.6/site-packages/sklearn/metrics/_classification.py:1245: UndefinedMetricWarning: Recall is ill-defined and being set to 0.0 due to no true samples. Use `zero_division` parameter to control this behavior.\n",
      "  _warn_prf(average, modifier, msg_start, len(result))\n"
     ]
    },
    {
     "name": "stdout",
     "output_type": "stream",
     "text": [
      "1XgTQnRlfJ0zpDdg2DccbR.parquet will be the test podcast\n",
      "Training set size: (24459, 27564)\n",
      "Test set size: (5626, 27564)\n",
      "1XgTQnRlfJ0zpDdg2DccbR.parquet scores: accuracy = 0.9365, precision = 0.0424, recall = 0.0201, f1_score = 0.0272\n",
      "TN=5264   FP=113   FN=244   TP=5\n",
      "1XgTQnRlfJ0zpDdg2DccbR.parquet completed in 26.59 seconds\n",
      "\n",
      "79aiOALBohH9vEIUHPAoRj.parquet will be the test podcast\n",
      "Training set size: (24486, 27564)\n",
      "Test set size: (5599, 27564)\n",
      "79aiOALBohH9vEIUHPAoRj.parquet scores: accuracy = 0.9289, precision = 0.0000, recall = 0.0000, f1_score = 0.0000\n",
      "TN=5201   FP=329   FN=69   TP=0\n",
      "79aiOALBohH9vEIUHPAoRj.parquet completed in 26.45 seconds\n",
      "\n",
      "7LxbgPH3grqf6lCpLKEwo7.parquet will be the test podcast\n",
      "Training set size: (29261, 27564)\n",
      "Test set size: (824, 27564)\n",
      "7LxbgPH3grqf6lCpLKEwo7.parquet scores: accuracy = 0.9527, precision = 0.0323, recall = 0.1000, f1_score = 0.0488\n",
      "TN=784   FP=30   FN=9   TP=1\n",
      "7LxbgPH3grqf6lCpLKEwo7.parquet completed in 29.38 seconds\n",
      "\n",
      "0pIwpmg5oPcMWJXVSyrx4E.parquet will be the test podcast\n",
      "Training set size: (29100, 27564)\n",
      "Test set size: (985, 27564)\n",
      "0pIwpmg5oPcMWJXVSyrx4E.parquet scores: accuracy = 0.9503, precision = 0.0000, recall = 0.0000, f1_score = 0.0000\n",
      "TN=936   FP=26   FN=23   TP=0\n",
      "0pIwpmg5oPcMWJXVSyrx4E.parquet completed in 27.89 seconds\n",
      "\n",
      "7vxD3WNDRkigLnIDHyy0cu.parquet will be the test podcast\n",
      "Training set size: (29159, 27564)\n",
      "Test set size: (926, 27564)\n",
      "7vxD3WNDRkigLnIDHyy0cu.parquet scores: accuracy = 0.9201, precision = 0.0185, recall = 0.0455, f1_score = 0.0263\n",
      "TN=851   FP=53   FN=21   TP=1\n",
      "7vxD3WNDRkigLnIDHyy0cu.parquet completed in 27.83 seconds\n",
      "\n",
      "6hoNS9LR1Lxb4EzMX72kXR.parquet will be the test podcast\n",
      "Training set size: (24188, 27564)\n",
      "Test set size: (5897, 27564)\n",
      "6hoNS9LR1Lxb4EzMX72kXR.parquet scores: accuracy = 0.9286, precision = 0.0474, recall = 0.0625, f1_score = 0.0539\n",
      "TN=5464   FP=241   FN=180   TP=12\n",
      "6hoNS9LR1Lxb4EzMX72kXR.parquet completed in 26.80 seconds\n",
      "\n",
      "2DCEgkjSeRQyMt8KovG8vF.parquet will be the test podcast\n",
      "Training set size: (29251, 27564)\n",
      "Test set size: (834, 27564)\n",
      "2DCEgkjSeRQyMt8KovG8vF.parquet scores: accuracy = 0.9305, precision = 0.0213, recall = 0.0769, f1_score = 0.0333\n",
      "TN=775   FP=46   FN=12   TP=1\n",
      "2DCEgkjSeRQyMt8KovG8vF.parquet completed in 26.47 seconds\n",
      "\n",
      "0TkGYYIPwRqx8xzP0XGvRG.parquet will be the test podcast\n",
      "Training set size: (27075, 27564)\n",
      "Test set size: (3010, 27564)\n",
      "0TkGYYIPwRqx8xzP0XGvRG.parquet scores: accuracy = 0.9472, precision = 0.0149, recall = 0.0106, f1_score = 0.0124\n",
      "TN=2850   FP=66   FN=93   TP=1\n",
      "0TkGYYIPwRqx8xzP0XGvRG.parquet completed in 26.62 seconds\n",
      "\n",
      "2hgBlERSFYDWndqjWNOV6v.parquet will be the test podcast\n",
      "Training set size: (25328, 27564)\n",
      "Test set size: (4757, 27564)\n",
      "2hgBlERSFYDWndqjWNOV6v.parquet scores: accuracy = 0.9533, precision = 0.0270, recall = 0.0488, f1_score = 0.0348\n",
      "TN=4531   FP=144   FN=78   TP=4\n",
      "2hgBlERSFYDWndqjWNOV6v.parquet completed in 26.96 seconds\n",
      "\n",
      "Finished LOOCV in 5.00 minutes\n",
      "Average scores: accuracy = 0.9381, precision = 0.0215, recall = 0.0350, f1_score = 0.0238\n"
     ]
    }
   ],
   "source": [
    "logreg = LogisticRegression(penalty = 'l2', class_weight ='balanced', max_iter = 1e10)\n",
    "\n",
    "logreg_model_metrics = iid_modeling_loocv(loaded_parquet_df, logreg)"
   ]
  },
  {
   "cell_type": "code",
   "execution_count": 11,
   "id": "59478a50",
   "metadata": {
    "scrolled": true
   },
   "outputs": [
    {
     "data": {
      "text/plain": [
       "{'7r367wUYs1EvyBbeyOcq39.parquet': {'model': LogisticRegression(class_weight='balanced', max_iter=10000000000.0),\n",
       "  'y_pred': array([0, 0, 0, 0, 0, 0, 0, 0, 0, 0, 0, 0, 0, 0, 0, 0, 0, 0, 0, 0, 0, 0,\n",
       "         0, 0, 0, 0, 0, 0, 0, 0, 0, 0, 0, 0, 0, 0, 0, 0, 0, 0, 0, 0, 0, 0,\n",
       "         0, 0, 0, 0, 0, 0, 0, 0, 0, 0, 0, 0, 0, 0, 0, 0, 0, 0, 0, 0, 0, 0,\n",
       "         0, 0, 0, 0, 0, 0, 0, 0, 0, 0, 0, 0, 0, 0, 0, 0, 0, 0, 0, 0, 0, 0,\n",
       "         0, 0, 0, 0, 0, 0, 0, 0, 0, 0, 0, 0, 0, 0, 0, 0, 0, 0, 0, 0, 0, 0,\n",
       "         0, 0, 0, 0, 0, 0, 0, 0, 0, 0, 0, 0, 0, 0, 0, 0, 0, 0, 0, 0, 0, 0,\n",
       "         0, 0, 0, 0, 0, 0, 0, 0, 0, 1, 0, 0, 0, 0, 0, 0, 0, 0, 0, 0, 0, 0,\n",
       "         0, 0, 0, 0, 0, 0, 0, 0, 0, 0, 0, 0, 0, 0, 0, 0, 0, 0, 0, 0, 0, 0,\n",
       "         0, 0, 0, 0, 0, 0, 0, 0, 0, 0, 0, 0, 0, 0, 0, 0, 0, 0, 0, 0, 0, 0,\n",
       "         0, 0, 0, 0, 0, 0, 0, 0, 0, 0, 0, 0, 0, 0, 0, 0, 0, 0, 0, 0, 0, 0,\n",
       "         0, 0, 0, 0, 0, 0, 0, 0, 0, 0, 0, 0, 0, 0, 0, 0, 0, 0, 0, 0, 0, 0,\n",
       "         0, 0, 0, 0, 0, 0, 0, 0, 0, 0, 0, 0, 0, 0, 0, 0, 0, 0, 0, 0, 0, 0,\n",
       "         0, 0, 0, 0, 0, 0, 0, 0, 0, 0, 0, 0, 0, 0, 0, 0, 0, 0, 0, 0, 0, 0,\n",
       "         0, 0, 0, 0, 0, 0, 0, 0, 0, 0, 0, 1, 1, 0, 0, 0, 0, 0, 0, 0, 0, 0,\n",
       "         0, 0, 0, 0, 0, 0, 0, 0, 0, 0, 0, 0, 0, 0, 0, 0, 0, 0, 0, 0, 0, 0,\n",
       "         0, 0, 0, 0, 0, 0, 0, 0, 0, 0, 0, 0, 0, 0, 0, 0, 0, 0, 0, 0, 0, 0,\n",
       "         0, 0, 0, 0, 0, 0, 0, 0, 0, 0, 0, 0, 0, 0, 0, 0, 0, 0, 0, 0, 0, 0,\n",
       "         0, 0, 0, 0, 0, 0, 0, 0, 0, 0, 0, 0, 0, 0, 0, 0, 0, 0, 0, 0, 0, 0,\n",
       "         0, 0, 0, 0, 0, 0, 0, 0, 0, 0, 0, 0, 0, 0, 0, 0, 0, 0, 0, 0, 0, 0,\n",
       "         0, 0, 0, 0, 0, 0, 0, 0, 0, 0, 0, 0, 0, 0, 0, 0, 0, 0, 0, 0, 0, 0,\n",
       "         0, 0, 0, 0, 0, 0, 0, 0, 0, 0, 0, 0, 0, 0, 0, 0, 0, 0, 0, 0, 0, 0,\n",
       "         0, 0, 0, 0, 0, 0, 0, 0, 0, 0, 0, 0, 0, 0, 0, 0, 0, 0, 0, 0, 0, 0,\n",
       "         0, 0, 0, 0, 0, 0, 0, 0, 0, 0, 0, 0, 0, 0, 0, 0, 0, 0, 0, 0, 0, 0,\n",
       "         0, 0, 0, 0, 0, 0, 0, 0, 0, 0, 0, 0, 0, 0, 0, 0, 0, 0, 0, 0, 0, 0,\n",
       "         0, 0, 0, 0, 0, 0, 0, 0, 0, 0, 0, 0, 0, 0, 0, 0, 0, 0, 0, 0, 0, 0,\n",
       "         0, 0, 0, 0, 0, 0, 0, 0, 0, 0, 0, 0, 0, 0, 0, 0, 0, 0, 0, 0, 0, 0,\n",
       "         0, 0, 0, 0, 0, 0, 0, 0, 0, 0, 0, 0, 0, 0, 0, 0, 0, 0, 0, 0, 0, 0,\n",
       "         0, 0, 0, 0, 0, 0, 0, 0, 0, 0, 0, 0, 0, 0, 0, 0, 0, 0, 0, 0, 0, 0,\n",
       "         0, 0, 0, 0, 0, 0, 0, 0, 0, 0, 0, 0, 0, 0, 0, 0, 0, 0, 0, 0, 0, 0,\n",
       "         0, 0, 0, 0, 0, 0, 0, 0, 0, 0, 0, 0, 0, 0, 0, 0, 0, 0, 0, 1, 0, 0,\n",
       "         0, 0, 0, 0, 0, 0, 0, 0, 0, 0, 0, 0, 0, 0, 0, 0, 0, 0, 0, 0, 0, 0,\n",
       "         0, 0, 0, 0, 0, 0, 0, 0, 0, 0, 0, 0, 0, 0, 1, 0, 0, 0, 0, 0, 0, 0,\n",
       "         0, 0, 0, 0, 0, 0, 0, 0, 0, 0, 0, 0, 0, 0, 0, 0, 0, 0, 0, 0, 0, 0,\n",
       "         0, 0, 0, 0, 0, 0, 0, 0, 0, 0, 0, 0, 0, 0, 0, 0, 0, 0, 0, 0, 0, 0,\n",
       "         0, 0, 0, 0, 0, 0, 0, 0, 0, 0, 0, 0, 0, 0, 0, 0, 0, 0, 0, 0, 0, 0,\n",
       "         0, 0, 0, 0, 0, 0, 0, 0, 0, 0, 0, 0, 0, 0, 0, 0, 0, 0, 0, 0, 0, 0,\n",
       "         0, 0, 0, 0, 0, 0, 0, 0, 0, 0, 0, 0, 0, 0, 0, 0, 0, 0, 0, 0, 0, 0,\n",
       "         0, 0, 0, 0, 0, 0, 0, 0, 0, 0, 0, 0, 0, 0, 0, 0, 0, 0, 0, 0, 0, 0,\n",
       "         0, 0, 0, 0, 0, 0, 0, 0, 0, 0, 0, 0, 0, 0, 0, 0, 0, 0, 0, 0, 0, 0,\n",
       "         0, 0, 0, 0, 0, 0, 0, 0, 0, 0, 0, 0, 0, 0, 0, 0, 0, 0, 0, 0, 0, 0,\n",
       "         0, 0, 0, 0, 0, 0, 0, 0, 0, 0, 0, 0, 0, 0, 0, 0, 0, 0, 0, 0, 0, 0,\n",
       "         0, 0, 0, 0, 0, 0, 0, 0, 0, 0, 0, 0, 0, 0, 0]),\n",
       "  'classification_report': '              precision    recall  f1-score   support\\n\\n           0       0.95      0.99      0.97       869\\n           1       0.00      0.00      0.00        48\\n\\n    accuracy                           0.94       917\\n   macro avg       0.47      0.50      0.49       917\\nweighted avg       0.90      0.94      0.92       917\\n',\n",
       "  'confusion_matrix': array([[864,   5],\n",
       "         [ 48,   0]]),\n",
       "  'y_pred_prob': array([[9.99980126e-01, 1.98742675e-05],\n",
       "         [9.99945758e-01, 5.42418580e-05],\n",
       "         [9.99960829e-01, 3.91709928e-05],\n",
       "         ...,\n",
       "         [9.99848083e-01, 1.51917020e-04],\n",
       "         [9.99802264e-01, 1.97736201e-04],\n",
       "         [9.99779300e-01, 2.20699838e-04]]),\n",
       "  'y_pred_prob_log': array([[-1.98744650e-05, -1.08260848e+01],\n",
       "         [-5.42433291e-05, -9.82205766e+00],\n",
       "         [-3.91717600e-05, -1.01475741e+01],\n",
       "         ...,\n",
       "         [-1.51928561e-04, -8.79217611e+00],\n",
       "         [-1.97755754e-04, -8.52857673e+00],\n",
       "         [-2.20724196e-04, -8.41870698e+00]]),\n",
       "  'accuracy': 0.9422028353326063,\n",
       "  'precision': 0.0,\n",
       "  'recall': 0.0,\n",
       "  'f1': 0.0,\n",
       "  'logit_roc_auc': 0.49712313003452246,\n",
       "  'fpr_tpr_thresholds': (array([0.        , 0.00115075, 0.04487917, 0.04487917, 0.07019563,\n",
       "          0.07019563, 0.10241657, 0.10241657, 0.10471807, 0.10471807,\n",
       "          0.10817031, 0.10817031, 0.11967779, 0.11967779, 0.12082854,\n",
       "          0.12082854, 0.13118527, 0.13118527, 0.14729574, 0.14729574,\n",
       "          0.22209436, 0.22209436, 0.23245109, 0.23245109, 0.23590334,\n",
       "          0.23590334, 0.25316456, 0.25316456, 0.26352129, 0.26352129,\n",
       "          0.29804373, 0.29804373, 0.31760644, 0.31760644, 0.31875719,\n",
       "          0.31875719, 0.35788262, 0.35788262, 0.36478711, 0.36478711,\n",
       "          0.37054085, 0.37054085, 0.40621404, 0.40621404, 0.42462601,\n",
       "          0.42462601, 0.46835443, 0.46835443, 0.46950518, 0.46950518,\n",
       "          0.47525892, 0.47525892, 0.48216341, 0.48216341, 0.53509781,\n",
       "          0.53509781, 0.56962025, 0.56962025, 0.5972382 , 0.5972382 ,\n",
       "          0.60414269, 0.60414269, 0.61910242, 0.61910242, 0.66168009,\n",
       "          0.66168009, 0.67548907, 0.67548907, 0.69159954, 0.69159954,\n",
       "          0.70540852, 0.70540852, 0.70771001, 0.70771001, 0.73417722,\n",
       "          0.73417722, 0.74223245, 0.74223245, 0.75719217, 0.75719217,\n",
       "          0.78941312, 0.78941312, 0.81242808, 0.81242808, 0.84579977,\n",
       "          0.84579977, 0.87571922, 0.87571922, 0.88377445, 0.88377445,\n",
       "          0.89067894, 0.89067894, 0.91829689, 0.91829689, 0.99424626,\n",
       "          0.99424626, 1.        ]),\n",
       "   array([0.        , 0.        , 0.        , 0.02083333, 0.02083333,\n",
       "          0.04166667, 0.04166667, 0.0625    , 0.0625    , 0.08333333,\n",
       "          0.08333333, 0.10416667, 0.10416667, 0.125     , 0.125     ,\n",
       "          0.14583333, 0.14583333, 0.16666667, 0.16666667, 0.1875    ,\n",
       "          0.1875    , 0.20833333, 0.20833333, 0.22916667, 0.22916667,\n",
       "          0.25      , 0.25      , 0.27083333, 0.27083333, 0.29166667,\n",
       "          0.29166667, 0.3125    , 0.3125    , 0.33333333, 0.33333333,\n",
       "          0.35416667, 0.35416667, 0.375     , 0.375     , 0.39583333,\n",
       "          0.39583333, 0.41666667, 0.41666667, 0.4375    , 0.4375    ,\n",
       "          0.45833333, 0.45833333, 0.47916667, 0.47916667, 0.5       ,\n",
       "          0.5       , 0.54166667, 0.54166667, 0.5625    , 0.5625    ,\n",
       "          0.58333333, 0.58333333, 0.60416667, 0.60416667, 0.625     ,\n",
       "          0.625     , 0.64583333, 0.64583333, 0.66666667, 0.66666667,\n",
       "          0.6875    , 0.6875    , 0.70833333, 0.70833333, 0.72916667,\n",
       "          0.72916667, 0.75      , 0.75      , 0.77083333, 0.77083333,\n",
       "          0.79166667, 0.79166667, 0.8125    , 0.8125    , 0.83333333,\n",
       "          0.83333333, 0.85416667, 0.85416667, 0.875     , 0.875     ,\n",
       "          0.89583333, 0.89583333, 0.91666667, 0.91666667, 0.9375    ,\n",
       "          0.9375    , 0.95833333, 0.95833333, 0.97916667, 0.97916667,\n",
       "          1.        , 1.        ]),\n",
       "   array([1.77664484e+00, 7.76644840e-01, 4.25484163e-02, 4.03379220e-02,\n",
       "          2.21533522e-02, 2.20717309e-02, 1.32577100e-02, 1.30661561e-02,\n",
       "          1.27715238e-02, 1.27563079e-02, 1.09224323e-02, 1.06977921e-02,\n",
       "          8.88144031e-03, 8.88060244e-03, 8.85018333e-03, 8.53961152e-03,\n",
       "          7.38813975e-03, 7.31160187e-03, 5.73170452e-03, 5.52298212e-03,\n",
       "          2.21261545e-03, 2.20944377e-03, 1.98514556e-03, 1.98222278e-03,\n",
       "          1.96141192e-03, 1.93541931e-03, 1.57288617e-03, 1.56057896e-03,\n",
       "          1.44018273e-03, 1.41579783e-03, 1.02859155e-03, 1.01940146e-03,\n",
       "          8.37018101e-04, 8.26194875e-04, 8.12076824e-04, 7.82405301e-04,\n",
       "          5.25003412e-04, 5.22253751e-04, 4.85382580e-04, 4.85212912e-04,\n",
       "          4.54103159e-04, 4.44231334e-04, 3.18201180e-04, 3.16497658e-04,\n",
       "          2.70386740e-04, 2.65742235e-04, 1.87210781e-04, 1.86141063e-04,\n",
       "          1.85369587e-04, 1.81293319e-04, 1.76142171e-04, 1.75899483e-04,\n",
       "          1.66002940e-04, 1.65099470e-04, 1.00840602e-04, 1.00657047e-04,\n",
       "          8.43461416e-05, 8.39300181e-05, 6.50457996e-05, 6.47328100e-05,\n",
       "          5.87998470e-05, 5.86155408e-05, 5.14727402e-05, 5.12919242e-05,\n",
       "          3.22273409e-05, 3.14888070e-05, 2.82107481e-05, 2.81888814e-05,\n",
       "          2.53777503e-05, 2.52754894e-05, 2.19213488e-05, 2.18300987e-05,\n",
       "          2.01205909e-05, 1.99771676e-05, 1.47154757e-05, 1.46131155e-05,\n",
       "          1.40094668e-05, 1.35698934e-05, 1.17048011e-05, 1.14051258e-05,\n",
       "          8.16011113e-06, 8.11668374e-06, 6.11547603e-06, 6.11054589e-06,\n",
       "          4.16141277e-06, 4.08425377e-06, 2.64528061e-06, 2.62887917e-06,\n",
       "          2.30625044e-06, 2.22627298e-06, 1.91564514e-06, 1.90016676e-06,\n",
       "          1.15964586e-06, 1.12892431e-06, 3.94851565e-08, 2.97063292e-08,\n",
       "          4.58817714e-09])),\n",
       "  'false_negatives':             0             1  y_pred  y_pred_true_label\n",
       "  213  0.991460  8.539612e-03       0                  1\n",
       "  214  0.999174  8.261949e-04       0                  1\n",
       "  215  0.999824  1.758995e-04       0                  1\n",
       "  216  0.999969  3.148881e-05       0                  1\n",
       "  217  0.999996  4.084254e-06       0                  1\n",
       "  218  0.999997  2.628879e-06       0                  1\n",
       "  219  0.999986  1.356989e-05       0                  1\n",
       "  220  0.999980  1.997717e-05       0                  1\n",
       "  221  0.999975  2.527549e-05       0                  1\n",
       "  448  0.999999  1.128924e-06       0                  1\n",
       "  449  0.999994  6.110546e-06       0                  1\n",
       "  450  0.999998  2.226273e-06       0                  1\n",
       "  451  0.999978  2.183010e-05       0                  1\n",
       "  452  0.999684  3.164977e-04       0                  1\n",
       "  453  0.999935  6.473281e-05       0                  1\n",
       "  454  0.998065  1.935419e-03       0                  1\n",
       "  455  0.999556  4.442313e-04       0                  1\n",
       "  456  0.999824  1.759528e-04       0                  1\n",
       "  457  0.999835  1.650995e-04       0                  1\n",
       "  458  0.999515  4.852129e-04       0                  1\n",
       "  463  0.991119  8.880602e-03       0                  1\n",
       "  464  0.997791  2.209444e-03       0                  1\n",
       "  465  0.977928  2.207173e-02       0                  1\n",
       "  466  0.998439  1.560579e-03       0                  1\n",
       "  467  0.999916  8.393002e-05       0                  1\n",
       "  468  0.999478  5.222538e-04       0                  1\n",
       "  469  0.992688  7.311602e-03       0                  1\n",
       "  470  0.959662  4.033792e-02       0                  1\n",
       "  471  0.999941  5.861554e-05       0                  1\n",
       "  472  0.999734  2.657422e-04       0                  1\n",
       "  473  0.994477  5.522982e-03       0                  1\n",
       "  474  0.999218  7.824053e-04       0                  1\n",
       "  475  0.999899  1.006570e-04       0                  1\n",
       "  476  0.999972  2.818888e-05       0                  1\n",
       "  477  0.999814  1.861411e-04       0                  1\n",
       "  478  0.998981  1.019401e-03       0                  1\n",
       "  479  0.998584  1.415798e-03       0                  1\n",
       "  480  0.987244  1.275631e-02       0                  1\n",
       "  481  0.998018  1.982223e-03       0                  1\n",
       "  482  0.999985  1.461312e-05       0                  1\n",
       "  869  0.989302  1.069779e-02       0                  1\n",
       "  870  0.986934  1.306616e-02       0                  1\n",
       "  871  0.999819  1.812933e-04       0                  1\n",
       "  872  0.999949  5.129192e-05       0                  1\n",
       "  873  0.999989  1.140513e-05       0                  1\n",
       "  874  1.000000  2.970633e-08       0                  1\n",
       "  875  0.999992  8.116684e-06       0                  1\n",
       "  876  0.999998  1.900167e-06       0                  1,\n",
       "  'false_positives':             0         1  y_pred  y_pred_true_label\n",
       "  141  0.423920  0.576080       1                  0\n",
       "  297  0.341884  0.658116       1                  0\n",
       "  298  0.223355  0.776645       1                  0\n",
       "  657  0.473635  0.526365       1                  0\n",
       "  696  0.397784  0.602216       1                  0,\n",
       "  'true_positives': Empty DataFrame\n",
       "  Columns: [0, 1, y_pred, y_pred_true_label]\n",
       "  Index: []},\n",
       " '7LxbgPH3grqf6lCpLKEwo7.parquet': {'model': LogisticRegression(class_weight='balanced', max_iter=10000000000.0),\n",
       "  'y_pred': array([0, 0, 0, 0, 0, 0, 0, 0, 0, 0, 0, 0, 0, 0, 0, 0, 0, 1, 0, 0, 0, 0,\n",
       "         0, 0, 1, 0, 0, 0, 0, 0, 0, 0, 0, 0, 0, 0, 0, 0, 0, 0, 0, 0, 0, 0,\n",
       "         0, 0, 0, 0, 0, 0, 0, 0, 0, 0, 0, 0, 1, 1, 0, 0, 0, 0, 0, 0, 0, 0,\n",
       "         0, 0, 0, 0, 0, 0, 0, 0, 0, 0, 0, 0, 0, 0, 0, 0, 0, 0, 0, 0, 0, 0,\n",
       "         0, 0, 0, 0, 0, 0, 0, 0, 0, 0, 0, 0, 0, 0, 0, 0, 0, 0, 0, 0, 0, 0,\n",
       "         0, 0, 0, 0, 0, 0, 0, 0, 0, 0, 0, 0, 0, 0, 0, 0, 0, 0, 0, 0, 0, 0,\n",
       "         0, 0, 0, 0, 0, 0, 0, 0, 0, 0, 0, 0, 0, 0, 0, 0, 0, 0, 0, 0, 0, 0,\n",
       "         0, 0, 0, 0, 0, 0, 0, 0, 0, 0, 0, 0, 0, 0, 0, 0, 0, 0, 0, 0, 0, 0,\n",
       "         0, 0, 0, 0, 0, 0, 0, 0, 0, 0, 0, 0, 0, 0, 0, 1, 0, 0, 0, 0, 0, 0,\n",
       "         0, 0, 0, 0, 0, 0, 0, 0, 0, 0, 0, 0, 1, 0, 0, 0, 0, 0, 0, 0, 0, 0,\n",
       "         0, 0, 0, 0, 0, 0, 0, 0, 0, 0, 0, 0, 0, 0, 0, 0, 0, 0, 0, 0, 0, 0,\n",
       "         0, 0, 0, 0, 0, 0, 0, 0, 0, 0, 0, 0, 0, 0, 0, 0, 0, 0, 0, 0, 0, 0,\n",
       "         0, 0, 0, 0, 0, 0, 0, 0, 0, 0, 0, 0, 0, 0, 0, 0, 0, 0, 0, 0, 0, 0,\n",
       "         0, 0, 0, 0, 0, 0, 0, 0, 0, 0, 0, 0, 0, 0, 0, 0, 0, 0, 0, 0, 0, 0,\n",
       "         0, 0, 0, 0, 0, 0, 0, 0, 0, 0, 0, 0, 0, 0, 0, 0, 0, 0, 0, 0, 0, 0,\n",
       "         0, 0, 0, 0, 0, 0, 0, 0, 0, 0, 0, 0, 0, 0, 0, 0, 0, 0, 0, 0, 0, 0,\n",
       "         0, 0, 0, 0, 0, 0, 0, 0, 0, 0, 0, 0, 0, 0, 0, 0, 0, 0, 0, 0, 0, 0,\n",
       "         0, 0, 0, 0, 0, 0, 0, 0, 0, 0, 0, 0, 0, 0, 0, 0, 0, 0, 0, 0, 0, 0,\n",
       "         0, 0, 0, 0, 0, 0, 0, 0, 0, 0, 0, 1, 0, 0, 0, 0, 0, 0, 0, 0, 0, 0,\n",
       "         0, 0, 0, 0, 0, 0, 0, 0, 0, 0, 0, 0, 0, 0, 0, 0, 0, 0, 0, 0, 0, 0,\n",
       "         0, 0, 0, 0, 0, 0, 0, 0, 0, 0, 0, 0, 0, 0, 0, 0, 0, 0, 0, 0, 0, 0,\n",
       "         0, 0, 0, 0, 0, 0, 0, 0, 0, 0, 0, 0, 0, 0, 0, 0, 0, 0, 0, 0, 0, 0,\n",
       "         0, 0, 0, 0, 0, 0, 0, 0, 0, 0, 0, 0, 0, 0, 0, 0, 0, 0, 0, 0, 0, 0,\n",
       "         0, 0, 0, 0, 0, 0, 0, 0, 0, 0, 0, 0, 0, 0, 0, 0, 0, 0, 0, 0, 0, 0,\n",
       "         0, 0, 0, 0, 0, 0, 0, 0, 0, 0, 0, 0, 0, 0, 0, 0, 0, 0, 0, 0, 0, 0,\n",
       "         0, 0, 0, 0, 0, 0, 0, 0, 0, 0, 0, 0, 0, 0, 0, 0, 0, 0, 0, 0, 0, 0,\n",
       "         0, 0, 0, 0, 0, 0, 0, 0, 0, 0, 0, 0, 0, 0, 0, 0, 0, 0, 0, 0, 0, 0,\n",
       "         0, 0, 0, 0, 0, 0, 0, 0, 0, 0, 0, 0, 0, 0, 0, 0, 0, 0, 0, 0, 0, 0,\n",
       "         0, 0, 0, 0, 0, 0, 0, 0, 0, 0, 0, 0, 0, 0, 0, 0, 0, 0, 0, 0, 0, 0,\n",
       "         0, 0, 0, 0, 0, 0, 0, 0, 0, 0, 0, 0, 0, 0, 0, 0, 0, 0, 0, 0, 0, 0,\n",
       "         0, 0, 0, 0, 0, 0, 0, 0, 0, 0, 0, 0, 0, 0, 0, 0, 0, 0, 0, 0, 0, 0,\n",
       "         0, 0, 0, 0, 0, 0, 0, 0, 0, 0, 0, 0, 0, 0, 0, 0, 0, 0, 0, 0, 0, 0,\n",
       "         0, 0, 0, 0, 0, 0, 0, 0, 0, 0, 0, 0, 0, 0, 0, 0, 0, 0, 0, 0, 0, 0,\n",
       "         0, 0, 0, 0, 0, 0, 0, 0, 0, 0, 0, 0, 0, 0, 0, 0, 0, 0, 0, 0, 0, 0,\n",
       "         0, 0, 0, 0, 0, 0, 0, 0, 0, 0, 0, 0, 0, 0, 0, 0, 0, 0, 0, 0, 0, 0,\n",
       "         0, 0, 0, 0, 0, 0, 0, 0, 0, 0, 0, 0, 0, 0, 0, 0, 0, 0, 0, 0, 0, 0,\n",
       "         0, 0, 0, 0, 0, 0, 0, 0, 0, 0, 0, 0, 0, 0, 0, 0, 0, 0, 0, 0, 1, 1,\n",
       "         0, 0, 0, 0, 0, 0, 0, 0, 0, 0]),\n",
       "  'classification_report': '              precision    recall  f1-score   support\\n\\n           0       0.99      0.99      0.99       814\\n           1       0.00      0.00      0.00        10\\n\\n    accuracy                           0.98       824\\n   macro avg       0.49      0.49      0.49       824\\nweighted avg       0.98      0.98      0.98       824\\n',\n",
       "  'confusion_matrix': array([[805,   9],\n",
       "         [ 10,   0]]),\n",
       "  'y_pred_prob': array([[9.99999402e-01, 5.97567397e-07],\n",
       "         [9.99998911e-01, 1.08949855e-06],\n",
       "         [9.99985861e-01, 1.41394808e-05],\n",
       "         ...,\n",
       "         [9.99966959e-01, 3.30408515e-05],\n",
       "         [9.99955599e-01, 4.44009214e-05],\n",
       "         [9.99516109e-01, 4.83891112e-04]]),\n",
       "  'y_pred_prob_log': array([[-5.97567576e-07, -1.43303988e+01],\n",
       "         [-1.08949914e-06, -1.37297930e+01],\n",
       "         [-1.41395808e-05, -1.11665396e+01],\n",
       "         ...,\n",
       "         [-3.30413974e-05, -1.03177658e+01],\n",
       "         [-4.44019072e-05, -1.00222503e+01],\n",
       "         [-4.84008225e-04, -7.63365065e+00]]),\n",
       "  'accuracy': 0.9769417475728155,\n",
       "  'precision': 0.0,\n",
       "  'recall': 0.0,\n",
       "  'f1': 0.0,\n",
       "  'logit_roc_auc': 0.49447174447174447,\n",
       "  'fpr_tpr_thresholds': (array([0.        , 0.0012285 , 0.05282555, 0.05282555, 0.08476658,\n",
       "          0.08476658, 0.11670762, 0.11670762, 0.27518428, 0.27518428,\n",
       "          0.32800983, 0.32800983, 0.44348894, 0.44348894, 0.53931204,\n",
       "          0.53931204, 0.58599509, 0.58599509, 0.75675676, 0.75675676,\n",
       "          0.83046683, 0.83046683, 1.        ]),\n",
       "   array([0. , 0. , 0. , 0.1, 0.1, 0.2, 0.2, 0.3, 0.3, 0.4, 0.4, 0.5, 0.5,\n",
       "          0.6, 0.6, 0.7, 0.7, 0.8, 0.8, 0.9, 0.9, 1. , 1. ]),\n",
       "   array([1.98911804e+00, 9.89118040e-01, 5.34548903e-02, 5.22920933e-02,\n",
       "          1.90518663e-02, 1.85724450e-02, 8.57297364e-03, 8.54681317e-03,\n",
       "          1.32523774e-03, 1.31816859e-03, 7.95655921e-04, 7.90619196e-04,\n",
       "          3.60167666e-04, 3.54253559e-04, 1.74752285e-04, 1.72175295e-04,\n",
       "          1.39021784e-04, 1.38850592e-04, 3.66323005e-05, 3.62994230e-05,\n",
       "          1.50946126e-05, 1.50342181e-05, 9.37882637e-09])),\n",
       "  'false_negatives':             0         1  y_pred  y_pred_true_label\n",
       "  128  0.999964  0.000036       0                  1\n",
       "  129  0.998682  0.001318       0                  1\n",
       "  130  0.999646  0.000354       0                  1\n",
       "  371  0.981428  0.018572       0                  1\n",
       "  372  0.991453  0.008547       0                  1\n",
       "  373  0.947708  0.052292       0                  1\n",
       "  764  0.999985  0.000015       0                  1\n",
       "  765  0.999861  0.000139       0                  1\n",
       "  766  0.999828  0.000172       0                  1\n",
       "  767  0.999209  0.000791       0                  1,\n",
       "  'false_positives':             0         1  y_pred  y_pred_true_label\n",
       "  17   0.116461  0.883539       1                  0\n",
       "  24   0.386909  0.613091       1                  0\n",
       "  56   0.010882  0.989118       1                  0\n",
       "  57   0.401149  0.598851       1                  0\n",
       "  191  0.445241  0.554759       1                  0\n",
       "  210  0.316743  0.683257       1                  0\n",
       "  407  0.176676  0.823324       1                  0\n",
       "  812  0.233006  0.766994       1                  0\n",
       "  813  0.060869  0.939131       1                  0,\n",
       "  'true_positives': Empty DataFrame\n",
       "  Columns: [0, 1, y_pred, y_pred_true_label]\n",
       "  Index: []},\n",
       " '0pIwpmg5oPcMWJXVSyrx4E.parquet': {'model': LogisticRegression(class_weight='balanced', max_iter=10000000000.0),\n",
       "  'y_pred': array([0, 0, 0, 0, 0, 0, 0, 0, 0, 0, 0, 0, 0, 0, 0, 0, 0, 0, 0, 0, 0, 0,\n",
       "         0, 0, 0, 0, 0, 0, 0, 0, 0, 0, 0, 0, 0, 0, 0, 0, 0, 0, 0, 0, 0, 0,\n",
       "         0, 0, 0, 0, 0, 0, 0, 0, 0, 0, 0, 0, 0, 0, 0, 0, 0, 0, 0, 0, 0, 0,\n",
       "         0, 0, 0, 0, 0, 0, 0, 0, 0, 0, 0, 0, 0, 0, 0, 0, 0, 0, 0, 0, 0, 0,\n",
       "         0, 0, 0, 0, 0, 0, 0, 0, 0, 0, 0, 0, 0, 0, 0, 0, 0, 0, 0, 0, 0, 0,\n",
       "         0, 0, 0, 0, 0, 0, 0, 0, 0, 0, 0, 0, 0, 0, 0, 0, 0, 0, 0, 0, 0, 0,\n",
       "         0, 0, 0, 0, 0, 0, 0, 0, 0, 0, 0, 0, 0, 0, 0, 0, 0, 0, 0, 0, 0, 0,\n",
       "         0, 0, 0, 0, 0, 0, 0, 0, 0, 0, 0, 0, 0, 0, 0, 0, 0, 0, 0, 0, 0, 0,\n",
       "         0, 0, 0, 0, 0, 0, 0, 0, 0, 0, 0, 0, 0, 0, 0, 0, 0, 0, 0, 0, 0, 0,\n",
       "         0, 0, 0, 0, 0, 0, 0, 0, 0, 0, 0, 0, 0, 0, 0, 0, 0, 0, 0, 0, 0, 0,\n",
       "         0, 0, 0, 0, 0, 0, 0, 0, 0, 0, 0, 0, 0, 0, 0, 0, 0, 0, 0, 0, 0, 0,\n",
       "         0, 0, 0, 0, 0, 0, 0, 0, 0, 0, 0, 0, 0, 0, 0, 0, 0, 0, 0, 0, 0, 0,\n",
       "         0, 0, 0, 0, 0, 0, 0, 0, 0, 0, 0, 0, 0, 0, 0, 0, 0, 0, 0, 0, 0, 0,\n",
       "         0, 0, 0, 0, 0, 0, 0, 0, 0, 0, 0, 0, 0, 0, 0, 0, 0, 0, 0, 0, 0, 0,\n",
       "         0, 0, 0, 0, 0, 0, 0, 0, 0, 0, 0, 0, 0, 0, 0, 0, 0, 0, 0, 0, 0, 0,\n",
       "         0, 0, 0, 0, 0, 0, 0, 0, 0, 0, 0, 0, 0, 0, 0, 0, 0, 0, 0, 0, 0, 0,\n",
       "         0, 0, 0, 0, 0, 0, 0, 0, 0, 0, 0, 0, 0, 0, 0, 0, 0, 0, 0, 0, 0, 0,\n",
       "         0, 0, 0, 0, 0, 0, 0, 0, 0, 0, 0, 0, 0, 0, 0, 0, 0, 0, 0, 0, 0, 0,\n",
       "         0, 0, 0, 0, 0, 0, 0, 0, 0, 0, 0, 0, 0, 0, 0, 0, 0, 0, 0, 0, 0, 0,\n",
       "         0, 0, 0, 0, 0, 0, 0, 0, 0, 0, 0, 0, 0, 0, 0, 0, 0, 0, 0, 0, 0, 0,\n",
       "         0, 0, 0, 0, 0, 0, 0, 0, 0, 0, 0, 0, 0, 0, 0, 0, 0, 0, 0, 0, 0, 0,\n",
       "         0, 0, 0, 0, 0, 0, 0, 0, 0, 0, 0, 0, 0, 0, 0, 0, 0, 0, 0, 0, 0, 0,\n",
       "         0, 0, 0, 0, 0, 0, 0, 0, 0, 0, 0, 0, 0, 0, 0, 0, 0, 0, 0, 0, 0, 0,\n",
       "         0, 0, 0, 0, 0, 0, 0, 0, 0, 0, 0, 0, 0, 0, 0, 0, 0, 0, 0, 0, 0, 0,\n",
       "         0, 0, 0, 0, 0, 0, 0, 0, 0, 0, 0, 0, 0, 0, 0, 0, 0, 0, 0, 0, 0, 0,\n",
       "         0, 0, 0, 0, 0, 0, 0, 0, 0, 0, 0, 0, 0, 0, 0, 0, 0, 0, 0, 0, 0, 0,\n",
       "         0, 0, 0, 0, 0, 0, 0, 0, 0, 0, 0, 0, 0, 0, 0, 0, 0, 0, 0, 0, 0, 0,\n",
       "         0, 0, 0, 0, 0, 0, 0, 0, 0, 0, 0, 0, 0, 0, 0, 0, 0, 0, 0, 0, 0, 0,\n",
       "         0, 0, 0, 0, 0, 0, 0, 0, 0, 0, 0, 0, 0, 0, 1, 0, 0, 0, 0, 0, 0, 0,\n",
       "         0, 0, 0, 0, 0, 0, 0, 0, 0, 0, 0, 0, 0, 0, 0, 0, 0, 0, 0, 0, 0, 0,\n",
       "         0, 0, 0, 1, 0, 0, 0, 0, 0, 1, 0, 0, 0, 0, 0, 0, 0, 0, 0, 0, 0, 0,\n",
       "         0, 0, 0, 0, 0, 0, 0, 0, 0, 0, 0, 0, 0, 0, 0, 0, 0, 0, 0, 0, 0, 0,\n",
       "         0, 0, 0, 0, 0, 0, 0, 0, 0, 0, 0, 0, 0, 0, 0, 0, 0, 0, 0, 0, 0, 0,\n",
       "         0, 0, 0, 0, 0, 0, 0, 0, 0, 0, 0, 0, 0, 0, 0, 0, 0, 0, 0, 0, 0, 0,\n",
       "         0, 0, 0, 0, 0, 0, 0, 0, 0, 0, 0, 0, 0, 0, 0, 0, 0, 0, 0, 0, 0, 0,\n",
       "         0, 0, 0, 0, 0, 0, 0, 0, 0, 0, 0, 0, 0, 0, 0, 0, 0, 0, 0, 0, 0, 0,\n",
       "         0, 0, 0, 0, 0, 0, 0, 0, 0, 0, 0, 0, 0, 0, 0, 0, 0, 0, 0, 0, 0, 0,\n",
       "         0, 0, 0, 0, 0, 0, 0, 0, 0, 0, 0, 0, 0, 0, 0, 0, 0, 0, 0, 0, 0, 0,\n",
       "         0, 0, 0, 0, 0, 0, 0, 0, 0, 0, 0, 0, 0, 0, 0, 0, 0, 0, 0, 0, 0, 0,\n",
       "         0, 0, 0, 0, 0, 0, 0, 0, 0, 0, 0, 0, 0, 0, 0, 0, 0, 0, 0, 0, 0, 0,\n",
       "         0, 0, 0, 0, 0, 0, 0, 0, 0, 0, 0, 0, 0, 0, 0, 0, 0, 0, 0, 0, 0, 0,\n",
       "         0, 0, 0, 0, 0, 0, 0, 0, 0, 0, 0, 0, 0, 0, 0, 0, 0, 0, 0, 0, 0, 0,\n",
       "         0, 0, 0, 0, 0, 0, 0, 0, 0, 0, 0, 0, 0, 0, 0, 0, 0, 0, 0, 0, 0, 0,\n",
       "         0, 0, 0, 0, 0, 0, 0, 0, 0, 0, 0, 0, 0, 0, 0, 0, 0, 0, 0, 0, 0, 0,\n",
       "         0, 0, 0, 0, 0, 0, 0, 0, 0, 0, 0, 0, 0, 0, 0, 0, 0]),\n",
       "  'classification_report': '              precision    recall  f1-score   support\\n\\n           0       0.98      1.00      0.99       962\\n           1       0.00      0.00      0.00        23\\n\\n    accuracy                           0.97       985\\n   macro avg       0.49      0.50      0.49       985\\nweighted avg       0.95      0.97      0.96       985\\n',\n",
       "  'confusion_matrix': array([[959,   3],\n",
       "         [ 23,   0]]),\n",
       "  'y_pred_prob': array([[9.99444426e-01, 5.55574138e-04],\n",
       "         [9.99172944e-01, 8.27056397e-04],\n",
       "         [9.96109517e-01, 3.89048297e-03],\n",
       "         ...,\n",
       "         [9.99987113e-01, 1.28865048e-05],\n",
       "         [9.98928273e-01, 1.07172709e-03],\n",
       "         [9.99893094e-01, 1.06905599e-04]]),\n",
       "  'y_pred_prob_log': array([[-5.55728526e-04, -7.49550850e+00],\n",
       "         [-8.27398597e-04, -7.09763767e+00],\n",
       "         [-3.89807058e-03, -5.54922197e+00],\n",
       "         ...,\n",
       "         [-1.28865879e-05, -1.12593299e+01],\n",
       "         [-1.07230180e-03, -6.83848383e+00],\n",
       "         [-1.06911314e-04, -9.14356436e+00]]),\n",
       "  'accuracy': 0.9736040609137055,\n",
       "  'precision': 0.0,\n",
       "  'recall': 0.0,\n",
       "  'f1': 0.0,\n",
       "  'logit_roc_auc': 0.4984407484407484,\n",
       "  'fpr_tpr_thresholds': (array([0.        , 0.0010395 , 0.1008316 , 0.1008316 , 0.14864865,\n",
       "          0.14864865, 0.28898129, 0.28898129, 0.30873181, 0.30873181,\n",
       "          0.32744283, 0.32744283, 0.38877339, 0.38877339, 0.4033264 ,\n",
       "          0.4033264 , 0.47193347, 0.47193347, 0.47609148, 0.47609148,\n",
       "          0.497921  , 0.497921  , 0.57380457, 0.57380457, 0.7016632 ,\n",
       "          0.7016632 , 0.7952183 , 0.7952183 , 0.85343035, 0.85343035,\n",
       "          0.87629938, 0.87629938, 0.87941788, 0.87941788, 0.89397089,\n",
       "          0.89397089, 0.94386694, 0.94386694, 0.94490644, 0.94490644,\n",
       "          0.97401247, 0.97401247, 1.        ]),\n",
       "   array([0.        , 0.        , 0.        , 0.13043478, 0.13043478,\n",
       "          0.17391304, 0.17391304, 0.2173913 , 0.2173913 , 0.26086957,\n",
       "          0.26086957, 0.30434783, 0.30434783, 0.34782609, 0.34782609,\n",
       "          0.39130435, 0.39130435, 0.43478261, 0.43478261, 0.47826087,\n",
       "          0.47826087, 0.52173913, 0.52173913, 0.60869565, 0.60869565,\n",
       "          0.65217391, 0.65217391, 0.69565217, 0.69565217, 0.73913043,\n",
       "          0.73913043, 0.7826087 , 0.7826087 , 0.82608696, 0.82608696,\n",
       "          0.86956522, 0.86956522, 0.91304348, 0.91304348, 0.95652174,\n",
       "          0.95652174, 1.        , 1.        ]),\n",
       "   array([1.84118090e+00, 8.41180902e-01, 6.76347667e-03, 6.46489956e-03,\n",
       "          3.23740287e-03, 3.23630725e-03, 9.54328551e-04, 9.51643953e-04,\n",
       "          8.32282209e-04, 8.32108243e-04, 7.42125021e-04, 7.17164675e-04,\n",
       "          4.55570189e-04, 4.55233276e-04, 4.16140103e-04, 4.13611762e-04,\n",
       "          2.70902178e-04, 2.66191908e-04, 2.57747228e-04, 2.54788025e-04,\n",
       "          2.19969485e-04, 2.19675151e-04, 1.50677492e-04, 1.48591701e-04,\n",
       "          6.93124783e-05, 6.90872099e-05, 3.62716022e-05, 3.61470136e-05,\n",
       "          2.12901558e-05, 2.11704428e-05, 1.62041092e-05, 1.61729782e-05,\n",
       "          1.57454134e-05, 1.56518533e-05, 1.25401274e-05, 1.22248343e-05,\n",
       "          5.95370053e-06, 5.91196676e-06, 5.82515583e-06, 5.52409698e-06,\n",
       "          2.77032712e-06, 2.76193355e-06, 2.19207380e-08])),\n",
       "  'false_negatives':             0         1  y_pred  y_pred_true_label\n",
       "  155  0.999745  0.000255       0                  1\n",
       "  156  0.996764  0.003236       0                  1\n",
       "  157  0.999545  0.000455       0                  1\n",
       "  158  0.999964  0.000036       0                  1\n",
       "  159  0.999979  0.000021       0                  1\n",
       "  160  0.999734  0.000266       0                  1\n",
       "  161  0.999931  0.000069       0                  1\n",
       "  162  0.999994  0.000006       0                  1\n",
       "  163  0.999994  0.000006       0                  1\n",
       "  164  0.999997  0.000003       0                  1\n",
       "  165  0.999988  0.000012       0                  1\n",
       "  166  0.999851  0.000149       0                  1\n",
       "  167  0.999283  0.000717       0                  1\n",
       "  168  0.993485  0.006515       0                  1\n",
       "  169  0.999780  0.000220       0                  1\n",
       "  193  0.993423  0.006577       0                  1\n",
       "  194  0.999851  0.000149       0                  1\n",
       "  195  0.999984  0.000016       0                  1\n",
       "  196  0.999984  0.000016       0                  1\n",
       "  197  0.999586  0.000414       0                  1\n",
       "  198  0.999168  0.000832       0                  1\n",
       "  584  0.999048  0.000952       0                  1\n",
       "  585  0.993535  0.006465       0                  1,\n",
       "  'false_positives':             0         1  y_pred  y_pred_true_label\n",
       "  630  0.387920  0.612080       1                  0\n",
       "  663  0.158819  0.841181       1                  0\n",
       "  669  0.397536  0.602464       1                  0,\n",
       "  'true_positives': Empty DataFrame\n",
       "  Columns: [0, 1, y_pred, y_pred_true_label]\n",
       "  Index: []},\n",
       " '7vxD3WNDRkigLnIDHyy0cu.parquet': {'model': LogisticRegression(class_weight='balanced', max_iter=10000000000.0),\n",
       "  'y_pred': array([0, 0, 0, 0, 0, 0, 0, 0, 0, 0, 0, 0, 0, 0, 0, 0, 0, 0, 0, 0, 0, 0,\n",
       "         0, 0, 0, 0, 0, 0, 0, 0, 0, 0, 0, 0, 0, 0, 0, 0, 0, 0, 0, 0, 0, 0,\n",
       "         0, 0, 0, 0, 0, 0, 0, 0, 0, 0, 0, 0, 0, 0, 0, 0, 0, 0, 0, 0, 0, 0,\n",
       "         0, 0, 0, 0, 0, 0, 0, 0, 0, 0, 0, 0, 0, 0, 0, 0, 0, 0, 0, 0, 0, 0,\n",
       "         0, 0, 0, 0, 0, 0, 0, 0, 0, 0, 0, 0, 0, 0, 0, 0, 0, 0, 0, 0, 0, 0,\n",
       "         0, 0, 0, 0, 0, 0, 0, 0, 0, 0, 0, 0, 0, 0, 0, 0, 0, 0, 0, 0, 0, 0,\n",
       "         0, 0, 0, 0, 0, 0, 0, 0, 0, 0, 0, 0, 0, 0, 0, 0, 0, 0, 0, 0, 0, 0,\n",
       "         0, 0, 0, 0, 0, 0, 0, 0, 0, 0, 0, 0, 0, 0, 0, 0, 0, 0, 0, 0, 0, 0,\n",
       "         0, 0, 0, 0, 0, 0, 0, 0, 0, 0, 0, 0, 0, 0, 0, 0, 0, 0, 0, 0, 0, 0,\n",
       "         0, 0, 0, 0, 0, 0, 0, 0, 0, 0, 0, 0, 0, 0, 0, 0, 0, 0, 0, 0, 0, 0,\n",
       "         0, 0, 0, 0, 0, 0, 0, 0, 0, 0, 0, 0, 0, 0, 0, 0, 0, 0, 0, 0, 0, 0,\n",
       "         0, 0, 0, 0, 0, 0, 0, 0, 0, 0, 0, 0, 0, 0, 0, 0, 0, 0, 0, 0, 0, 0,\n",
       "         0, 0, 0, 0, 0, 0, 0, 0, 0, 0, 0, 0, 0, 0, 0, 0, 0, 0, 0, 0, 0, 0,\n",
       "         0, 0, 0, 0, 0, 0, 0, 0, 0, 0, 0, 0, 0, 0, 0, 0, 0, 0, 0, 0, 0, 0,\n",
       "         0, 0, 0, 0, 0, 0, 0, 0, 0, 0, 0, 0, 0, 0, 0, 0, 0, 0, 0, 0, 0, 0,\n",
       "         0, 0, 0, 0, 0, 0, 0, 0, 0, 0, 0, 0, 0, 0, 0, 1, 0, 1, 0, 0, 0, 0,\n",
       "         0, 0, 0, 0, 0, 0, 0, 0, 0, 0, 0, 0, 0, 0, 0, 0, 0, 0, 0, 0, 0, 0,\n",
       "         0, 0, 0, 0, 0, 0, 0, 0, 0, 0, 0, 0, 0, 0, 0, 0, 0, 0, 0, 0, 0, 0,\n",
       "         0, 0, 0, 0, 0, 0, 0, 0, 0, 0, 0, 0, 0, 0, 0, 0, 0, 0, 0, 0, 0, 0,\n",
       "         0, 0, 0, 0, 0, 0, 0, 0, 0, 0, 0, 0, 0, 0, 0, 0, 0, 0, 0, 0, 0, 0,\n",
       "         0, 0, 0, 0, 0, 0, 0, 0, 0, 0, 0, 0, 0, 0, 0, 0, 0, 0, 0, 0, 0, 0,\n",
       "         0, 0, 0, 0, 0, 0, 0, 0, 0, 0, 1, 0, 0, 0, 0, 0, 0, 0, 0, 0, 0, 0,\n",
       "         0, 0, 0, 0, 0, 0, 0, 0, 0, 0, 0, 0, 0, 0, 0, 0, 0, 0, 0, 0, 0, 0,\n",
       "         0, 0, 0, 0, 0, 0, 0, 0, 0, 0, 0, 0, 0, 0, 0, 0, 0, 0, 0, 0, 0, 0,\n",
       "         0, 0, 0, 0, 0, 0, 0, 0, 0, 0, 0, 0, 0, 0, 0, 0, 0, 0, 0, 0, 0, 0,\n",
       "         0, 0, 0, 0, 0, 0, 0, 0, 0, 0, 0, 0, 0, 0, 0, 0, 0, 0, 0, 0, 0, 0,\n",
       "         0, 0, 0, 0, 0, 0, 0, 0, 0, 0, 0, 0, 0, 0, 0, 0, 0, 0, 0, 0, 0, 0,\n",
       "         0, 0, 0, 0, 0, 0, 0, 0, 0, 0, 0, 0, 0, 0, 0, 0, 0, 0, 0, 0, 0, 0,\n",
       "         0, 0, 0, 0, 0, 0, 0, 0, 0, 0, 0, 0, 0, 0, 0, 0, 0, 0, 0, 0, 0, 0,\n",
       "         0, 0, 0, 0, 0, 0, 0, 0, 0, 0, 0, 0, 0, 0, 0, 0, 0, 0, 0, 0, 0, 0,\n",
       "         0, 0, 0, 0, 0, 0, 0, 0, 0, 0, 0, 0, 0, 0, 0, 0, 0, 0, 0, 0, 0, 0,\n",
       "         0, 0, 0, 0, 0, 0, 0, 0, 0, 0, 0, 0, 0, 0, 0, 0, 0, 0, 0, 0, 0, 0,\n",
       "         0, 0, 0, 0, 0, 0, 0, 0, 0, 0, 0, 0, 0, 0, 0, 0, 0, 0, 0, 0, 0, 0,\n",
       "         0, 0, 0, 0, 0, 0, 0, 0, 0, 0, 0, 0, 0, 0, 0, 0, 0, 0, 0, 0, 0, 0,\n",
       "         0, 0, 0, 0, 0, 0, 0, 0, 0, 0, 0, 0, 0, 0, 0, 0, 0, 0, 0, 0, 0, 0,\n",
       "         0, 0, 0, 0, 0, 0, 0, 0, 0, 0, 0, 0, 0, 0, 0, 0, 0, 0, 0, 0, 0, 0,\n",
       "         0, 0, 0, 0, 0, 0, 0, 0, 0, 0, 0, 0, 0, 0, 0, 0, 0, 0, 0, 0, 0, 0,\n",
       "         0, 0, 0, 0, 0, 0, 0, 0, 0, 0, 0, 0, 0, 0, 0, 0, 0, 0, 0, 0, 0, 0,\n",
       "         0, 0, 0, 0, 0, 0, 0, 0, 0, 0, 0, 0, 0, 0, 0, 0, 0, 0, 0, 0, 0, 0,\n",
       "         0, 0, 0, 0, 0, 0, 0, 0, 0, 0, 0, 0, 0, 0, 0, 0, 0, 0, 0, 0, 0, 0,\n",
       "         0, 0, 0, 0, 0, 0, 0, 0, 0, 0, 0, 0, 0, 0, 0, 0, 0, 0, 0, 0, 0, 0,\n",
       "         0, 0, 0, 0, 0, 0, 0, 0, 0, 0, 0, 0, 0, 0, 0, 0, 0, 0, 0, 0, 0, 0,\n",
       "         0, 0]),\n",
       "  'classification_report': '              precision    recall  f1-score   support\\n\\n           0       0.98      1.00      0.99       904\\n           1       0.00      0.00      0.00        22\\n\\n    accuracy                           0.97       926\\n   macro avg       0.49      0.50      0.49       926\\nweighted avg       0.95      0.97      0.96       926\\n',\n",
       "  'confusion_matrix': array([[901,   3],\n",
       "         [ 22,   0]]),\n",
       "  'y_pred_prob': array([[9.99999464e-01, 5.35693179e-07],\n",
       "         [9.99997232e-01, 2.76780058e-06],\n",
       "         [9.99991757e-01, 8.24282189e-06],\n",
       "         ...,\n",
       "         [9.99994155e-01, 5.84482573e-06],\n",
       "         [9.99979713e-01, 2.02870843e-05],\n",
       "         [9.99877276e-01, 1.22723750e-04]]),\n",
       "  'y_pred_prob_log': array([[-5.35693323e-07, -1.44397043e+01],\n",
       "         [-2.76780441e-06, -1.27974576e+01],\n",
       "         [-8.24285587e-06, -1.17061678e+01],\n",
       "         ...,\n",
       "         [-5.84484281e-06, -1.20499538e+01],\n",
       "         [-2.02872901e-05, -1.08055261e+01],\n",
       "         [-1.22731281e-04, -9.00557466e+00]]),\n",
       "  'accuracy': 0.9730021598272138,\n",
       "  'precision': 0.0,\n",
       "  'recall': 0.0,\n",
       "  'f1': 0.0,\n",
       "  'logit_roc_auc': 0.4983407079646018,\n",
       "  'fpr_tpr_thresholds': (array([0.        , 0.00110619, 0.01327434, 0.01327434, 0.0199115 ,\n",
       "          0.0199115 , 0.02323009, 0.02323009, 0.09181416, 0.09181416,\n",
       "          0.14380531, 0.14380531, 0.48230088, 0.48230088, 0.51438053,\n",
       "          0.51438053, 0.52544248, 0.52544248, 0.58960177, 0.58960177,\n",
       "          0.64933628, 0.64933628, 0.70243363, 0.70243363, 0.71128319,\n",
       "          0.71128319, 0.73783186, 0.73783186, 0.74115044, 0.74115044,\n",
       "          0.74225664, 0.74225664, 0.75663717, 0.75663717, 0.79314159,\n",
       "          0.79314159, 0.96017699, 0.96017699, 0.96128319, 0.96128319,\n",
       "          0.99557522, 0.99557522, 0.99889381, 0.99889381, 1.        ]),\n",
       "   array([0.        , 0.        , 0.        , 0.04545455, 0.04545455,\n",
       "          0.13636364, 0.13636364, 0.18181818, 0.18181818, 0.22727273,\n",
       "          0.22727273, 0.27272727, 0.27272727, 0.31818182, 0.31818182,\n",
       "          0.36363636, 0.36363636, 0.40909091, 0.40909091, 0.45454545,\n",
       "          0.45454545, 0.5       , 0.5       , 0.54545455, 0.54545455,\n",
       "          0.59090909, 0.59090909, 0.63636364, 0.63636364, 0.68181818,\n",
       "          0.68181818, 0.72727273, 0.72727273, 0.77272727, 0.77272727,\n",
       "          0.81818182, 0.81818182, 0.86363636, 0.86363636, 0.90909091,\n",
       "          0.90909091, 0.95454545, 0.95454545, 1.        , 1.        ]),\n",
       "   array([1.92225064e+00, 9.22250641e-01, 2.95493034e-01, 2.75572549e-01,\n",
       "          1.48052777e-01, 1.40907986e-01, 1.29286652e-01, 1.15441467e-01,\n",
       "          1.73017310e-02, 1.67468738e-02, 8.00123565e-03, 7.96805525e-03,\n",
       "          4.51762907e-04, 4.32000780e-04, 3.46536066e-04, 3.44696590e-04,\n",
       "          3.10535531e-04, 3.07134938e-04, 1.79548014e-04, 1.79228716e-04,\n",
       "          1.10537034e-04, 1.10497027e-04, 7.70374412e-05, 7.61768185e-05,\n",
       "          6.91017827e-05, 6.90459462e-05, 6.00202157e-05, 5.98405533e-05,\n",
       "          5.92318494e-05, 5.89573861e-05, 5.88967304e-05, 5.88332991e-05,\n",
       "          4.48846037e-05, 4.48700597e-05, 3.17776429e-05, 3.17615277e-05,\n",
       "          1.86636524e-06, 1.82859403e-06, 1.77869696e-06, 1.58747136e-06,\n",
       "          8.98077043e-08, 6.78656428e-08, 2.77604243e-08, 2.75144249e-08,\n",
       "          8.54382138e-09])),\n",
       "  'false_negatives':             0             1  y_pred  y_pred_true_label\n",
       "  212  0.724427  2.755725e-01       0                  1\n",
       "  213  0.884559  1.154415e-01       0                  1\n",
       "  214  0.855902  1.440978e-01       0                  1\n",
       "  215  0.859092  1.409080e-01       0                  1\n",
       "  216  0.983253  1.674687e-02       0                  1\n",
       "  217  0.999655  3.446966e-04       0                  1\n",
       "  218  0.999890  1.104970e-04       0                  1\n",
       "  219  0.999568  4.320008e-04       0                  1\n",
       "  521  1.000000  6.786564e-08       0                  1\n",
       "  522  0.999998  1.828594e-06       0                  1\n",
       "  523  0.999968  3.176153e-05       0                  1\n",
       "  524  1.000000  2.751442e-08       0                  1\n",
       "  525  0.999998  1.587471e-06       0                  1\n",
       "  691  0.999931  6.904595e-05       0                  1\n",
       "  692  0.999924  7.617682e-05       0                  1\n",
       "  693  0.992032  7.968055e-03       0                  1\n",
       "  694  0.999693  3.071349e-04       0                  1\n",
       "  695  0.999940  5.984055e-05       0                  1\n",
       "  696  0.999821  1.792287e-04       0                  1\n",
       "  697  0.999941  5.895739e-05       0                  1\n",
       "  698  0.999955  4.487006e-05       0                  1\n",
       "  699  0.999941  5.883330e-05       0                  1,\n",
       "  'false_positives':             0         1  y_pred  y_pred_true_label\n",
       "  345  0.444696  0.555304       1                  0\n",
       "  347  0.077749  0.922251       1                  0\n",
       "  472  0.360922  0.639078       1                  0,\n",
       "  'true_positives': Empty DataFrame\n",
       "  Columns: [0, 1, y_pred, y_pred_true_label]\n",
       "  Index: []},\n",
       " '2DCEgkjSeRQyMt8KovG8vF.parquet': {'model': LogisticRegression(class_weight='balanced', max_iter=10000000000.0),\n",
       "  'y_pred': array([0, 0, 0, 0, 0, 0, 0, 0, 0, 0, 0, 0, 0, 0, 0, 0, 0, 0, 0, 0, 0, 0,\n",
       "         0, 0, 0, 0, 0, 0, 0, 0, 0, 0, 0, 0, 0, 0, 0, 0, 0, 0, 0, 0, 0, 0,\n",
       "         0, 0, 0, 0, 0, 0, 0, 0, 0, 0, 0, 0, 0, 0, 0, 0, 0, 0, 0, 0, 0, 0,\n",
       "         0, 0, 0, 0, 0, 0, 0, 0, 0, 0, 0, 0, 0, 0, 0, 0, 0, 0, 0, 0, 0, 0,\n",
       "         0, 0, 0, 0, 0, 0, 0, 0, 0, 0, 0, 0, 0, 0, 0, 0, 0, 0, 0, 0, 0, 0,\n",
       "         0, 0, 0, 0, 0, 0, 0, 0, 0, 0, 0, 0, 0, 0, 0, 0, 0, 0, 0, 0, 0, 0,\n",
       "         0, 0, 0, 0, 0, 0, 0, 0, 0, 0, 0, 0, 0, 0, 0, 0, 0, 0, 0, 0, 0, 0,\n",
       "         0, 0, 0, 0, 0, 0, 0, 0, 0, 0, 0, 0, 0, 0, 0, 0, 0, 0, 0, 0, 0, 0,\n",
       "         0, 0, 0, 0, 0, 0, 0, 0, 0, 0, 0, 0, 0, 0, 0, 0, 0, 0, 0, 0, 0, 0,\n",
       "         0, 0, 0, 0, 0, 0, 0, 0, 0, 0, 0, 0, 0, 0, 0, 0, 0, 0, 0, 0, 0, 0,\n",
       "         0, 0, 0, 0, 0, 0, 0, 0, 0, 0, 0, 0, 0, 0, 0, 0, 0, 0, 0, 0, 0, 0,\n",
       "         0, 0, 0, 0, 0, 0, 0, 0, 0, 0, 0, 0, 0, 0, 0, 0, 0, 0, 0, 0, 0, 0,\n",
       "         0, 0, 0, 0, 0, 0, 0, 0, 0, 0, 0, 0, 0, 0, 0, 0, 0, 0, 0, 0, 0, 0,\n",
       "         0, 0, 0, 0, 0, 0, 1, 1, 1, 0, 0, 0, 0, 0, 0, 0, 0, 0, 0, 0, 0, 0,\n",
       "         0, 0, 0, 0, 0, 0, 0, 0, 0, 0, 0, 0, 0, 0, 0, 0, 0, 0, 0, 0, 0, 0,\n",
       "         0, 0, 0, 0, 0, 0, 0, 0, 0, 0, 0, 0, 0, 0, 0, 0, 0, 0, 0, 0, 0, 0,\n",
       "         0, 0, 0, 0, 0, 0, 0, 0, 0, 0, 0, 0, 0, 0, 0, 0, 0, 0, 0, 0, 0, 0,\n",
       "         0, 0, 0, 0, 0, 0, 0, 0, 0, 0, 0, 0, 0, 0, 0, 0, 0, 0, 0, 0, 0, 0,\n",
       "         0, 0, 0, 0, 0, 0, 0, 0, 0, 0, 0, 0, 0, 0, 0, 0, 0, 0, 0, 0, 0, 0,\n",
       "         0, 0, 0, 0, 0, 0, 0, 0, 0, 0, 0, 0, 0, 0, 0, 0, 0, 0, 0, 0, 0, 0,\n",
       "         0, 0, 0, 0, 0, 0, 0, 0, 0, 0, 0, 0, 0, 0, 0, 0, 0, 0, 0, 0, 0, 0,\n",
       "         0, 0, 0, 0, 0, 0, 0, 0, 0, 0, 0, 0, 0, 0, 0, 0, 0, 0, 0, 0, 0, 0,\n",
       "         0, 0, 0, 0, 0, 0, 0, 0, 0, 0, 0, 0, 0, 0, 0, 0, 0, 0, 0, 0, 0, 0,\n",
       "         0, 0, 0, 0, 0, 0, 0, 0, 0, 0, 0, 0, 0, 0, 0, 0, 0, 0, 0, 0, 0, 0,\n",
       "         0, 0, 0, 0, 0, 0, 0, 0, 0, 0, 0, 0, 0, 0, 0, 0, 0, 0, 0, 0, 0, 0,\n",
       "         0, 0, 0, 0, 0, 0, 0, 0, 0, 0, 0, 0, 0, 0, 0, 0, 0, 0, 0, 0, 0, 0,\n",
       "         0, 0, 0, 0, 0, 0, 0, 0, 1, 0, 0, 0, 0, 0, 0, 0, 0, 0, 0, 0, 0, 0,\n",
       "         0, 0, 0, 0, 0, 0, 0, 0, 0, 0, 0, 0, 0, 0, 0, 0, 0, 0, 0, 0, 0, 0,\n",
       "         0, 0, 0, 0, 0, 0, 0, 0, 0, 0, 0, 0, 0, 0, 0, 0, 0, 0, 0, 0, 0, 0,\n",
       "         0, 0, 0, 0, 0, 0, 0, 0, 0, 0, 0, 0, 0, 0, 0, 0, 0, 0, 0, 0, 0, 0,\n",
       "         0, 0, 0, 0, 0, 0, 0, 0, 0, 0, 0, 0, 0, 0, 0, 0, 0, 0, 0, 0, 0, 0,\n",
       "         0, 0, 0, 0, 0, 0, 0, 0, 0, 0, 0, 0, 0, 0, 0, 0, 0, 0, 0, 0, 0, 0,\n",
       "         0, 0, 0, 0, 0, 0, 0, 0, 0, 0, 0, 0, 0, 0, 0, 0, 0, 0, 0, 0, 0, 0,\n",
       "         0, 0, 0, 0, 0, 0, 0, 0, 0, 0, 0, 0, 0, 0, 0, 0, 0, 0, 0, 0, 0, 0,\n",
       "         0, 0, 0, 0, 0, 0, 0, 0, 0, 0, 0, 0, 0, 0, 0, 0, 0, 0, 0, 0, 0, 0,\n",
       "         0, 0, 0, 0, 0, 0, 0, 0, 0, 0, 0, 0, 0, 0, 0, 0, 0, 0, 0, 0, 0, 0,\n",
       "         0, 0, 0, 0, 0, 0, 0, 0, 0, 0, 0, 0, 0, 0, 0, 0, 0, 0, 0, 0, 0, 0,\n",
       "         0, 0, 0, 0, 0, 0, 0, 0, 0, 0, 0, 0, 0, 0, 0, 0, 0, 0, 0, 0]),\n",
       "  'classification_report': '              precision    recall  f1-score   support\\n\\n           0       0.98      1.00      0.99       821\\n           1       0.00      0.00      0.00        13\\n\\n    accuracy                           0.98       834\\n   macro avg       0.49      0.50      0.49       834\\nweighted avg       0.97      0.98      0.97       834\\n',\n",
       "  'confusion_matrix': array([[817,   4],\n",
       "         [ 13,   0]]),\n",
       "  'y_pred_prob': array([[9.99982088e-01, 1.79118673e-05],\n",
       "         [9.99998797e-01, 1.20322340e-06],\n",
       "         [9.99999244e-01, 7.56325507e-07],\n",
       "         ...,\n",
       "         [9.99723450e-01, 2.76550287e-04],\n",
       "         [9.99835084e-01, 1.64915746e-04],\n",
       "         [9.99576231e-01, 4.23769062e-04]]),\n",
       "  'y_pred_prob_log': array([[-1.79120277e-05, -1.09300471e+01],\n",
       "         [-1.20322412e-06, -1.36305064e+01],\n",
       "         [-7.56325793e-07, -1.40947940e+01],\n",
       "         ...,\n",
       "         [-2.76588534e-04, -8.19311788e+00],\n",
       "         [-1.64929346e-04, -8.71007584e+00],\n",
       "         [-4.23858878e-04, -7.76632192e+00]]),\n",
       "  'accuracy': 0.9796163069544365,\n",
       "  'precision': 0.0,\n",
       "  'recall': 0.0,\n",
       "  'f1': 0.0,\n",
       "  'logit_roc_auc': 0.49756394640682094,\n",
       "  'fpr_tpr_thresholds': (array([0.        , 0.00121803, 0.20219245, 0.20219245, 0.28989038,\n",
       "          0.28989038, 0.39585871, 0.39585871, 0.40194884, 0.40194884,\n",
       "          0.41534714, 0.41534714, 0.51400731, 0.51400731, 0.53714982,\n",
       "          0.53714982, 0.58952497, 0.58952497, 0.61266748, 0.61266748,\n",
       "          0.61632156, 0.61632156, 0.63459196, 0.63459196, 0.73447016,\n",
       "          0.73447016, 1.        ]),\n",
       "   array([0.        , 0.        , 0.        , 0.07692308, 0.07692308,\n",
       "          0.15384615, 0.15384615, 0.23076923, 0.23076923, 0.30769231,\n",
       "          0.30769231, 0.38461538, 0.38461538, 0.46153846, 0.46153846,\n",
       "          0.53846154, 0.53846154, 0.61538462, 0.61538462, 0.76923077,\n",
       "          0.76923077, 0.84615385, 0.84615385, 0.92307692, 0.92307692,\n",
       "          1.        , 1.        ]),\n",
       "   array([1.78425009e+00, 7.84250094e-01, 1.76821725e-03, 1.76396455e-03,\n",
       "          8.72082056e-04, 8.60185707e-04, 4.15470544e-04, 4.14510422e-04,\n",
       "          3.98856388e-04, 3.98533110e-04, 3.66478114e-04, 3.64211296e-04,\n",
       "          1.87979169e-04, 1.80567198e-04, 1.62325505e-04, 1.62076577e-04,\n",
       "          1.26202948e-04, 1.24547780e-04, 1.08310668e-04, 1.06701513e-04,\n",
       "          1.03994743e-04, 1.00459217e-04, 9.13484615e-05, 9.09445860e-05,\n",
       "          4.59131290e-05, 4.55014234e-05, 2.27469778e-09])),\n",
       "  'false_negatives':             0         1  y_pred  y_pred_true_label\n",
       "  192  0.999585  0.000415       0                  1\n",
       "  193  0.999954  0.000046       0                  1\n",
       "  194  0.999636  0.000364       0                  1\n",
       "  195  0.999875  0.000125       0                  1\n",
       "  321  0.998236  0.001764       0                  1\n",
       "  322  0.999909  0.000091       0                  1\n",
       "  323  0.999893  0.000107       0                  1\n",
       "  622  0.999838  0.000162       0                  1\n",
       "  623  0.999140  0.000860       0                  1\n",
       "  624  0.999900  0.000100       0                  1\n",
       "  801  0.999892  0.000108       0                  1\n",
       "  802  0.999601  0.000399       0                  1\n",
       "  803  0.999819  0.000181       0                  1,\n",
       "  'false_positives':             0         1  y_pred  y_pred_true_label\n",
       "  292  0.303991  0.696009       1                  0\n",
       "  293  0.215750  0.784250       1                  0\n",
       "  294  0.247471  0.752529       1                  0\n",
       "  580  0.354659  0.645341       1                  0,\n",
       "  'true_positives': Empty DataFrame\n",
       "  Columns: [0, 1, y_pred, y_pred_true_label]\n",
       "  Index: []},\n",
       " '0TkGYYIPwRqx8xzP0XGvRG.parquet': {'model': LogisticRegression(class_weight='balanced', max_iter=10000000000.0),\n",
       "  'y_pred': array([0, 0, 0, ..., 0, 0, 0]),\n",
       "  'classification_report': '              precision    recall  f1-score   support\\n\\n           0       0.97      1.00      0.98      2916\\n           1       0.00      0.00      0.00        94\\n\\n    accuracy                           0.97      3010\\n   macro avg       0.48      0.50      0.49      3010\\nweighted avg       0.94      0.97      0.95      3010\\n',\n",
       "  'confusion_matrix': array([[2915,    1],\n",
       "         [  94,    0]]),\n",
       "  'y_pred_prob': array([[9.99831422e-01, 1.68578184e-04],\n",
       "         [9.99912126e-01, 8.78739344e-05],\n",
       "         [9.99802909e-01, 1.97091320e-04],\n",
       "         ...,\n",
       "         [9.40398319e-01, 5.96016810e-02],\n",
       "         [9.52513638e-01, 4.74863617e-02],\n",
       "         [9.44688140e-01, 5.53118600e-02]]),\n",
       "  'y_pred_prob_log': array([[-1.68592394e-04, -8.68811092e+00],\n",
       "         [-8.78777955e-05, -9.33960733e+00],\n",
       "         [-1.97110745e-04, -8.53184338e+00],\n",
       "         ...,\n",
       "         [-6.14517498e-02, -2.82007150e+00],\n",
       "         [-4.86508537e-02, -3.04731273e+00],\n",
       "         [-5.69004165e-02, -2.89476793e+00]]),\n",
       "  'accuracy': 0.96843853820598,\n",
       "  'precision': 0.0,\n",
       "  'recall': 0.0,\n",
       "  'f1': 0.0,\n",
       "  'logit_roc_auc': 0.49982853223593965,\n",
       "  'fpr_tpr_thresholds': (array([0.00000000e+00, 3.42935528e-04, 1.40603567e-02, 1.40603567e-02,\n",
       "          1.92043896e-02, 1.92043896e-02, 2.12620027e-02, 2.12620027e-02,\n",
       "          2.29766804e-02, 2.29766804e-02, 3.53223594e-02, 3.53223594e-02,\n",
       "          3.66941015e-02, 3.66941015e-02, 4.73251029e-02, 4.73251029e-02,\n",
       "          5.38408779e-02, 5.38408779e-02, 5.45267490e-02, 5.45267490e-02,\n",
       "          5.62414266e-02, 5.62414266e-02, 5.72702332e-02, 5.72702332e-02,\n",
       "          6.44718793e-02, 6.44718793e-02, 8.40192044e-02, 8.40192044e-02,\n",
       "          9.15637860e-02, 9.15637860e-02, 9.32784636e-02, 9.32784636e-02,\n",
       "          1.03223594e-01, 1.03223594e-01, 1.16941015e-01, 1.16941015e-01,\n",
       "          1.26543210e-01, 1.26543210e-01, 1.40946502e-01, 1.40946502e-01,\n",
       "          1.44032922e-01, 1.44032922e-01, 1.52949246e-01, 1.52949246e-01,\n",
       "          1.64609053e-01, 1.64609053e-01, 1.68381344e-01, 1.68381344e-01,\n",
       "          1.74554184e-01, 1.74554184e-01, 1.89300412e-01, 1.89300412e-01,\n",
       "          1.98216735e-01, 1.98216735e-01, 2.03017833e-01, 2.03017833e-01,\n",
       "          2.04389575e-01, 2.04389575e-01, 2.08847737e-01, 2.08847737e-01,\n",
       "          2.19478738e-01, 2.19478738e-01, 2.21879287e-01, 2.21879287e-01,\n",
       "          2.28052126e-01, 2.28052126e-01, 2.28737997e-01, 2.28737997e-01,\n",
       "          2.29766804e-01, 2.29766804e-01, 2.31138546e-01, 2.31138546e-01,\n",
       "          2.47599451e-01, 2.47599451e-01, 2.51371742e-01, 2.51371742e-01,\n",
       "          2.55829904e-01, 2.55829904e-01, 2.58916324e-01, 2.58916324e-01,\n",
       "          2.62688615e-01, 2.62688615e-01, 2.64746228e-01, 2.64746228e-01,\n",
       "          2.86351166e-01, 2.86351166e-01, 2.88408779e-01, 2.88408779e-01,\n",
       "          2.94581619e-01, 2.94581619e-01, 3.38820302e-01, 3.38820302e-01,\n",
       "          3.45679012e-01, 3.45679012e-01, 3.46364883e-01, 3.46364883e-01,\n",
       "          3.62482853e-01, 3.62482853e-01, 3.71399177e-01, 3.71399177e-01,\n",
       "          3.72427984e-01, 3.72427984e-01, 4.08779150e-01, 4.08779150e-01,\n",
       "          4.09807956e-01, 4.09807956e-01, 4.21810700e-01, 4.21810700e-01,\n",
       "          4.30041152e-01, 4.30041152e-01, 4.35871056e-01, 4.35871056e-01,\n",
       "          4.41700960e-01, 4.41700960e-01, 4.55418381e-01, 4.55418381e-01,\n",
       "          4.59533608e-01, 4.59533608e-01, 4.66049383e-01, 4.66049383e-01,\n",
       "          4.68106996e-01, 4.68106996e-01, 4.71193416e-01, 4.71193416e-01,\n",
       "          4.85596708e-01, 4.85596708e-01, 5.07201646e-01, 5.07201646e-01,\n",
       "          5.14060357e-01, 5.14060357e-01, 5.48696845e-01, 5.48696845e-01,\n",
       "          5.56584362e-01, 5.56584362e-01, 5.59327846e-01, 5.59327846e-01,\n",
       "          5.62414266e-01, 5.62414266e-01, 5.73045267e-01, 5.73045267e-01,\n",
       "          5.99108368e-01, 5.99108368e-01, 6.35459534e-01, 6.35459534e-01,\n",
       "          6.47805213e-01, 6.47805213e-01, 6.62551440e-01, 6.62551440e-01,\n",
       "          6.67352538e-01, 6.67352538e-01, 6.97873800e-01, 6.97873800e-01,\n",
       "          7.39026063e-01, 7.39026063e-01, 7.58573388e-01, 7.58573388e-01,\n",
       "          7.92866941e-01, 7.92866941e-01, 7.99725652e-01, 7.99725652e-01,\n",
       "          8.01783265e-01, 8.01783265e-01, 8.16186557e-01, 8.16186557e-01,\n",
       "          8.21673525e-01, 8.21673525e-01, 8.25788752e-01, 8.25788752e-01,\n",
       "          8.46364883e-01, 8.46364883e-01, 8.88545953e-01, 8.88545953e-01,\n",
       "          8.91632373e-01, 8.91632373e-01, 9.04663923e-01, 9.04663923e-01,\n",
       "          9.31412894e-01, 9.31412894e-01, 9.32441701e-01, 9.32441701e-01,\n",
       "          9.51303155e-01, 9.51303155e-01, 9.70850480e-01, 9.70850480e-01,\n",
       "          9.77023320e-01, 9.77023320e-01, 1.00000000e+00]),\n",
       "   array([0.        , 0.        , 0.        , 0.0106383 , 0.0106383 ,\n",
       "          0.0212766 , 0.0212766 , 0.03191489, 0.03191489, 0.04255319,\n",
       "          0.04255319, 0.05319149, 0.05319149, 0.06382979, 0.06382979,\n",
       "          0.07446809, 0.07446809, 0.08510638, 0.08510638, 0.09574468,\n",
       "          0.09574468, 0.10638298, 0.10638298, 0.11702128, 0.11702128,\n",
       "          0.12765957, 0.12765957, 0.13829787, 0.13829787, 0.14893617,\n",
       "          0.14893617, 0.15957447, 0.15957447, 0.17021277, 0.17021277,\n",
       "          0.18085106, 0.18085106, 0.19148936, 0.19148936, 0.20212766,\n",
       "          0.20212766, 0.21276596, 0.21276596, 0.22340426, 0.22340426,\n",
       "          0.23404255, 0.23404255, 0.24468085, 0.24468085, 0.25531915,\n",
       "          0.25531915, 0.26595745, 0.26595745, 0.27659574, 0.27659574,\n",
       "          0.28723404, 0.28723404, 0.29787234, 0.29787234, 0.30851064,\n",
       "          0.30851064, 0.31914894, 0.31914894, 0.32978723, 0.32978723,\n",
       "          0.34042553, 0.34042553, 0.35106383, 0.35106383, 0.36170213,\n",
       "          0.36170213, 0.37234043, 0.37234043, 0.38297872, 0.38297872,\n",
       "          0.39361702, 0.39361702, 0.40425532, 0.40425532, 0.41489362,\n",
       "          0.41489362, 0.42553191, 0.42553191, 0.44680851, 0.44680851,\n",
       "          0.45744681, 0.45744681, 0.46808511, 0.46808511, 0.4893617 ,\n",
       "          0.4893617 , 0.5       , 0.5       , 0.5106383 , 0.5106383 ,\n",
       "          0.5212766 , 0.5212766 , 0.53191489, 0.53191489, 0.54255319,\n",
       "          0.54255319, 0.55319149, 0.55319149, 0.56382979, 0.56382979,\n",
       "          0.57446809, 0.57446809, 0.58510638, 0.58510638, 0.59574468,\n",
       "          0.59574468, 0.60638298, 0.60638298, 0.61702128, 0.61702128,\n",
       "          0.62765957, 0.62765957, 0.63829787, 0.63829787, 0.64893617,\n",
       "          0.64893617, 0.65957447, 0.65957447, 0.67021277, 0.67021277,\n",
       "          0.68085106, 0.68085106, 0.69148936, 0.69148936, 0.70212766,\n",
       "          0.70212766, 0.71276596, 0.71276596, 0.72340426, 0.72340426,\n",
       "          0.73404255, 0.73404255, 0.74468085, 0.74468085, 0.75531915,\n",
       "          0.75531915, 0.76595745, 0.76595745, 0.77659574, 0.77659574,\n",
       "          0.78723404, 0.78723404, 0.79787234, 0.79787234, 0.80851064,\n",
       "          0.80851064, 0.81914894, 0.81914894, 0.82978723, 0.82978723,\n",
       "          0.84042553, 0.84042553, 0.85106383, 0.85106383, 0.86170213,\n",
       "          0.86170213, 0.87234043, 0.87234043, 0.88297872, 0.88297872,\n",
       "          0.89361702, 0.89361702, 0.90425532, 0.90425532, 0.91489362,\n",
       "          0.91489362, 0.92553191, 0.92553191, 0.93617021, 0.93617021,\n",
       "          0.94680851, 0.94680851, 0.95744681, 0.95744681, 0.96808511,\n",
       "          0.96808511, 0.9787234 , 0.9787234 , 0.9893617 , 0.9893617 ,\n",
       "          1.        , 1.        ]),\n",
       "   array([1.93680324e+00, 9.36803240e-01, 2.72056183e-02, 2.65881052e-02,\n",
       "          2.02929323e-02, 2.02258799e-02, 1.84939726e-02, 1.82992671e-02,\n",
       "          1.63880759e-02, 1.58555937e-02, 1.02375315e-02, 1.02190895e-02,\n",
       "          9.97136714e-03, 9.95821499e-03, 7.65515474e-03, 7.63886404e-03,\n",
       "          6.63906575e-03, 6.55280794e-03, 6.45787259e-03, 6.38125710e-03,\n",
       "          6.21994349e-03, 6.13767392e-03, 6.02813052e-03, 5.99314040e-03,\n",
       "          5.12298853e-03, 5.07145517e-03, 3.65567281e-03, 3.64865116e-03,\n",
       "          3.40289956e-03, 3.39444962e-03, 3.31043635e-03, 3.30574602e-03,\n",
       "          2.80928286e-03, 2.79818424e-03, 2.42896979e-03, 2.42373885e-03,\n",
       "          2.19067820e-03, 2.18034196e-03, 1.96652525e-03, 1.96366014e-03,\n",
       "          1.90855233e-03, 1.90848521e-03, 1.74372930e-03, 1.74275556e-03,\n",
       "          1.59118077e-03, 1.58686112e-03, 1.55669905e-03, 1.55312537e-03,\n",
       "          1.47843094e-03, 1.47648454e-03, 1.30942589e-03, 1.30884904e-03,\n",
       "          1.24035061e-03, 1.23774175e-03, 1.20721998e-03, 1.20381246e-03,\n",
       "          1.19274821e-03, 1.18487620e-03, 1.14877858e-03, 1.14773829e-03,\n",
       "          1.08326848e-03, 1.08047536e-03, 1.06711320e-03, 1.06645629e-03,\n",
       "          1.01792488e-03, 1.01747522e-03, 1.01664898e-03, 1.01425106e-03,\n",
       "          1.00836503e-03, 1.00700200e-03, 1.00234628e-03, 9.99074595e-04,\n",
       "          9.23482004e-04, 9.21652919e-04, 9.13446663e-04, 9.11086549e-04,\n",
       "          8.87309344e-04, 8.85793482e-04, 8.76488181e-04, 8.75097731e-04,\n",
       "          8.55625137e-04, 8.53894971e-04, 8.45615878e-04, 8.38880589e-04,\n",
       "          7.59156313e-04, 7.58061459e-04, 7.51548210e-04, 7.50755067e-04,\n",
       "          7.27732985e-04, 7.22014168e-04, 5.89638539e-04, 5.86045498e-04,\n",
       "          5.60048891e-04, 5.56247207e-04, 5.53515087e-04, 5.51814291e-04,\n",
       "          5.25426781e-04, 5.25034137e-04, 5.02457879e-04, 5.01731475e-04,\n",
       "          4.98706224e-04, 4.98649750e-04, 4.16931187e-04, 4.16763249e-04,\n",
       "          4.14533241e-04, 4.13171337e-04, 3.94768266e-04, 3.94228849e-04,\n",
       "          3.76680998e-04, 3.76415500e-04, 3.63419940e-04, 3.62175948e-04,\n",
       "          3.54272564e-04, 3.53363546e-04, 3.37187671e-04, 3.36341941e-04,\n",
       "          3.29726180e-04, 3.28547228e-04, 3.15179533e-04, 3.14835397e-04,\n",
       "          3.11252417e-04, 3.11084036e-04, 3.06347551e-04, 3.05665368e-04,\n",
       "          2.86195880e-04, 2.86052253e-04, 2.58558033e-04, 2.57847833e-04,\n",
       "          2.48089094e-04, 2.47895693e-04, 2.18822199e-04, 2.18693021e-04,\n",
       "          2.12250856e-04, 2.10840234e-04, 2.09168544e-04, 2.09002497e-04,\n",
       "          2.06415503e-04, 2.06411992e-04, 1.96731248e-04, 1.96221995e-04,\n",
       "          1.76556879e-04, 1.76051596e-04, 1.49106792e-04, 1.48946548e-04,\n",
       "          1.39978898e-04, 1.39933796e-04, 1.29736366e-04, 1.29474337e-04,\n",
       "          1.27180313e-04, 1.27023834e-04, 1.09184998e-04, 1.09029001e-04,\n",
       "          8.72568570e-05, 8.70770708e-05, 7.86933968e-05, 7.85340072e-05,\n",
       "          6.48159255e-05, 6.46186113e-05, 6.21038227e-05, 6.18696948e-05,\n",
       "          6.11528334e-05, 6.10392714e-05, 5.49125703e-05, 5.48132659e-05,\n",
       "          5.33007220e-05, 5.32960510e-05, 5.11786127e-05, 5.08070222e-05,\n",
       "          4.41471118e-05, 4.39410295e-05, 2.88294757e-05, 2.88264863e-05,\n",
       "          2.80666265e-05, 2.79191133e-05, 2.48887628e-05, 2.47997702e-05,\n",
       "          1.67878160e-05, 1.67034095e-05, 1.65482988e-05, 1.63560780e-05,\n",
       "          1.14382043e-05, 1.13516550e-05, 6.65402153e-06, 6.65102510e-06,\n",
       "          5.75620025e-06, 5.73596155e-06, 4.94759308e-08])),\n",
       "  'false_negatives':              0         1  y_pred  y_pred_true_label\n",
       "  149   0.998691  0.001309       0                  1\n",
       "  150   0.998092  0.001908       0                  1\n",
       "  151   0.999475  0.000525       0                  1\n",
       "  152   0.999956  0.000044       0                  1\n",
       "  716   0.999089  0.000911       0                  1\n",
       "  ...        ...       ...     ...                ...\n",
       "  1467  0.999971  0.000029       0                  1\n",
       "  1468  0.999989  0.000011       0                  1\n",
       "  1469  0.999939  0.000061       0                  1\n",
       "  1470  0.999789  0.000211       0                  1\n",
       "  1471  0.999851  0.000149       0                  1\n",
       "  \n",
       "  [94 rows x 4 columns],\n",
       "  'false_positives':              0         1  y_pred  y_pred_true_label\n",
       "  2693  0.063197  0.936803       1                  0,\n",
       "  'true_positives': Empty DataFrame\n",
       "  Columns: [0, 1, y_pred, y_pred_true_label]\n",
       "  Index: []}}"
      ]
     },
     "execution_count": 11,
     "metadata": {},
     "output_type": "execute_result"
    }
   ],
   "source": [
    "logreg_model_metrics"
   ]
  },
  {
   "cell_type": "markdown",
   "id": "b813367f",
   "metadata": {},
   "source": [
    "## Create a single model used for testing Random Forest and Adaboost"
   ]
  },
  {
   "cell_type": "code",
   "execution_count": 24,
   "id": "d41e2eca",
   "metadata": {},
   "outputs": [
    {
     "name": "stdout",
     "output_type": "stream",
     "text": [
      "(28183, 27564)\n",
      "(24459, 27564)\n",
      "(1902, 27564)\n",
      "(5626, 27564)\n"
     ]
    }
   ],
   "source": [
    "train_dfs_for_hottake, train_dfs_for_aus = [], []\n",
    "\n",
    "test_podcast_hottake = ['0pIwpmg5oPcMWJXVSyrx4E.parquet','7r367wUYs1EvyBbeyOcq39.parquet']\n",
    "test_podcast_aus = '1XgTQnRlfJ0zpDdg2DccbR.parquet'\n",
    "\n",
    "\n",
    "for key, val in loaded_parquet_df.items():\n",
    "    if key != test_podcast_hottake[0] and key != test_podcast_hottake[1]:\n",
    "        train_dfs_for_hottake.append(val)\n",
    "        \n",
    "for key, val in loaded_parquet_df.items():\n",
    "    if key != test_podcast_aus:\n",
    "        train_dfs_for_aus.append(val)\n",
    "    \n",
    "# get the training set\n",
    "# https://pandas.pydata.org/pandas-docs/stable/user_guide/merging.html\n",
    "train_set_for_hottake = pd.concat(train_dfs_for_hottake).dropna()\n",
    "print(train_set_for_hottake.shape)\n",
    "\n",
    "train_set_for_aus = pd.concat(train_dfs_for_aus).dropna()\n",
    "print(train_set_for_aus.shape)\n",
    "\n",
    "\n",
    "# get the test set\n",
    "test_set_hottake = pd.concat([loaded_parquet_df[test_podcast_hottake[0]],loaded_parquet_df[test_podcast_hottake[1]]]).dropna()\n",
    "print(test_set_hottake.shape)\n",
    "\n",
    "test_set_aus = loaded_parquet_df[test_podcast_aus].dropna()\n",
    "print(test_set_aus.shape)"
   ]
  },
  {
   "cell_type": "code",
   "execution_count": 25,
   "id": "fc4aaba3",
   "metadata": {},
   "outputs": [
    {
     "name": "stdout",
     "output_type": "stream",
     "text": [
      "(28183, 27563)\n",
      "(28183,)\n"
     ]
    }
   ],
   "source": [
    "X_train_hottake, y_train_hottake = train_set_for_hottake.drop('y', axis=1), train_set_for_hottake['y']\n",
    "print(X_train_hottake.shape)\n",
    "print(y_train_hottake.shape)"
   ]
  },
  {
   "cell_type": "code",
   "execution_count": 26,
   "id": "74826228",
   "metadata": {},
   "outputs": [
    {
     "name": "stdout",
     "output_type": "stream",
     "text": [
      "(24459, 27563)\n",
      "(24459,)\n"
     ]
    }
   ],
   "source": [
    "X_train_aus, y_train_aus = train_set_for_aus.drop('y', axis=1), train_set_for_aus['y']\n",
    "print(X_train_aus.shape)\n",
    "print(y_train_aus.shape)"
   ]
  },
  {
   "cell_type": "code",
   "execution_count": 27,
   "id": "44e2e69b",
   "metadata": {},
   "outputs": [
    {
     "name": "stdout",
     "output_type": "stream",
     "text": [
      "(1902, 27563)\n",
      "(1902,)\n"
     ]
    }
   ],
   "source": [
    "X_test_hottake, y_test_hottake = test_set_hottake.drop('y', axis=1), test_set_hottake['y']\n",
    "print(X_test_hottake.shape)\n",
    "print(y_test_hottake.shape)"
   ]
  },
  {
   "cell_type": "code",
   "execution_count": 28,
   "id": "099ae3a3",
   "metadata": {},
   "outputs": [
    {
     "name": "stdout",
     "output_type": "stream",
     "text": [
      "(5626, 27563)\n",
      "(5626,)\n"
     ]
    }
   ],
   "source": [
    "X_test_aus, y_test_aus = test_set_aus.drop('y', axis=1), test_set_aus['y']\n",
    "print(X_test_aus.shape)\n",
    "print(y_test_aus.shape)"
   ]
  },
  {
   "cell_type": "markdown",
   "id": "cedb3572",
   "metadata": {},
   "source": [
    "# Logistic Regression"
   ]
  },
  {
   "cell_type": "code",
   "execution_count": 29,
   "id": "6ccf80a9",
   "metadata": {},
   "outputs": [
    {
     "name": "stdout",
     "output_type": "stream",
     "text": [
      "Accuracy of logistic regression classifier on test set: 0.94\n"
     ]
    }
   ],
   "source": [
    "logreg_hottake = LogisticRegression(penalty = 'l2', class_weight ='balanced', max_iter = 1e10)\n",
    "logreg_hottake.fit(X_train_hottake, y_train_hottake)\n",
    "\n",
    "y_pred_logreg_h = logreg_hottake.predict(X_test_hottake)\n",
    "y_pred_prob_logreg_h = logreg_hottake.predict_proba(X_test_hottake)\n",
    "y_pred_prob_log_logreg_h = logreg_hottake.predict_log_proba(X_test_hottake)\n",
    "\n",
    "print('Accuracy of logistic regression classifier on test set: {:.2f}'.format(logreg_hottake.score(X_test_hottake, y_test_hottake)))"
   ]
  },
  {
   "cell_type": "code",
   "execution_count": 30,
   "id": "c29bafdd",
   "metadata": {},
   "outputs": [
    {
     "name": "stdout",
     "output_type": "stream",
     "text": [
      "              precision    recall  f1-score   support\n",
      "\n",
      "           0       0.96      0.97      0.97      1831\n",
      "           1       0.02      0.01      0.02        71\n",
      "\n",
      "    accuracy                           0.94      1902\n",
      "   macro avg       0.49      0.49      0.49      1902\n",
      "weighted avg       0.93      0.94      0.93      1902\n",
      "\n",
      "[[1784   47]\n",
      " [  70    1]]\n"
     ]
    }
   ],
   "source": [
    "print(classification_report(y_test_hottake, y_pred_logreg_h))\n",
    "print(confusion_matrix(y_test_hottake, y_pred_logreg_h))"
   ]
  },
  {
   "cell_type": "code",
   "execution_count": 31,
   "id": "0ce1d977",
   "metadata": {},
   "outputs": [
    {
     "name": "stdout",
     "output_type": "stream",
     "text": [
      "Accuracy of logistic regression classifier on test set: 0.94\n"
     ]
    }
   ],
   "source": [
    "logreg_aus = LogisticRegression(penalty = 'l2', class_weight ='balanced', max_iter = 1e10)\n",
    "logreg_aus.fit(X_train_aus, y_train_aus)\n",
    "\n",
    "y_pred_logreg_a = logreg_aus.predict(X_test_aus)\n",
    "y_pred_prob_logreg_a = logreg_aus.predict_proba(X_test_aus)\n",
    "y_pred_prob_log_logreg_a = logreg_aus.predict_log_proba(X_test_aus)\n",
    "\n",
    "print('Accuracy of logistic regression classifier on test set: {:.2f}'.format(logreg_aus.score(X_test_aus, y_test_aus)))"
   ]
  },
  {
   "cell_type": "code",
   "execution_count": 32,
   "id": "7267835a",
   "metadata": {},
   "outputs": [
    {
     "name": "stdout",
     "output_type": "stream",
     "text": [
      "              precision    recall  f1-score   support\n",
      "\n",
      "           0       0.96      0.98      0.97      5377\n",
      "           1       0.04      0.02      0.03       249\n",
      "\n",
      "    accuracy                           0.94      5626\n",
      "   macro avg       0.50      0.50      0.50      5626\n",
      "weighted avg       0.92      0.94      0.93      5626\n",
      "\n",
      "[[5264  113]\n",
      " [ 244    5]]\n"
     ]
    }
   ],
   "source": [
    "print(classification_report(y_test_aus, y_pred_logreg_a))\n",
    "print(confusion_matrix(y_test_aus, y_pred_logreg_a))"
   ]
  },
  {
   "cell_type": "code",
   "execution_count": 33,
   "id": "503667ae",
   "metadata": {},
   "outputs": [
    {
     "data": {
      "image/png": "[encoded data removed]",
      "text/plain": [
       "<Figure size 720x504 with 1 Axes>"
      ]
     },
     "metadata": {},
     "output_type": "display_data"
    }
   ],
   "source": [
    "log_roc_auc_hottake = roc_auc_score(y_test_hottake, logreg_hottake.predict(X_test_hottake))\n",
    "fpr_hottake, tpr_hottake, _ = roc_curve(y_test_hottake, logreg_hottake.predict_proba(X_test_hottake)[:,1])\n",
    "\n",
    "log_roc_auc_aus = roc_auc_score(y_test_aus, logreg_aus.predict(X_test_aus))\n",
    "fpr_aus, tpr_aus, _ = roc_curve(y_test_aus, logreg_aus.predict_proba(X_test_aus)[:,1])\n",
    "\n",
    "\n",
    "plt.figure(figsize = (10,7))\n",
    "plt.plot(fpr_hottake, tpr_hottake, label='LogReg on Hottake (area = %0.2f)' % log_roc_auc_hottake)\n",
    "plt.plot(fpr_aus, tpr_aus, label='LogReg on Australia (area = %0.2f)' % log_roc_auc_aus)\n",
    "\n",
    "plt.plot([0, 1], [0, 1],'r--')\n",
    "plt.xlim([0.0, 1.0])\n",
    "plt.ylim([0.0, 1.05])\n",
    "plt.xlabel('False Positive Rate')\n",
    "plt.ylabel('True Positive Rate')\n",
    "plt.title('Receiver operating characteristic')\n",
    "plt.legend(loc=\"lower right\")\n",
    "plt.savefig('Log_ROC')\n",
    "plt.show()"
   ]
  },
  {
   "cell_type": "markdown",
   "id": "e9114ac7",
   "metadata": {},
   "source": [
    "# Modeling with Random Forest"
   ]
  },
  {
   "cell_type": "code",
   "execution_count": null,
   "id": "1adf271c",
   "metadata": {},
   "outputs": [
    {
     "name": "stdout",
     "output_type": "stream",
     "text": [
      "Accuracy of logistic regression classifier on test set: 0.96\n",
      "CPU times: user 5min 19s, sys: 0 ns, total: 5min 19s\n",
      "Wall time: 5min 19s\n"
     ]
    },
    {
     "name": "stderr",
     "output_type": "stream",
     "text": [
      "/home/ec2-user/anaconda3/envs/tensorflow2_p36/lib/python3.6/site-packages/sklearn/ensemble/_forest.py:722: RuntimeWarning: divide by zero encountered in log\n",
      "  return np.log(proba)\n"
     ]
    }
   ],
   "source": [
    "%%time\n",
    "rmf_hottake = RandomForestClassifier(random_state = 17, class_weight='balanced')\n",
    "rmf_hottake.fit(X_train_hottake, y_train_hottake)\n",
    "\n",
    "y_pred_rmf_h = rmf_hottake.predict(X_test_hottake)\n",
    "y_pred_prob_rmf_h = rmf_hottake.predict_proba(X_test_hottake)\n",
    "y_pred_prob_log_rmf_h = rmf_hottake.predict_log_proba(X_test_hottake)\n",
    "\n",
    "print('Accuracy of logistic regression classifier on test set: {:.2f}'.format(rmf_hottake.score(X_test_hottake, y_test_hottake)))"
   ]
  },
  {
   "cell_type": "code",
   "execution_count": 37,
   "id": "39bf9507",
   "metadata": {},
   "outputs": [
    {
     "name": "stdout",
     "output_type": "stream",
     "text": [
      "              precision    recall  f1-score   support\n",
      "\n",
      "           0       0.96      1.00      0.98      1831\n",
      "           1       0.00      0.00      0.00        71\n",
      "\n",
      "    accuracy                           0.96      1902\n",
      "   macro avg       0.48      0.50      0.49      1902\n",
      "weighted avg       0.93      0.96      0.94      1902\n",
      "\n",
      "[[1831    0]\n",
      " [  71    0]]\n"
     ]
    },
    {
     "name": "stderr",
     "output_type": "stream",
     "text": [
      "/home/ec2-user/anaconda3/envs/tensorflow2_p36/lib/python3.6/site-packages/sklearn/metrics/_classification.py:1245: UndefinedMetricWarning: Precision and F-score are ill-defined and being set to 0.0 in labels with no predicted samples. Use `zero_division` parameter to control this behavior.\n",
      "  _warn_prf(average, modifier, msg_start, len(result))\n",
      "/home/ec2-user/anaconda3/envs/tensorflow2_p36/lib/python3.6/site-packages/sklearn/metrics/_classification.py:1245: UndefinedMetricWarning: Precision and F-score are ill-defined and being set to 0.0 in labels with no predicted samples. Use `zero_division` parameter to control this behavior.\n",
      "  _warn_prf(average, modifier, msg_start, len(result))\n",
      "/home/ec2-user/anaconda3/envs/tensorflow2_p36/lib/python3.6/site-packages/sklearn/metrics/_classification.py:1245: UndefinedMetricWarning: Precision and F-score are ill-defined and being set to 0.0 in labels with no predicted samples. Use `zero_division` parameter to control this behavior.\n",
      "  _warn_prf(average, modifier, msg_start, len(result))\n"
     ]
    }
   ],
   "source": [
    "print(classification_report(y_test_hottake, y_pred_rmf_h))\n",
    "print(confusion_matrix(y_test_hottake, y_pred_rmf_h))"
   ]
  },
  {
   "cell_type": "code",
   "execution_count": 34,
   "id": "5fe29195",
   "metadata": {},
   "outputs": [
    {
     "name": "stderr",
     "output_type": "stream",
     "text": [
      "/home/ec2-user/anaconda3/envs/tensorflow2_p36/lib/python3.6/site-packages/sklearn/ensemble/_forest.py:722: RuntimeWarning: divide by zero encountered in log\n",
      "  return np.log(proba)\n"
     ]
    },
    {
     "name": "stdout",
     "output_type": "stream",
     "text": [
      "Accuracy of logistic regression classifier on test set: 0.96\n",
      "CPU times: user 4min 18s, sys: 0 ns, total: 4min 18s\n",
      "Wall time: 4min 18s\n"
     ]
    }
   ],
   "source": [
    "%%time\n",
    "rmf_aus = RandomForestClassifier(random_state = 17, class_weight='balanced')\n",
    "rmf_aus.fit(X_train_aus, y_train_aus)\n",
    "\n",
    "y_pred_rmf_a = rmf_aus.predict(X_test_aus)\n",
    "y_pred_prob_rmf_a = rmf_aus.predict_proba(X_test_aus)\n",
    "y_pred_prob_log_rmf_a = rmf_aus.predict_log_proba(X_test_aus)\n",
    "\n",
    "print('Accuracy of logistic regression classifier on test set: {:.2f}'.format(rmf_aus.score(X_test_aus, y_test_aus)))"
   ]
  },
  {
   "cell_type": "code",
   "execution_count": 35,
   "id": "3b55e69d",
   "metadata": {},
   "outputs": [
    {
     "name": "stdout",
     "output_type": "stream",
     "text": [
      "              precision    recall  f1-score   support\n",
      "\n",
      "           0       0.96      1.00      0.98      5377\n",
      "           1       0.00      0.00      0.00       249\n",
      "\n",
      "    accuracy                           0.96      5626\n",
      "   macro avg       0.48      0.50      0.49      5626\n",
      "weighted avg       0.91      0.96      0.93      5626\n",
      "\n",
      "[[5377    0]\n",
      " [ 249    0]]\n"
     ]
    },
    {
     "name": "stderr",
     "output_type": "stream",
     "text": [
      "/home/ec2-user/anaconda3/envs/tensorflow2_p36/lib/python3.6/site-packages/sklearn/metrics/_classification.py:1245: UndefinedMetricWarning: Precision and F-score are ill-defined and being set to 0.0 in labels with no predicted samples. Use `zero_division` parameter to control this behavior.\n",
      "  _warn_prf(average, modifier, msg_start, len(result))\n",
      "/home/ec2-user/anaconda3/envs/tensorflow2_p36/lib/python3.6/site-packages/sklearn/metrics/_classification.py:1245: UndefinedMetricWarning: Precision and F-score are ill-defined and being set to 0.0 in labels with no predicted samples. Use `zero_division` parameter to control this behavior.\n",
      "  _warn_prf(average, modifier, msg_start, len(result))\n",
      "/home/ec2-user/anaconda3/envs/tensorflow2_p36/lib/python3.6/site-packages/sklearn/metrics/_classification.py:1245: UndefinedMetricWarning: Precision and F-score are ill-defined and being set to 0.0 in labels with no predicted samples. Use `zero_division` parameter to control this behavior.\n",
      "  _warn_prf(average, modifier, msg_start, len(result))\n"
     ]
    }
   ],
   "source": [
    "print(classification_report(y_test_aus, y_pred_rmf_a))\n",
    "print(confusion_matrix(y_test_aus, y_pred_rmf_a))"
   ]
  },
  {
   "cell_type": "code",
   "execution_count": 39,
   "id": "3c3e1e54",
   "metadata": {},
   "outputs": [
    {
     "data": {
      "image/png": "[encoded data removed]",
      "text/plain": [
       "<Figure size 720x504 with 1 Axes>"
      ]
     },
     "metadata": {},
     "output_type": "display_data"
    }
   ],
   "source": [
    "rf_roc_auc_hottake = roc_auc_score(y_test_hottake, rmf_hottake.predict(X_test_hottake))\n",
    "fpr_hottake, tpr_hottake, _ = roc_curve(y_test_hottake, rmf_hottake.predict_proba(X_test_hottake)[:,1])\n",
    "\n",
    "rf_roc_auc_aus = roc_auc_score(y_test_aus, rmf_aus.predict(X_test_aus))\n",
    "fpr_aus, tpr_aus, _ = roc_curve(y_test_aus, rmf_aus.predict_proba(X_test_aus)[:,1])\n",
    "\n",
    "\n",
    "plt.figure(figsize = (10,7))\n",
    "plt.plot(fpr_hottake, tpr_hottake, label='RF on Hottake (area = %0.2f)' % rf_roc_auc_hottake)\n",
    "plt.plot(fpr_aus, tpr_aus, label='RF on Australia (area = %0.2f)' % rf_roc_auc_aus)\n",
    "\n",
    "plt.plot([0, 1], [0, 1],'r--')\n",
    "plt.xlim([0.0, 1.0])\n",
    "plt.ylim([0.0, 1.05])\n",
    "plt.xlabel('False Positive Rate')\n",
    "plt.ylabel('True Positive Rate')\n",
    "plt.title('Receiver operating characteristic')\n",
    "plt.legend(loc=\"lower right\")\n",
    "plt.savefig('Log_ROC')\n",
    "plt.show()"
   ]
  },
  {
   "cell_type": "markdown",
   "id": "364b3358",
   "metadata": {},
   "source": [
    "## Modeling with AdaBoost"
   ]
  },
  {
   "cell_type": "code",
   "execution_count": null,
   "id": "c00db039",
   "metadata": {},
   "outputs": [],
   "source": [
    "%%time\n",
    "\n",
    "# Initialise the model with Decision Tree classifier as the base model\n",
    "boost = AdaBoostClassifier(base_estimator = DecisionTreeClassifier(), \n",
    "                            algorithm = 'SAMME.R', learning_rate=0.1,\n",
    "                            random_state = 10)\n",
    "\n",
    "# Fit on the entire data\n",
    "boost.fit(X_train,y_train)\n",
    "\n",
    "y_pred_boost = boost.predict(X_test)\n",
    "y_pred_prob_boost = boost.predict_proba(X_test)\n",
    "y_pred_prob_log_boost = boost.predict_log_proba(X_test)\n",
    "\n",
    "print('Accuracy of logistic regression classifier on test set: {:.2f}'.format(boost.score(X_test, y_test)))"
   ]
  },
  {
   "cell_type": "code",
   "execution_count": null,
   "id": "c5e1028a",
   "metadata": {},
   "outputs": [],
   "source": [
    "print(confusion_matrix(y_test, y_pred_boost))\n",
    "print(classification_report(y_test, y_pred_boost))"
   ]
  },
  {
   "cell_type": "code",
   "execution_count": null,
   "id": "25cc83c5",
   "metadata": {},
   "outputs": [],
   "source": [
    "adaboost_roc_auc = roc_auc_score(y_test, boost.predict(X_test))\n",
    "fpr, tpr, thresholds = roc_curve(y_test, boost.predict_proba(X_test)[:,1])\n",
    "plt.figure(figsize = (10,7))\n",
    "plt.plot(fpr, tpr, label='Logistic Regression (area = %0.2f)' % adaboost_roc_auc)\n",
    "plt.plot([0, 1], [0, 1],'r--')\n",
    "plt.xlim([0.0, 1.0])\n",
    "plt.ylim([0.0, 1.05])\n",
    "plt.xlabel('False Positive Rate')\n",
    "plt.ylabel('True Positive Rate')\n",
    "plt.title('Receiver operating characteristic')\n",
    "plt.legend(loc=\"lower right\")\n",
    "plt.savefig('Log_ROC')\n",
    "plt.show()"
   ]
  },
  {
   "cell_type": "markdown",
   "id": "c2f24821",
   "metadata": {},
   "source": [
    "# Modeling with HistGradientBoosting"
   ]
  },
  {
   "cell_type": "code",
   "execution_count": null,
   "id": "970a4a09",
   "metadata": {},
   "outputs": [],
   "source": [
    "%%time\n",
    "\n",
    "# Initialise the model with Decision Tree classifier as the base model\n",
    "histGB = HistGradientBoostingClassifier(loss='binary_crossentropy', learning_rate=0.1, random_state = 10)\n",
    "\n",
    "#X_train_smaller = X_train.head(1000)\n",
    "#y_train_smaller = y_train.head(1000)\n",
    "\n",
    "# Fit on the entire data\n",
    "histGB.fit(X_train,y_train)\n",
    "\n",
    "y_pred_histGB = histGB.predict(X_test)\n",
    "y_pred_prob_histGB = histGB.predict_proba(X_test)\n",
    "\n",
    "print('Accuracy of logistic regression classifier on test set: {:.2f}'.format(histGB.score(X_test, y_test)))"
   ]
  },
  {
   "cell_type": "code",
   "execution_count": null,
   "id": "77e2ee1a",
   "metadata": {},
   "outputs": [],
   "source": [
    "print(confusion_matrix(y_test, y_pred_histGB))\n",
    "print(classification_report(y_test, y_pred_histGB))"
   ]
  },
  {
   "cell_type": "code",
   "execution_count": null,
   "id": "bd3b88e4",
   "metadata": {},
   "outputs": [],
   "source": [
    "histgb_roc_auc = roc_auc_score(y_test, histGB.predict(X_test))\n",
    "fpr, tpr, thresholds = roc_curve(y_test, histGB.predict_proba(X_test)[:,1])\n",
    "plt.figure(figsize = (10,7))\n",
    "plt.plot(fpr, tpr, label='Logistic Regression (area = %0.2f)' % histgb_roc_auc)\n",
    "plt.plot([0, 1], [0, 1],'r--')\n",
    "plt.xlim([0.0, 1.0])\n",
    "plt.ylim([0.0, 1.05])\n",
    "plt.xlabel('False Positive Rate')\n",
    "plt.ylabel('True Positive Rate')\n",
    "plt.title('Receiver operating characteristic')\n",
    "plt.legend(loc=\"lower right\")\n",
    "plt.savefig('Log_ROC')\n",
    "plt.show()"
   ]
  },
  {
   "cell_type": "markdown",
   "id": "28a61132",
   "metadata": {},
   "source": [
    "# Modeling with GradientBoosting"
   ]
  },
  {
   "cell_type": "code",
   "execution_count": null,
   "id": "65acabb2",
   "metadata": {},
   "outputs": [],
   "source": [
    "%%time\n",
    "\n",
    "# Initialise the model with Decision Tree classifier as the base model\n",
    "GB = GradientBoostingClassifier(loss='deviance', learning_rate=0.1,random_state = 10)\n",
    "\n",
    "#X_train_smaller = X_train.head(1000)\n",
    "#y_train_smaller = y_train.head(1000)\n",
    "\n",
    "# Fit on the entire data\n",
    "GB.fit(X_train, y_train)\n",
    "\n",
    "y_pred_GB = GB.predict(X_test)\n",
    "y_pred_prob_GB = GB.predict_proba(X_test)\n",
    "y_pred_prob_log_GB = GB.predict_log_proba(X_test)\n",
    "\n",
    "print('Accuracy of logistic regression classifier on test set: {:.2f}'.format(GB.score(X_test, y_test)))"
   ]
  },
  {
   "cell_type": "code",
   "execution_count": null,
   "id": "f1925bef",
   "metadata": {},
   "outputs": [],
   "source": [
    "print(confusion_matrix(y_test, y_pred_GB))\n",
    "print(classification_report(y_test, y_pred_GB))"
   ]
  },
  {
   "cell_type": "code",
   "execution_count": null,
   "id": "49d6490b",
   "metadata": {},
   "outputs": [],
   "source": [
    "gb_roc_auc = roc_auc_score(y_test, GB.predict(X_test))\n",
    "fpr, tpr, thresholds = roc_curve(y_test, GB.predict_proba(X_test)[:,1])\n",
    "plt.figure(figsize = (10,7))\n",
    "plt.plot(fpr, tpr, label='Logistic Regression (area = %0.2f)' % gb_roc_auc)\n",
    "plt.plot([0, 1], [0, 1],'r--')\n",
    "plt.xlim([0.0, 1.0])\n",
    "plt.ylim([0.0, 1.05])\n",
    "plt.xlabel('False Positive Rate')\n",
    "plt.ylabel('True Positive Rate')\n",
    "plt.title('Receiver operating characteristic')\n",
    "plt.legend(loc=\"lower right\")\n",
    "plt.savefig('Log_ROC')\n",
    "plt.show()"
   ]
  },
  {
   "cell_type": "markdown",
   "id": "04866bef",
   "metadata": {},
   "source": [
    "# Modeling with XGradientBoosting"
   ]
  },
  {
   "cell_type": "code",
   "execution_count": 40,
   "id": "04fd35d4",
   "metadata": {},
   "outputs": [
    {
     "name": "stdout",
     "output_type": "stream",
     "text": [
      "Requirement already satisfied: xgboost in /home/ec2-user/anaconda3/envs/tensorflow2_p36/lib/python3.6/site-packages (1.5.1)\n",
      "Requirement already satisfied: numpy in /home/ec2-user/anaconda3/envs/tensorflow2_p36/lib/python3.6/site-packages (from xgboost) (1.19.5)\n",
      "Requirement already satisfied: scipy in /home/ec2-user/anaconda3/envs/tensorflow2_p36/lib/python3.6/site-packages (from xgboost) (1.5.3)\n",
      "Note: you may need to restart the kernel to use updated packages.\n"
     ]
    }
   ],
   "source": [
    "%pip install xgboost"
   ]
  },
  {
   "cell_type": "code",
   "execution_count": 41,
   "id": "b2f70d76",
   "metadata": {},
   "outputs": [],
   "source": [
    "#import xgboost as xgb\n",
    "from sklearn.model_selection import cross_val_score\n",
    "from xgboost import XGBClassifier\n",
    "from sklearn.model_selection import train_test_split\n",
    "from sklearn.metrics import accuracy_score\n",
    "from sklearn.metrics import classification_report, confusion_matrix"
   ]
  },
  {
   "cell_type": "code",
   "execution_count": 42,
   "id": "39256094",
   "metadata": {},
   "outputs": [
    {
     "name": "stderr",
     "output_type": "stream",
     "text": [
      "/home/ec2-user/anaconda3/envs/tensorflow2_p36/lib/python3.6/site-packages/xgboost/sklearn.py:1224: UserWarning: The use of label encoder in XGBClassifier is deprecated and will be removed in a future release. To remove this warning, do the following: 1) Pass option use_label_encoder=False when constructing XGBClassifier object; and 2) Encode your labels (y) as integers starting with 0, i.e. 0, 1, 2, ..., [num_class - 1].\n",
      "  warnings.warn(label_encoder_deprecation_msg, UserWarning)\n"
     ]
    },
    {
     "name": "stdout",
     "output_type": "stream",
     "text": [
      "[03:48:42] WARNING: ../src/learner.cc:1115: Starting in XGBoost 1.3.0, the default evaluation metric used with the objective 'binary:logistic' was changed from 'error' to 'logloss'. Explicitly set eval_metric if you'd like to restore the old behavior.\n",
      "XGBClassifier(base_score=0.5, booster='gbtree', colsample_bylevel=1,\n",
      "              colsample_bynode=1, colsample_bytree=1, enable_categorical=False,\n",
      "              gamma=0, gpu_id=-1, importance_type=None,\n",
      "              interaction_constraints='', learning_rate=0.300000012,\n",
      "              max_delta_step=0, max_depth=6, min_child_weight=1, missing=nan,\n",
      "              monotone_constraints='()', n_estimators=100, n_jobs=48,\n",
      "              num_parallel_tree=1, predictor='auto', random_state=0,\n",
      "              reg_alpha=0, reg_lambda=1, scale_pos_weight=1, subsample=1,\n",
      "              tree_method='exact', validate_parameters=1, verbosity=None)\n",
      "CPU times: user 5h 28min 51s, sys: 5.65 s, total: 5h 28min 56s\n",
      "Wall time: 7min 2s\n"
     ]
    }
   ],
   "source": [
    "%%time\n",
    "\n",
    "# fit model no training data\n",
    "xgb_aus = XGBClassifier()\n",
    "xgb_aus.fit(X_train_aus, y_train_aus)\n",
    "\n",
    "print(xgb_aus)"
   ]
  },
  {
   "cell_type": "code",
   "execution_count": 43,
   "id": "fdeaea9a",
   "metadata": {},
   "outputs": [
    {
     "name": "stdout",
     "output_type": "stream",
     "text": [
      "[03:55:45] WARNING: ../src/learner.cc:1115: Starting in XGBoost 1.3.0, the default evaluation metric used with the objective 'binary:logistic' was changed from 'error' to 'logloss'. Explicitly set eval_metric if you'd like to restore the old behavior.\n",
      "XGBClassifier(base_score=0.5, booster='gbtree', colsample_bylevel=1,\n",
      "              colsample_bynode=1, colsample_bytree=1, enable_categorical=False,\n",
      "              gamma=0, gpu_id=-1, importance_type=None,\n",
      "              interaction_constraints='', learning_rate=0.300000012,\n",
      "              max_delta_step=0, max_depth=6, min_child_weight=1, missing=nan,\n",
      "              monotone_constraints='()', n_estimators=100, n_jobs=48,\n",
      "              num_parallel_tree=1, predictor='auto', random_state=0,\n",
      "              reg_alpha=0, reg_lambda=1, scale_pos_weight=1, subsample=1,\n",
      "              tree_method='exact', validate_parameters=1, verbosity=None)\n",
      "CPU times: user 6h 41min 57s, sys: 5.2 s, total: 6h 42min 2s\n",
      "Wall time: 8min 34s\n"
     ]
    }
   ],
   "source": [
    "%%time\n",
    "\n",
    "# fit model no training data\n",
    "xgb_hottake = XGBClassifier()\n",
    "xgb_hottake.fit(X_train_hottake, y_train_hottake)\n",
    "\n",
    "print(xgb_hottake)"
   ]
  },
  {
   "cell_type": "code",
   "execution_count": 44,
   "id": "f6e99b47",
   "metadata": {},
   "outputs": [],
   "source": [
    "y_pred_xgb_hottake = xgb_hottake.predict(X_test_hottake)\n",
    "y_pred_prob_xgb_hottake = xgb_hottake.predict_proba(X_test_hottake)\n",
    "\n",
    "y_pred_xgb_aus = xgb_aus.predict(X_test_aus)\n",
    "y_pred_prob_xgb_aus = xgb_aus.predict_proba(X_test_aus)"
   ]
  },
  {
   "cell_type": "code",
   "execution_count": 45,
   "id": "331bfcc3",
   "metadata": {},
   "outputs": [
    {
     "name": "stdout",
     "output_type": "stream",
     "text": [
      "Accuracy of XGBoost classifier on test set Hottake: 0.96\n",
      "Accuracy of XGBoost classifier on test set Australia: 0.96\n"
     ]
    }
   ],
   "source": [
    "print('Accuracy of XGBoost classifier on test set Hottake: {:.2f}'.format(xgb_hottake.score(X_test_hottake, y_test_hottake)))\n",
    "\n",
    "print('Accuracy of XGBoost classifier on test set Australia: {:.2f}'.format(xgb_aus.score(X_test_aus, y_test_aus)))"
   ]
  },
  {
   "cell_type": "code",
   "execution_count": 46,
   "id": "aba01651",
   "metadata": {},
   "outputs": [
    {
     "data": {
      "text/plain": [
       "array([[1831,    0],\n",
       "       [  71,    0]])"
      ]
     },
     "execution_count": 46,
     "metadata": {},
     "output_type": "execute_result"
    }
   ],
   "source": [
    "confusion_matrix(y_test_hottake, y_pred_xgb_hottake)"
   ]
  },
  {
   "cell_type": "code",
   "execution_count": 47,
   "id": "51f21960",
   "metadata": {},
   "outputs": [
    {
     "data": {
      "text/plain": [
       "array([[5377,    0],\n",
       "       [ 249,    0]])"
      ]
     },
     "execution_count": 47,
     "metadata": {},
     "output_type": "execute_result"
    }
   ],
   "source": [
    "confusion_matrix(y_test_aus, y_pred_xgb_aus)"
   ]
  },
  {
   "cell_type": "code",
   "execution_count": 48,
   "id": "946b857a",
   "metadata": {},
   "outputs": [
    {
     "name": "stdout",
     "output_type": "stream",
     "text": [
      "              precision    recall  f1-score   support\n",
      "\n",
      "           0       0.96      1.00      0.98      1831\n",
      "           1       0.00      0.00      0.00        71\n",
      "\n",
      "    accuracy                           0.96      1902\n",
      "   macro avg       0.48      0.50      0.49      1902\n",
      "weighted avg       0.93      0.96      0.94      1902\n",
      "\n"
     ]
    },
    {
     "name": "stderr",
     "output_type": "stream",
     "text": [
      "/home/ec2-user/anaconda3/envs/tensorflow2_p36/lib/python3.6/site-packages/sklearn/metrics/_classification.py:1245: UndefinedMetricWarning: Precision and F-score are ill-defined and being set to 0.0 in labels with no predicted samples. Use `zero_division` parameter to control this behavior.\n",
      "  _warn_prf(average, modifier, msg_start, len(result))\n",
      "/home/ec2-user/anaconda3/envs/tensorflow2_p36/lib/python3.6/site-packages/sklearn/metrics/_classification.py:1245: UndefinedMetricWarning: Precision and F-score are ill-defined and being set to 0.0 in labels with no predicted samples. Use `zero_division` parameter to control this behavior.\n",
      "  _warn_prf(average, modifier, msg_start, len(result))\n",
      "/home/ec2-user/anaconda3/envs/tensorflow2_p36/lib/python3.6/site-packages/sklearn/metrics/_classification.py:1245: UndefinedMetricWarning: Precision and F-score are ill-defined and being set to 0.0 in labels with no predicted samples. Use `zero_division` parameter to control this behavior.\n",
      "  _warn_prf(average, modifier, msg_start, len(result))\n"
     ]
    }
   ],
   "source": [
    "print(classification_report(y_test_hottake, y_pred_xgb_hottake))"
   ]
  },
  {
   "cell_type": "code",
   "execution_count": 49,
   "id": "4d0cea16",
   "metadata": {},
   "outputs": [
    {
     "name": "stdout",
     "output_type": "stream",
     "text": [
      "              precision    recall  f1-score   support\n",
      "\n",
      "           0       0.96      1.00      0.98      5377\n",
      "           1       0.00      0.00      0.00       249\n",
      "\n",
      "    accuracy                           0.96      5626\n",
      "   macro avg       0.48      0.50      0.49      5626\n",
      "weighted avg       0.91      0.96      0.93      5626\n",
      "\n"
     ]
    },
    {
     "name": "stderr",
     "output_type": "stream",
     "text": [
      "/home/ec2-user/anaconda3/envs/tensorflow2_p36/lib/python3.6/site-packages/sklearn/metrics/_classification.py:1245: UndefinedMetricWarning: Precision and F-score are ill-defined and being set to 0.0 in labels with no predicted samples. Use `zero_division` parameter to control this behavior.\n",
      "  _warn_prf(average, modifier, msg_start, len(result))\n",
      "/home/ec2-user/anaconda3/envs/tensorflow2_p36/lib/python3.6/site-packages/sklearn/metrics/_classification.py:1245: UndefinedMetricWarning: Precision and F-score are ill-defined and being set to 0.0 in labels with no predicted samples. Use `zero_division` parameter to control this behavior.\n",
      "  _warn_prf(average, modifier, msg_start, len(result))\n",
      "/home/ec2-user/anaconda3/envs/tensorflow2_p36/lib/python3.6/site-packages/sklearn/metrics/_classification.py:1245: UndefinedMetricWarning: Precision and F-score are ill-defined and being set to 0.0 in labels with no predicted samples. Use `zero_division` parameter to control this behavior.\n",
      "  _warn_prf(average, modifier, msg_start, len(result))\n"
     ]
    }
   ],
   "source": [
    "print(classification_report(y_test_aus, y_pred_xgb_aus))"
   ]
  },
  {
   "cell_type": "code",
   "execution_count": 50,
   "id": "730613dd",
   "metadata": {},
   "outputs": [
    {
     "data": {
      "image/png": "[encoded data removed]",
      "text/plain": [
       "<Figure size 720x504 with 1 Axes>"
      ]
     },
     "metadata": {},
     "output_type": "display_data"
    }
   ],
   "source": [
    "xgb_roc_auc_hottake = roc_auc_score(y_test_hottake, xgb_hottake.predict(X_test_hottake))\n",
    "fpr_hottake, tpr_hottake, _ = roc_curve(y_test_hottake, xgb_hottake.predict_proba(X_test_hottake)[:,1])\n",
    "\n",
    "xgb_roc_auc_aus = roc_auc_score(y_test_aus, xgb_aus.predict(X_test_aus))\n",
    "fpr_aus, tpr_aus, _ = roc_curve(y_test_aus, xgb_aus.predict_proba(X_test_aus)[:,1])\n",
    "\n",
    "\n",
    "plt.figure(figsize = (10,7))\n",
    "plt.plot(fpr_hottake, tpr_hottake, label='XGBoost on Hottake (area = %0.2f)' % xgb_roc_auc_hottake)\n",
    "plt.plot(fpr_aus, tpr_aus, label='XGBoost on Australia (area = %0.2f)' % xgb_roc_auc_aus)\n",
    "\n",
    "plt.plot([0, 1], [0, 1],'r--')\n",
    "plt.xlim([0.0, 1.0])\n",
    "plt.ylim([0.0, 1.05])\n",
    "plt.xlabel('False Positive Rate')\n",
    "plt.ylabel('True Positive Rate')\n",
    "plt.title('Receiver operating characteristic')\n",
    "plt.legend(loc=\"lower right\")\n",
    "plt.savefig('Log_ROC')\n",
    "plt.show()"
   ]
  },
  {
   "cell_type": "code",
   "execution_count": 52,
   "id": "707213d8",
   "metadata": {},
   "outputs": [
    {
     "data": {
      "image/png": "[encoded data removed]",
      "text/plain": [
       "<Figure size 720x504 with 1 Axes>"
      ]
     },
     "metadata": {},
     "output_type": "display_data"
    }
   ],
   "source": [
    "log_roc_auc_hottake = roc_auc_score(y_test_hottake, logreg_hottake.predict(X_test_hottake))\n",
    "fpr_hottake1, tpr_hottake1, _ = roc_curve(y_test_hottake, logreg_hottake.predict_proba(X_test_hottake)[:,1])\n",
    "\n",
    "log_roc_auc_aus = roc_auc_score(y_test_aus, logreg_aus.predict(X_test_aus))\n",
    "fpr_aus1, tpr_aus1, _ = roc_curve(y_test_aus, logreg_aus.predict_proba(X_test_aus)[:,1])\n",
    "\n",
    "rf_roc_auc_hottake = roc_auc_score(y_test_hottake, rmf_hottake.predict(X_test_hottake))\n",
    "fpr_hottake2, tpr_hottake2, _ = roc_curve(y_test_hottake, rmf_hottake.predict_proba(X_test_hottake)[:,1])\n",
    "\n",
    "rf_roc_auc_aus = roc_auc_score(y_test_aus, rmf_aus.predict(X_test_aus))\n",
    "fpr_aus2, tpr_aus2, _ = roc_curve(y_test_aus, rmf_aus.predict_proba(X_test_aus)[:,1])\n",
    "\n",
    "\n",
    "xgb_roc_auc_hottake = roc_auc_score(y_test_hottake, xgb_hottake.predict(X_test_hottake))\n",
    "fpr_hottake3, tpr_hottake3, _ = roc_curve(y_test_hottake, xgb_hottake.predict_proba(X_test_hottake)[:,1])\n",
    "\n",
    "xgb_roc_auc_aus = roc_auc_score(y_test_aus, xgb_aus.predict(X_test_aus))\n",
    "fpr_aus3, tpr_aus3, _ = roc_curve(y_test_aus, xgb_aus.predict_proba(X_test_aus)[:,1])\n",
    "\n",
    "\n",
    "plt.figure(figsize = (10,7))\n",
    "\n",
    "plt.plot(fpr_hottake1, tpr_hottake1, label='RF on Hottake (area = %0.2f)' % rf_roc_auc_hottake)\n",
    "plt.plot(fpr_aus1, tpr_aus1, label='RF on Australia (area = %0.2f)' % rf_roc_auc_aus)\n",
    "\n",
    "plt.plot(fpr_hottake2, tpr_hottake2, label='LogReg on Hottake (area = %0.2f)' % log_roc_auc_hottake)\n",
    "plt.plot(fpr_aus2, tpr_aus2, label='LogReg on Australia (area = %0.2f)' % log_roc_auc_aus)\n",
    "\n",
    "\n",
    "plt.plot(fpr_hottake3, tpr_hottake3, label='XGBoost on Hottake (area = %0.2f)' % xgb_roc_auc_hottake)\n",
    "plt.plot(fpr_aus3, tpr_aus3, label='XGBoost on Australia (area = %0.2f)' % xgb_roc_auc_aus)\n",
    "\n",
    "plt.plot([0, 1], [0, 1],'r--')\n",
    "plt.xlim([0.0, 1.0])\n",
    "plt.ylim([0.0, 1.05])\n",
    "plt.xlabel('False Positive Rate')\n",
    "plt.ylabel('True Positive Rate')\n",
    "plt.title('Receiver operating characteristic')\n",
    "plt.legend(loc=\"best\")\n",
    "plt.savefig('Log_ROC')\n",
    "plt.show()\n"
   ]
  },
  {
   "cell_type": "code",
   "execution_count": null,
   "id": "2e764b18",
   "metadata": {},
   "outputs": [],
   "source": []
  }
 ],
 "metadata": {
  "kernelspec": {
   "display_name": "conda_tensorflow2_p36",
   "language": "python",
   "name": "conda_tensorflow2_p36"
  },
  "language_info": {
   "codemirror_mode": {
    "name": "ipython",
    "version": 3
   },
   "file_extension": ".py",
   "mimetype": "text/x-python",
   "name": "python",
   "nbconvert_exporter": "python",
   "pygments_lexer": "ipython3",
   "version": "3.6.13"
  }
 },
 "nbformat": 4,
 "nbformat_minor": 5
}
