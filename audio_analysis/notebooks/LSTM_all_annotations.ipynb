{
 "cells": [
  {
   "cell_type": "markdown",
   "metadata": {
    "id": "zehYO0wtYz8f"
   },
   "source": [
    "## DWT LSTM model\n",
    "\n",
    "* Sliding window\n",
    "* All annotations"
   ]
  },
  {
   "cell_type": "code",
   "execution_count": 1,
   "metadata": {
    "colab": {
     "base_uri": "https://localhost:8080/"
    },
    "id": "cKe5JK4nrbFf",
    "outputId": "b2753e16-93df-47ef-a5ad-1738b973a5ed"
   },
   "outputs": [
    {
     "name": "stdout",
     "output_type": "stream",
     "text": [
      "Drive already mounted at /content/drive; to attempt to forcibly remount, call drive.mount(\"/content/drive\", force_remount=True).\n"
     ]
    }
   ],
   "source": [
    "from google.colab import drive\n",
    "drive.mount('/content/drive')"
   ]
  },
  {
   "cell_type": "code",
   "execution_count": 2,
   "metadata": {
    "id": "DJkBcN0yYz8l"
   },
   "outputs": [],
   "source": [
    "import numpy as np\n",
    "import matplotlib.pyplot as plt\n",
    "import pickle, os, sys\n",
    "import pandas as pd\n",
    "from tqdm import tqdm\n",
    "import tensorflow as tf\n",
    "import soundfile as sf\n",
    "from sklearn.model_selection import train_test_split\n",
    "from tensorflow import keras\n",
    "from tensorflow.keras import layers\n",
    "from tensorflow.python.keras.preprocessing.sequence import pad_sequences\n",
    "import librosa.display\n",
    "import librosa\n",
    "import torch\n",
    "import scipy.signal as sps\n",
    "import resampy\n",
    "\n",
    "repo_base_directory = os.path.dirname(os.getcwd())\n",
    "sys.path.append(repo_base_directory)\n",
    "from annotation_utils import discretize_all\n",
    "\n",
    "gpus = tf.config.experimental.list_physical_devices('GPU')\n",
    "for gpu in gpus:\n",
    "    tf.config.experimental.set_memory_growth(gpu, True)"
   ]
  },
  {
   "cell_type": "code",
   "execution_count": 3,
   "metadata": {
    "id": "M6arymApYz8o"
   },
   "outputs": [],
   "source": [
    "# ########################## PARAMETER DEFINITION ##########################\n",
    "\n",
    "#  ************************* Annotation parameters *************************\n",
    "combined_annotations_filepath = 'compiled_annotations_df.parquet'\n",
    "# combined_annotations_filepath = 'sample.parquet'\n",
    "audio_directory = '/content/drive/MyDrive/data-audio'\n",
    "SEGMENT_LENGTH = 2.5\n",
    "HOP_LENGTH = 0.5\n",
    "OVERLAP_THRESH = 0.5\n",
    "\n",
    "#  ************************ Augmentation parameters ************************\n",
    "N_AUGMENT_PER_CHUNK = 1\n",
    "SHUFFLE_SEED = 0\n",
    "SR = 22050 # Desired sample rate (if native sampling rate is different, will be resampled with resampy)\n",
    "\n",
    "#  ************************* Spectrogram parameters ************************\n",
    "# See: https://stackoverflow.com/questions/62584184/understanding-the-shape-of-spectrograms-and-n-mels\n",
    "# Number of mel-frequency bands in mel-spectrogram\n",
    "MEL_BINS = 50\n",
    "# Lowest and highest frequency (in Hz) to include in mel-scale\n",
    "F_MIN = 0\n",
    "F_MAX = 8000 # SR // 2\n",
    "\n",
    "# FFT_SIZE determines frequency resolution of the window\n",
    "# in speech processing, the recommended value is 512, corresponding to 23 milliseconds at SR of 22050 Hz\n",
    "# at SR of 44100, this equals 1024; see https://librosa.org/doc/main/generated/librosa.stft.html#librosa.stft\n",
    "FFT_SIZE = 1024\n",
    "FFT_HOP_LENGTH = FFT_SIZE // 4\n",
    "# Construct matrix to warp linear scale spectrogram to mel scale\n",
    "MEL_FILTERBANK = tf.signal.linear_to_mel_weight_matrix(num_mel_bins = MEL_BINS,\n",
    "                                                       num_spectrogram_bins = FFT_SIZE // 2 + 1,\n",
    "                                                       sample_rate = SR,\n",
    "                                                       lower_edge_hertz = F_MIN,\n",
    "                                                       upper_edge_hertz = F_MAX)"
   ]
  },
  {
   "cell_type": "code",
   "execution_count": 4,
   "metadata": {
    "id": "QT3YysrPYz8q"
   },
   "outputs": [],
   "source": [
    "def episode_id_to_audio(ep_id, ep_data, audio_directory):\n",
    "    episode_filepath = os.path.join(audio_directory, ep_id + ep_data['filetype'])\n",
    "    # fast: if prioritizing speed (over memory)\n",
    "    if ep_data['filetype'] == '.ogg': #.ogg read is faster in soundfile\n",
    "        audio, sr = sf.read(episode_filepath)\n",
    "        audio = np.mean(audio, axis=1)\n",
    "    elif ep_data['filetype'] == '.mp3': \n",
    "        #.mp3 not supported in soundfile, use audioread instead, used in backend of librosa:\n",
    "        # https://librosa.org/doc/main/_modules/librosa/core/audio.html#load\n",
    "        audio, sr = librosa.core.audio.__audioread_load(episode_filepath,\n",
    "                                                        offset = 0, duration = None, dtype=np.float32)  \n",
    "        audio = np.mean(audio, axis=0)\n",
    "    if sr != SR:\n",
    "        audio = resampy.resample(audio, sr, SR)\n",
    "    return audio, SR\n",
    "\n",
    "def episode_audio_to_audio_chunks(audio, audio_duration, segment_length, hop_length):\n",
    "    audio_chunks =  []\n",
    "    start_times = np.arange(0, audio_duration - segment_length, hop_length)\n",
    "    for s in start_times:\n",
    "        start_sample = librosa.time_to_samples(s, sr = SR)\n",
    "        end_sample = librosa.time_to_samples(s + segment_length, sr = SR)\n",
    "        sub_audio = audio[start_sample:end_sample]\n",
    "        audio_chunks.append(sub_audio)\n",
    "    audio_chunks = np.vstack(audio_chunks)\n",
    "    #audio_chunks = pad_sequences(audio_chunks, value = 0, padding = 'post')\n",
    "    return audio_chunks\n",
    "\n",
    "def discretized_dict_to_dataset(discretized_dict, audio_directory, segment_length, hop_length):\n",
    "    labels = []\n",
    "    audio_chunks = []\n",
    "    ep_ids = []; id2ep = {}; sample_rates = []\n",
    "    prints = [] # store print statements, so print all episode durations at once \n",
    "    \n",
    "    for idx, ep_id in enumerate(tqdm(discretized_dict)):\n",
    "        ep_data = discretized_dict[ep_id]\n",
    "        audio_duration = ep_data['audio_duration']\n",
    "        ep_audio, ep_sr = episode_id_to_audio(ep_id, ep_data, audio_directory)\n",
    "        ep_audio_chunks = episode_audio_to_audio_chunks(ep_audio, audio_duration, \n",
    "                                                        segment_length, hop_length)\n",
    "        labels.append(ep_data['y'])\n",
    "        audio_chunks.append(ep_audio_chunks)\n",
    "        ep_ids.extend([idx] * len(ep_audio_chunks))\n",
    "        id2ep[idx] = ep_id\n",
    "        sample_rates.append(ep_sr)\n",
    "        prints.append(f\"{ep_id} duration: {(len(ep_audio)/ep_sr)/60:.2f} mins \\n\")\n",
    "    labels = np.hstack(labels).reshape(-1,1)\n",
    "    audio_chunks = np.vstack(audio_chunks)\n",
    "    ep_ids = np.hstack(ep_ids).reshape(-1,1)\n",
    "    print(f\"Sample rates found: {np.unique(sample_rates)}\")\n",
    "    for p in prints:\n",
    "        print(p)\n",
    "    return audio_chunks, labels, ep_ids, id2ep\n",
    "\n",
    "def chunks_and_labels_to_dataset(audio_chunks, labels):\n",
    "    audio_ds = tf.data.Dataset.from_tensor_slices(audio_chunks)\n",
    "    label_ds = tf.data.Dataset.from_tensor_slices(labels)\n",
    "    return tf.data.Dataset.zip((audio_ds, label_ds))\n",
    "\n",
    "def audio_chunk_to_spectrogram(audio_chunk, mel_filterbank, frame_length, frame_step, sr = SR):\n",
    "    '''\n",
    "    References: \n",
    "    * https://towardsdatascience.com/how-to-easily-process-audio-on-your-gpu-with-tensorflow-2d9d91360f06\n",
    "    * https://gist.github.com/keunwoochoi/c9592922a17d71b745d47dc8eb7f0538\n",
    "    '''\n",
    "    # Cast waveform to float32\n",
    "    audio_chunk = tf.cast(audio_chunk, dtype=tf.float32)\n",
    "    # Convert waveform to spectrogram via STFT, and obtain magnitude\n",
    "    spectrograms = tf.signal.stft(audio_chunk, frame_length = frame_length, frame_step = frame_step)\n",
    "    magnitude_spectrograms = tf.abs(spectrograms)\n",
    "    mel_spectrograms = tf.matmul(tf.square(magnitude_spectrograms), mel_filterbank)\n",
    "    # Add channels axis:\n",
    "    mel_spectrograms = mel_spectrograms[..., tf.newaxis]\n",
    "    return mel_spectrograms\n",
    "\n",
    "def audio_batch_augmentor(audio_batch, torch_augmentor, sr = SR):\n",
    "    '''Augmentor that works on batches at train time'''\n",
    "    original_shape = audio_batch.shape\n",
    "    audio_batch = tf.expand_dims(audio_batch, axis = 1).numpy()\n",
    "    batch_aug = torch_augmentor(samples = torch.Tensor(audio_batch).detach(), sample_rate = sr)\n",
    "    batch_aug = tf.convert_to_tensor(batch_aug.squeeze().numpy())\n",
    "    batch_aug.set_shape(original_shape)\n",
    "    print(original_shape)\n",
    "    return batch_aug"
   ]
  },
  {
   "cell_type": "code",
   "execution_count": 5,
   "metadata": {
    "id": "agX9_yuzmKpU"
   },
   "outputs": [],
   "source": [
    "hottake_list = ['1jfWVd1sTapjjkQwDM4yQX',\n",
    "                '0pIwpmg5oPcMWJXVSyrx4E', \n",
    "                '2DCEgkjSeRQyMt8KovG8vF',\n",
    "                '7LxbgPH3grqf6lCpLKEwo7',\n",
    "                '7vxD3WNDRkigLnIDHyy0cu',\n",
    "                '7r367wUYs1EvyBbeyOcq39',\n",
    "                '0TkGYYIPwRqx8xzP0XGvRG']\n",
    "hot_take = ['0pIwpmg5oPcMWJXVSyrx4E.parquet',\n",
    "            '7vxD3WNDRkigLnIDHyy0cu.parquet',\n",
    "           '7r367wUYs1EvyBbeyOcq39.parquet',\n",
    "           '7LxbgPH3grqf6lCpLKEwo7.parquet',\n",
    "           '0TkGYYIPwRqx8xzP0XGvRG.parquet',\n",
    "           '2DCEgkjSeRQyMt8KovG8vF.parquet']\n",
    "compiled_annotations_df = pd.read_parquet(combined_annotations_filepath)\n",
    "new_df = compiled_annotations_df.loc[compiled_annotations_df['text'].isin(hottake_list)]\n",
    "new_df.to_parquet('sample.parquet')"
   ]
  },
  {
   "cell_type": "code",
   "execution_count": 6,
   "metadata": {
    "id": "Xk7q3k4DYz8s"
   },
   "outputs": [],
   "source": [
    "%%capture\n",
    "_, discretized_dict = discretize_all(combined_annotations_filepath, \n",
    "                                     audio_filepath = audio_directory,\n",
    "                                     segment_length = SEGMENT_LENGTH, \n",
    "                                     hop_length = HOP_LENGTH, \n",
    "                                     overlap_thresh = OVERLAP_THRESH)\n",
    "discretized_dict = discretized_dict['data']\n",
    "\n",
    "all_ep_ids = list(discretized_dict.keys())\n",
    "# train_ep_ids = [i for i in all_ep_ids if i != '1XgTQnRlfJ0zpDdg2DccbR']\n",
    "# test_ep_ids = ['1XgTQnRlfJ0zpDdg2DccbR'] #australian\n",
    "train_ep_ids = ['1jfWVd1sTapjjkQwDM4yQX', \n",
    "                '2DCEgkjSeRQyMt8KovG8vF',\n",
    "                '7LxbgPH3grqf6lCpLKEwo7',\n",
    "                '7vxD3WNDRkigLnIDHyy0cu',\n",
    "                '0TkGYYIPwRqx8xzP0XGvRG']\n",
    "\n",
    "test_ep_ids = ['0pIwpmg5oPcMWJXVSyrx4E','7r367wUYs1EvyBbeyOcq39'\n",
    "              #,'1XgTQnRlfJ0zpDdg2DccbR'\n",
    "              ]\n",
    "\n",
    "train_dict = { ep_id: discretized_dict[ep_id] for ep_id in train_ep_ids }\n",
    "test_dict = { ep_id: discretized_dict[ep_id] for ep_id in test_ep_ids }"
   ]
  },
  {
   "cell_type": "code",
   "execution_count": null,
   "metadata": {
    "colab": {
     "base_uri": "https://localhost:8080/"
    },
    "id": "rbBQI9Yit9fV",
    "outputId": "dd33a621-baa4-4132-f8a9-926d05569c2e"
   },
   "outputs": [
    {
     "data": {
      "text/plain": [
       "dict_keys(['6hoNS9LR1Lxb4EzMX72kXR', '79aiOALBohH9vEIUHPAoRj', '0pIwpmg5oPcMWJXVSyrx4E', '7LxbgPH3grqf6lCpLKEwo7', '7vxD3WNDRkigLnIDHyy0cu', '7r367wUYs1EvyBbeyOcq39', '0TkGYYIPwRqx8xzP0XGvRG', '1XgTQnRlfJ0zpDdg2DccbR', '2hgBlERSFYDWndqjWNOV6v', '1jfWVd1sTapjjkQwDM4yQX', '2DCEgkjSeRQyMt8KovG8vF'])"
      ]
     },
     "execution_count": 10,
     "metadata": {},
     "output_type": "execute_result"
    }
   ],
   "source": [
    "discretized_dict.keys()"
   ]
  },
  {
   "cell_type": "code",
   "execution_count": 7,
   "metadata": {
    "colab": {
     "base_uri": "https://localhost:8080/"
    },
    "id": "PGQb_zyCYz8t",
    "outputId": "74f1980c-acf9-4a97-8f07-30f5c99886fe"
   },
   "outputs": [
    {
     "name": "stdout",
     "output_type": "stream",
     "text": [
      "Loading train from raw audio...\n"
     ]
    },
    {
     "name": "stderr",
     "output_type": "stream",
     "text": [
      "100%|██████████| 5/5 [02:39<00:00, 31.88s/it]\n"
     ]
    },
    {
     "name": "stdout",
     "output_type": "stream",
     "text": [
      "Sample rates found: [22050]\n",
      "1jfWVd1sTapjjkQwDM4yQX duration: 5.95 mins \n",
      "\n",
      "2DCEgkjSeRQyMt8KovG8vF duration: 6.98 mins \n",
      "\n",
      "7LxbgPH3grqf6lCpLKEwo7 duration: 6.91 mins \n",
      "\n",
      "7vxD3WNDRkigLnIDHyy0cu duration: 7.76 mins \n",
      "\n",
      "0TkGYYIPwRqx8xzP0XGvRG duration: 25.12 mins \n",
      "\n",
      "Loading test from raw audio...\n"
     ]
    },
    {
     "name": "stderr",
     "output_type": "stream",
     "text": [
      "100%|██████████| 2/2 [00:49<00:00, 24.77s/it]\n"
     ]
    },
    {
     "name": "stdout",
     "output_type": "stream",
     "text": [
      "Sample rates found: [22050]\n",
      "0pIwpmg5oPcMWJXVSyrx4E duration: 8.25 mins \n",
      "\n",
      "7r367wUYs1EvyBbeyOcq39 duration: 7.68 mins \n",
      "\n"
     ]
    }
   ],
   "source": [
    "if os.path.exists('train.npy'):\n",
    "    with open('train.npy', 'rb') as f:\n",
    "        train_audio_chunks = np.load(f)\n",
    "        train_labels = np.load(f)\n",
    "        train_ep_ids = np.load(f)\n",
    "else:\n",
    "    print(\"Loading train from raw audio...\")\n",
    "    train_audio_chunks, train_labels, train_ep_ids, train_id2ep = discretized_dict_to_dataset(train_dict,\n",
    "                                                                                              audio_directory,\n",
    "                                                                                              SEGMENT_LENGTH, \n",
    "                                                                                              HOP_LENGTH)\n",
    "    with open('train.npy', 'wb') as f:\n",
    "        np.save(f, train_audio_chunks)\n",
    "        np.save(f, train_labels)\n",
    "        np.save(f, train_ep_ids)\n",
    "if os.path.exists('test.npy'):\n",
    "    with open('test.npy', 'rb') as f:\n",
    "        test_audio_chunks = np.load(f)\n",
    "        test_labels = np.load(f)\n",
    "        test_ep_ids = np.load(f)\n",
    "else:\n",
    "    print(\"Loading test from raw audio...\")\n",
    "    test_audio_chunks, test_labels, test_ep_ids, test_id2ep = discretized_dict_to_dataset(test_dict,\n",
    "                                                                                          audio_directory,\n",
    "                                                                                          SEGMENT_LENGTH,\n",
    "                                                                                          HOP_LENGTH)\n",
    "    with open('test.npy', 'wb') as f:\n",
    "        np.save(f, test_audio_chunks)\n",
    "        np.save(f, test_labels)\n",
    "        np.save(f, test_ep_ids)"
   ]
  },
  {
   "cell_type": "code",
   "execution_count": 8,
   "metadata": {
    "colab": {
     "base_uri": "https://localhost:8080/"
    },
    "id": "hR4ciuWDYz8x",
    "outputId": "03521938-ada1-44fd-d210-490474aef8ec",
    "scrolled": true
   },
   "outputs": [
    {
     "name": "stdout",
     "output_type": "stream",
     "text": [
      "Num GPUs Available:  1\n"
     ]
    }
   ],
   "source": [
    "print(\"Num GPUs Available: \", len(tf.config.list_physical_devices('GPU')))"
   ]
  },
  {
   "cell_type": "code",
   "execution_count": 9,
   "metadata": {
    "colab": {
     "base_uri": "https://localhost:8080/"
    },
    "id": "s9Eejjo1Yz8y",
    "outputId": "1b97f6a6-c8cd-4346-d855-4f8872fa4cb8"
   },
   "outputs": [
    {
     "name": "stdout",
     "output_type": "stream",
     "text": [
      "X_train: (5043, 55125)\n",
      "y_train: (5043, 1)\n",
      "X_val: (1261, 55125)\n",
      "y_val: (1261, 1)\n",
      "X_test: (1902, 55125)\n",
      "y_test: (1902, 1)\n"
     ]
    }
   ],
   "source": [
    "with tf.device('/cpu:0'):\n",
    "    # High batch size is important for imbalanced classes\n",
    "    BATCH_SIZE = 32\n",
    "    X_train, X_val, y_train, y_val = train_test_split(train_audio_chunks, train_labels, \n",
    "                                                      test_size = 0.2,\n",
    "                                                      #stratify = np.hstack([train_ep_ids, train_labels]),\n",
    "                                                      #shuffle = True,\n",
    "                                                      random_state = 46)\n",
    "\n",
    "    X_test, y_test = test_audio_chunks, test_labels\n",
    "\n",
    "    print(f\"X_train: {X_train.shape}\")\n",
    "    print(f\"y_train: {y_train.shape}\")\n",
    "\n",
    "    print(f\"X_val: {X_val.shape}\")\n",
    "    print(f\"y_val: {y_val.shape}\")\n",
    "\n",
    "    print(f\"X_test: {X_test.shape}\")\n",
    "    print(f\"y_test: {y_test.shape}\")\n",
    "\n",
    "    train_ds = chunks_and_labels_to_dataset(X_train, y_train)\n",
    "    train_ds = train_ds.batch(BATCH_SIZE)\n",
    "\n",
    "    val_ds = chunks_and_labels_to_dataset(X_val, y_val)\n",
    "    val_ds = val_ds.batch(BATCH_SIZE)\n"
   ]
  },
  {
   "cell_type": "code",
   "execution_count": 10,
   "metadata": {
    "id": "3Eu-gLj0nopR"
   },
   "outputs": [],
   "source": [
    "X_train_lstm = X_train.reshape(X_train.shape[0],1,X_train.shape[1])\n",
    "X_val_lstm = X_val.reshape(X_val.shape[0],1,X_val.shape[1])"
   ]
  },
  {
   "cell_type": "code",
   "execution_count": 11,
   "metadata": {
    "colab": {
     "base_uri": "https://localhost:8080/"
    },
    "id": "5VM2gC40qH2x",
    "outputId": "d3475aa7-42d5-4435-cbc3-c76a5f3fa59a"
   },
   "outputs": [
    {
     "data": {
      "text/plain": [
       "array([[[ 5.89601123e-02,  7.50580847e-02,  4.43507942e-02, ...,\n",
       "          3.24792283e-02,  3.56079712e-02,  1.57976491e-02]],\n",
       "\n",
       "       [[-4.30066793e-04, -3.59862660e-04, -4.49669851e-04, ...,\n",
       "         -4.30713751e-03, -3.85383280e-03, -3.67192425e-03]],\n",
       "\n",
       "       [[-9.00224724e-02, -8.70727002e-02, -8.23945931e-02, ...,\n",
       "         -2.38217649e-01, -2.43135351e-01, -2.46086007e-01]],\n",
       "\n",
       "       ...,\n",
       "\n",
       "       [[-1.07723017e-02, -8.23710292e-03, -3.24836894e-03, ...,\n",
       "         -1.36312646e-02,  1.38503169e-02,  9.84489431e-03]],\n",
       "\n",
       "       [[-9.56013220e-04, -1.99557276e-04, -2.56289247e-03, ...,\n",
       "          1.66881490e-02,  2.20008181e-02,  2.75003350e-02]],\n",
       "\n",
       "       [[ 2.15445591e-03,  7.38589421e-04,  7.74351819e-05, ...,\n",
       "         -1.53149357e-01, -1.05795869e-01, -1.29043649e-02]]])"
      ]
     },
     "execution_count": 11,
     "metadata": {},
     "output_type": "execute_result"
    }
   ],
   "source": [
    "X_val_lstm"
   ]
  },
  {
   "cell_type": "code",
   "execution_count": 12,
   "metadata": {
    "id": "LsXbHIgdn8Ic"
   },
   "outputs": [],
   "source": [
    "from keras.models import Sequential\n",
    "from keras.layers import LSTM\n",
    "from keras.layers import Dense\n",
    "from keras.layers import Bidirectional\n",
    "import tensorflow as tf\n",
    "from sklearn.metrics import confusion_matrix, classification_report\n",
    "from sklearn.metrics import confusion_matrix, classification_report, roc_auc_score,roc_curve\n",
    "\n",
    "# split a multivariate sequence into samples\n",
    "n_steps = 5\n",
    "EPOCHS = 30\n",
    "metrics = ['accuracy', \n",
    "           tf.keras.metrics.Precision(name = 'precision'),\n",
    "           tf.keras.metrics.Recall(name = 'recall'),\n",
    "           tf.keras.metrics.AUC(name = 'prc', curve = 'PR')]"
   ]
  },
  {
   "cell_type": "code",
   "execution_count": 13,
   "metadata": {
    "colab": {
     "base_uri": "https://localhost:8080/"
    },
    "id": "IHx1iozqn9UU",
    "outputId": "4d93f009-37f9-4da9-f1f2-3ff50055c25a"
   },
   "outputs": [
    {
     "name": "stdout",
     "output_type": "stream",
     "text": [
      "WARNING:tensorflow:Layer lstm will not use cuDNN kernels since it doesn't meet the criteria. It will use a generic GPU kernel as fallback when running on GPU.\n",
      "WARNING:tensorflow:Layer lstm will not use cuDNN kernels since it doesn't meet the criteria. It will use a generic GPU kernel as fallback when running on GPU.\n",
      "WARNING:tensorflow:Layer lstm will not use cuDNN kernels since it doesn't meet the criteria. It will use a generic GPU kernel as fallback when running on GPU.\n"
     ]
    }
   ],
   "source": [
    "# define model\n",
    "model = Sequential()\n",
    "model.add(Bidirectional(LSTM(100, activation='relu', input_shape=(1, X_train.shape[1]))))\n",
    "model.add(Dense(1, activation='sigmoid'))\n",
    "model.compile(loss='binary_crossentropy', optimizer='adam', metrics=metrics)\n",
    "# fit model\n",
    "history = model.fit(X_train_lstm, y_train, epochs=EPOCHS, verbose=0)"
   ]
  },
  {
   "cell_type": "code",
   "execution_count": 14,
   "metadata": {
    "id": "LD7pLx5IoBZL"
   },
   "outputs": [],
   "source": [
    "yhat = model.predict(X_test.reshape(X_test.shape[0],1,X_test.shape[1]), verbose=0)"
   ]
  },
  {
   "cell_type": "code",
   "execution_count": 15,
   "metadata": {
    "colab": {
     "base_uri": "https://localhost:8080/"
    },
    "id": "onCV9ckawEsc",
    "outputId": "b11ba19d-021e-4cdb-aa78-89f6244cf9b1"
   },
   "outputs": [
    {
     "data": {
      "text/plain": [
       "array([[1.1306114e-06],\n",
       "       [7.0265983e-03],\n",
       "       [1.4865710e-09],\n",
       "       ...,\n",
       "       [9.6267264e-08],\n",
       "       [1.2997890e-01],\n",
       "       [1.4516036e-01]], dtype=float32)"
      ]
     },
     "execution_count": 15,
     "metadata": {},
     "output_type": "execute_result"
    }
   ],
   "source": [
    "yhat"
   ]
  },
  {
   "cell_type": "code",
   "execution_count": 16,
   "metadata": {
    "id": "1NHknNSwoDtF"
   },
   "outputs": [],
   "source": [
    "yhat_pred = np.where(yhat>0.5, 1, 0).flatten()\n",
    "#print(yhat_pred)"
   ]
  },
  {
   "cell_type": "code",
   "execution_count": 17,
   "metadata": {
    "colab": {
     "base_uri": "https://localhost:8080/"
    },
    "id": "CF2eP1HGoF5F",
    "outputId": "7e79760e-3d9f-43c0-b218-da914896f4e2"
   },
   "outputs": [
    {
     "name": "stdout",
     "output_type": "stream",
     "text": [
      "              precision    recall  f1-score   support\n",
      "\n",
      "           0       0.97      0.91      0.94      1831\n",
      "           1       0.07      0.15      0.09        71\n",
      "\n",
      "    accuracy                           0.89      1902\n",
      "   macro avg       0.52      0.53      0.52      1902\n",
      "weighted avg       0.93      0.89      0.91      1902\n",
      "\n"
     ]
    }
   ],
   "source": [
    "print(classification_report(y_test, yhat_pred))"
   ]
  },
  {
   "cell_type": "code",
   "execution_count": 18,
   "metadata": {
    "colab": {
     "base_uri": "https://localhost:8080/"
    },
    "id": "NPuk0AdJoIEE",
    "outputId": "cb1f6568-22a3-4ec9-f23d-2834edab71be"
   },
   "outputs": [
    {
     "name": "stdout",
     "output_type": "stream",
     "text": [
      "[[1673  158]\n",
      " [  60   11]]\n"
     ]
    }
   ],
   "source": [
    "print(confusion_matrix(y_test, yhat_pred))"
   ]
  },
  {
   "cell_type": "code",
   "execution_count": 19,
   "metadata": {
    "colab": {
     "base_uri": "https://localhost:8080/",
     "height": 458
    },
    "id": "WlzFi0aEoKSL",
    "outputId": "f8c73cef-2c02-494f-911b-d8857fdd2c50"
   },
   "outputs": [
    {
     "data": {
      "image/png": "[encoded data removed]",
      "text/plain": [
       "<Figure size 720x504 with 1 Axes>"
      ]
     },
     "metadata": {
      "needs_background": "light"
     },
     "output_type": "display_data"
    }
   ],
   "source": [
    "logit_roc_auc = roc_auc_score(y_test, yhat_pred)\n",
    "fpr, tpr, thresholds = roc_curve(y_test, yhat_pred)\n",
    "plt.figure(figsize = (10,7))\n",
    "plt.plot(fpr, tpr, label='LSTM (area = %0.2f)' % logit_roc_auc)\n",
    "plt.plot([0, 1], [0, 1],'r--')\n",
    "plt.xlim([0.0, 1.0])\n",
    "plt.ylim([0.0, 1.05])\n",
    "plt.xlabel('False Positive Rate')\n",
    "plt.ylabel('True Positive Rate')\n",
    "plt.title('Receiver operating characteristic')\n",
    "plt.legend(loc=\"lower right\")\n",
    "plt.savefig('Log_ROC')\n",
    "plt.show()"
   ]
  },
  {
   "cell_type": "code",
   "execution_count": null,
   "metadata": {
    "id": "1aT2G7wgv9sf"
   },
   "outputs": [],
   "source": []
  }
 ],
 "metadata": {
  "accelerator": "GPU",
  "colab": {
   "name": "LSTM_all_annotations.ipynb",
   "provenance": []
  },
  "kernelspec": {
   "display_name": "Python 3",
   "language": "python",
   "name": "python3"
  },
  "language_info": {
   "codemirror_mode": {
    "name": "ipython",
    "version": 3
   },
   "file_extension": ".py",
   "mimetype": "text/x-python",
   "name": "python",
   "nbconvert_exporter": "python",
   "pygments_lexer": "ipython3",
   "version": "3.7.4"
  }
 },
 "nbformat": 4,
 "nbformat_minor": 1
}
