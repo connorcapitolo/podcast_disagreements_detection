{
 "cells": [
  {
   "cell_type": "markdown",
   "metadata": {},
   "source": [
    "### Notebook purpose:\n",
    "Defining what it means for a timestamped window (start, end) to be labeled as \"y=1\" i.e. disagreement."
   ]
  },
  {
   "cell_type": "code",
   "execution_count": 1,
   "metadata": {},
   "outputs": [],
   "source": [
    "import seaborn as sns\n",
    "import sys, os\n",
    "import pandas as pd\n",
    "import matplotlib.pyplot as plt\n",
    "import pickle\n",
    "import numpy as np\n",
    "\n",
    "# import common analysis functions we've defined\n",
    "parent_directory = os.path.dirname(os.path.dirname(os.getcwd()))\n",
    "sys.path.append(parent_directory)\n",
    "from common.annotation_utils import tp, get_union, plot_annotations"
   ]
  },
  {
   "cell_type": "code",
   "execution_count": 2,
   "metadata": {},
   "outputs": [
    {
     "name": "stdout",
     "output_type": "stream",
     "text": [
      "Disagreement windows: [(2.37,4.12), (9.32,11.27), (27.67,29.22)]\n",
      "\n",
      "Type of each window: <class 'common.annotation_utils.tp'>\n"
     ]
    }
   ],
   "source": [
    "file_to_read = open(\"../outputs/unioned_annotations_dict.pkl\", \"rb\")\n",
    "unioned_annotations_dict = pickle.load(file_to_read)\n",
    "\n",
    "# Print first entry of dictionary, to get sense of format\n",
    "example_disagreements = unioned_annotations_dict[list(unioned_annotations_dict.keys())[0]]\n",
    "print(f\"Disagreement windows: {example_disagreements}\\n\")\n",
    "print(f\"Type of each window: {type(example_disagreements[0])}\")"
   ]
  },
  {
   "cell_type": "code",
   "execution_count": 3,
   "metadata": {},
   "outputs": [
    {
     "name": "stdout",
     "output_type": "stream",
     "text": [
      "Example disagreement: (2.37,4.12)\n"
     ]
    }
   ],
   "source": [
    "example_disagreement = example_disagreements[0]\n",
    "print(f\"Example disagreement: {example_disagreement}\")"
   ]
  },
  {
   "cell_type": "code",
   "execution_count": 4,
   "metadata": {},
   "outputs": [
    {
     "name": "stdout",
     "output_type": "stream",
     "text": [
      "Example window: (0.00,2.00)\n",
      "Disagreement window: (2.37,4.12)\n",
      "Overlap proportion: 0\n",
      "\n",
      "Example window: (0.00,2.37)\n",
      "Disagreement window: (2.37,4.12)\n",
      "Overlap proportion: 0.0\n",
      "\n",
      "Example window: (0.00,3.00)\n",
      "Disagreement window: (2.37,4.12)\n",
      "Overlap proportion: 0.20834459280000006\n",
      "\n",
      "Example window: (0.00,4.12)\n",
      "Disagreement window: (2.37,4.12)\n",
      "Overlap proportion: 0.42424242423507796\n",
      "\n",
      "Example window: (0.00,5.00)\n",
      "Disagreement window: (2.37,4.12)\n",
      "Overlap proportion: 0.34999502212\n",
      "\n",
      "Example window: (2.37,3.00)\n",
      "Disagreement window: (2.37,4.12)\n",
      "Overlap proportion: 1.0\n",
      "\n",
      "Example window: (2.37,4.12)\n",
      "Disagreement window: (2.37,4.12)\n",
      "Overlap proportion: 1.0\n",
      "\n",
      "Example window: (2.37,5.00)\n",
      "Disagreement window: (2.37,4.12)\n",
      "Overlap proportion: 0.6666486065816027\n",
      "\n",
      "Example window: (3.00,4.00)\n",
      "Disagreement window: (2.37,4.12)\n",
      "Overlap proportion: 1.0\n",
      "\n",
      "Example window: (3.00,4.12)\n",
      "Disagreement window: (2.37,4.12)\n",
      "Overlap proportion: 1.0\n",
      "\n",
      "Example window: (3.00,5.00)\n",
      "Disagreement window: (2.37,4.12)\n",
      "Overlap proportion: 0.5624706660999998\n",
      "\n",
      "Example window: (4.12,5.00)\n",
      "Disagreement window: (2.37,4.12)\n",
      "Overlap proportion: 0.0\n",
      "\n",
      "Example window: (5.00,10.00)\n",
      "Disagreement window: (2.37,4.12)\n",
      "Overlap proportion: 0\n",
      "\n"
     ]
    }
   ],
   "source": [
    "# try different windows\n",
    "# possible types are:\n",
    "# 1. window ends before annotation start\n",
    "# 2. window starts before annotation start, ends at annotation start\n",
    "# 3. window starts before annotation start, ends between annotation start and end\n",
    "# 4. window starts before annotation start, ends at annotation end\n",
    "# 5. window starts before annotation start, ends after annotation end\n",
    "# 6. window starts at annotation start, ends between annotation start and end\n",
    "# 7. window starts at annotation start, ends at annotation end\n",
    "# 8. window starts at annotation start, ends after annotation end\n",
    "# 9. window starts after annotation start, ends between annotation start and end\n",
    "# 10. window starts after annotation start, ends at annotation end\n",
    "# 11. window starts after annotation start, ends after annotation end\n",
    "# 12. window starts at annotation end, ends after annotation end\n",
    "# 13. window starts after annotation end\n",
    "\n",
    "unit_tests = [tp(0, 2), \n",
    "              tp(0, example_disagreement.start), \n",
    "              tp(0, 3), \n",
    "              tp(0, example_disagreement.end), \n",
    "              tp(0, 5), \n",
    "              tp(example_disagreement.start, 3), \n",
    "              tp(example_disagreement.start, example_disagreement.end), \n",
    "              tp(example_disagreement.start, 5), \n",
    "              tp(3, 4), \n",
    "              tp(3, example_disagreement.end), \n",
    "              tp(3, 5), \n",
    "              tp(example_disagreement.end, 5), \n",
    "              tp(5,10)]\n",
    "\n",
    "def get_overlap(tp1, tp2):\n",
    "    if (tp1.start <= tp2.end) and (tp2.start <= tp1.end):\n",
    "        latest_start = max(tp1.start, tp2.start)\n",
    "        earliest_end = min(tp1.end, tp2.end)\n",
    "        delta = (earliest_end - latest_start)\n",
    "        return delta / (tp1.end - tp1.start)\n",
    "    else:\n",
    "        return 0\n",
    "\n",
    "for i in unit_tests:\n",
    "    print(f\"Example window: {i}\")\n",
    "    print(f\"Disagreement window: {example_disagreement}\")\n",
    "    overlap_proportion = get_overlap(i, example_disagreement)\n",
    "    print(f\"Overlap proportion: {overlap_proportion}\")\n",
    "    print(\"\")"
   ]
  },
  {
   "cell_type": "code",
   "execution_count": 5,
   "metadata": {},
   "outputs": [
    {
     "name": "stdout",
     "output_type": "stream",
     "text": [
      "0.3333333333333333\n",
      "0.5\n"
     ]
    }
   ],
   "source": [
    "# Note that order matters in get_overlap: it's relative to the first argument\n",
    "print(get_overlap(tp(0, 3), tp(2, 4)))\n",
    "print(get_overlap(tp(2, 4), tp(0, 3)))"
   ]
  },
  {
   "cell_type": "markdown",
   "metadata": {},
   "source": [
    "## Testing the implementation in tp() class:"
   ]
  },
  {
   "cell_type": "code",
   "execution_count": 10,
   "metadata": {},
   "outputs": [
    {
     "name": "stdout",
     "output_type": "stream",
     "text": [
      "Example window: (0.00,2.00)\n",
      "Disagreement window: (2.37,4.12)\n",
      "Overlap proportion: 0\n",
      "False\n",
      "\n",
      "Example window: (0.00,2.37)\n",
      "Disagreement window: (2.37,4.12)\n",
      "Overlap proportion: 0.0\n",
      "False\n",
      "\n",
      "Example window: (0.00,3.00)\n",
      "Disagreement window: (2.37,4.12)\n",
      "Overlap proportion: 0.20834459280000006\n",
      "True\n",
      "\n",
      "Example window: (0.00,4.12)\n",
      "Disagreement window: (2.37,4.12)\n",
      "Overlap proportion: 0.42424242423507796\n",
      "True\n",
      "\n",
      "Example window: (0.00,5.00)\n",
      "Disagreement window: (2.37,4.12)\n",
      "Overlap proportion: 0.34999502212\n",
      "True\n",
      "\n",
      "Example window: (2.37,3.00)\n",
      "Disagreement window: (2.37,4.12)\n",
      "Overlap proportion: 1.0\n",
      "True\n",
      "\n",
      "Example window: (2.37,4.12)\n",
      "Disagreement window: (2.37,4.12)\n",
      "Overlap proportion: 1.0\n",
      "True\n",
      "\n",
      "Example window: (2.37,5.00)\n",
      "Disagreement window: (2.37,4.12)\n",
      "Overlap proportion: 0.6666486065816027\n",
      "True\n",
      "\n",
      "Example window: (3.00,4.00)\n",
      "Disagreement window: (2.37,4.12)\n",
      "Overlap proportion: 1.0\n",
      "True\n",
      "\n",
      "Example window: (3.00,4.12)\n",
      "Disagreement window: (2.37,4.12)\n",
      "Overlap proportion: 1.0\n",
      "True\n",
      "\n",
      "Example window: (3.00,5.00)\n",
      "Disagreement window: (2.37,4.12)\n",
      "Overlap proportion: 0.5624706660999998\n",
      "True\n",
      "\n",
      "Example window: (4.12,5.00)\n",
      "Disagreement window: (2.37,4.12)\n",
      "Overlap proportion: 0.0\n",
      "False\n",
      "\n",
      "Example window: (5.00,10.00)\n",
      "Disagreement window: (2.37,4.12)\n",
      "Overlap proportion: 0\n",
      "False\n",
      "\n"
     ]
    }
   ],
   "source": [
    "for i in unit_tests:\n",
    "    print(f\"Example window: {i}\")\n",
    "    print(f\"Disagreement window: {example_disagreement}\")\n",
    "    print(f\"Overlap proportion: {i.overlap(example_disagreement)}\")\n",
    "    print(example_disagreement in i)\n",
    "    print(\"\")"
   ]
  }
 ],
 "metadata": {
  "kernelspec": {
   "display_name": "Python 3",
   "language": "python",
   "name": "python3"
  },
  "language_info": {
   "codemirror_mode": {
    "name": "ipython",
    "version": 3
   },
   "file_extension": ".py",
   "mimetype": "text/x-python",
   "name": "python",
   "nbconvert_exporter": "python",
   "pygments_lexer": "ipython3",
   "version": "3.8.11"
  }
 },
 "nbformat": 4,
 "nbformat_minor": 4
}
